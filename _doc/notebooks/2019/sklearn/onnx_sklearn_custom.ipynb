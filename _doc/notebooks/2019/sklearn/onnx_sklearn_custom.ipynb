{
  "cells": [
    {
      "cell_type": "markdown",
      "metadata": {
        "slideshow": {
          "slide_type": "slide"
        }
      },
      "source": [
        "# Convert custom transformer into ONNX\n",
        "\n",
        "The notebook explains how to create a converter for a custom transformer following [scikit-learn](https://scikit-learn.org/stable/) API.\n",
        "\n",
        "**Xavier Dupr\u00e9** - Senior Data Scientist at Microsoft - Computer Science Teacher at [ENSAE](http://www.ensae.fr/), [github/xadupre](https://github.com/xadupre), [github/sdpython](https://github.com/sdpython). "
      ]
    },
    {
      "cell_type": "code",
      "execution_count": 1,
      "metadata": {
        "slideshow": {
          "slide_type": "subslide"
        }
      },
      "outputs": [
        {
          "data": {
            "text/html": [
              "<div id=\"my_id_menu_nb\">run previous cell, wait for 2 seconds</div>\n",
              "<script>\n",
              "function repeat_indent_string(n){\n",
              "    var a = \"\" ;\n",
              "    for ( ; n > 0 ; --n)\n",
              "        a += \"    \";\n",
              "    return a;\n",
              "}\n",
              "// look up into all sections and builds an automated menu //\n",
              "var update_menu_string = function(begin, lfirst, llast, sformat, send, keep_item, begin_format, end_format) {\n",
              "    var anchors = document.getElementsByClassName(\"section\");\n",
              "    if (anchors.length == 0) {\n",
              "        anchors = document.getElementsByClassName(\"text_cell_render rendered_html\");\n",
              "    }\n",
              "    var i,t;\n",
              "    var text_menu = begin;\n",
              "    var text_memo = \"<pre>\\nlength:\" + anchors.length + \"\\n\";\n",
              "    var ind = \"\";\n",
              "    var memo_level = 1;\n",
              "    var href;\n",
              "    var tags = [];\n",
              "    var main_item = 0;\n",
              "    var format_open = 0;\n",
              "    for (i = 0; i <= llast; i++)\n",
              "        tags.push(\"h\" + i);\n",
              "\n",
              "    for (i = 0; i < anchors.length; i++) {\n",
              "        text_memo += \"**\" + anchors[i].id + \"--\\n\";\n",
              "\n",
              "        var child = null;\n",
              "        for(t = 0; t < tags.length; t++) {\n",
              "            var r = anchors[i].getElementsByTagName(tags[t]);\n",
              "            if (r.length > 0) {\n",
              "child = r[0];\n",
              "break;\n",
              "            }\n",
              "        }\n",
              "        if (child == null) {\n",
              "            text_memo += \"null\\n\";\n",
              "            continue;\n",
              "        }\n",
              "        if (anchors[i].hasAttribute(\"id\")) {\n",
              "            // when converted in RST\n",
              "            href = anchors[i].id;\n",
              "            text_memo += \"#1-\" + href;\n",
              "            // passer \u00e0 child suivant (le chercher)\n",
              "        }\n",
              "        else if (child.hasAttribute(\"id\")) {\n",
              "            // in a notebook\n",
              "            href = child.id;\n",
              "            text_memo += \"#2-\" + href;\n",
              "        }\n",
              "        else {\n",
              "            text_memo += \"#3-\" + \"*\" + \"\\n\";\n",
              "            continue;\n",
              "        }\n",
              "        var title = child.textContent;\n",
              "        var level = parseInt(child.tagName.substring(1,2));\n",
              "\n",
              "        text_memo += \"--\" + level + \"?\" + lfirst + \"--\" + title + \"\\n\";\n",
              "\n",
              "        if ((level < lfirst) || (level > llast)) {\n",
              "            continue ;\n",
              "        }\n",
              "        if (title.endsWith('\u00b6')) {\n",
              "            title = title.substring(0,title.length-1).replace(\"<\", \"&lt;\")\n",
              "         .replace(\">\", \"&gt;\").replace(\"&\", \"&amp;\");\n",
              "        }\n",
              "        if (title.length == 0) {\n",
              "            continue;\n",
              "        }\n",
              "\n",
              "        while (level < memo_level) {\n",
              "            text_menu += end_format + \"</ul>\\n\";\n",
              "            format_open -= 1;\n",
              "            memo_level -= 1;\n",
              "        }\n",
              "        if (level == lfirst) {\n",
              "            main_item += 1;\n",
              "        }\n",
              "        if (keep_item != -1 && main_item != keep_item + 1) {\n",
              "            // alert(main_item + \" - \" + level + \" - \" + keep_item);\n",
              "            continue;\n",
              "        }\n",
              "        while (level > memo_level) {\n",
              "            text_menu += \"<ul>\\n\";\n",
              "            memo_level += 1;\n",
              "        }\n",
              "        text_menu += repeat_indent_string(level-2);\n",
              "        text_menu += begin_format + sformat.replace(\"__HREF__\", href).replace(\"__TITLE__\", title);\n",
              "        format_open += 1;\n",
              "    }\n",
              "    while (1 < memo_level) {\n",
              "        text_menu += end_format + \"</ul>\\n\";\n",
              "        memo_level -= 1;\n",
              "        format_open -= 1;\n",
              "    }\n",
              "    text_menu += send;\n",
              "    //text_menu += \"\\n\" + text_memo;\n",
              "\n",
              "    while (format_open > 0) {\n",
              "        text_menu += end_format;\n",
              "        format_open -= 1;\n",
              "    }\n",
              "    return text_menu;\n",
              "};\n",
              "var update_menu = function() {\n",
              "    var sbegin = \"\";\n",
              "    var sformat = '<a href=\"#__HREF__\">__TITLE__</a>';\n",
              "    var send = \"\";\n",
              "    var begin_format = '<li>';\n",
              "    var end_format = '</li>';\n",
              "    var keep_item = -1;\n",
              "    var text_menu = update_menu_string(sbegin, 2, 2, sformat, send, keep_item,\n",
              "       begin_format, end_format);\n",
              "    var menu = document.getElementById(\"my_id_menu_nb\");\n",
              "    menu.innerHTML=text_menu;\n",
              "};\n",
              "window.setTimeout(update_menu,2000);\n",
              "            </script>"
            ],
            "text/plain": [
              "<IPython.core.display.HTML object>"
            ]
          },
          "execution_count": 2,
          "metadata": {},
          "output_type": "execute_result"
        }
      ],
      "source": [
        "from jyquickhelper import add_notebook_menu\n",
        "add_notebook_menu(last_level=2)"
      ]
    },
    {
      "cell_type": "code",
      "execution_count": 2,
      "metadata": {
        "slideshow": {
          "slide_type": "skip"
        }
      },
      "outputs": [],
      "source": [
        "import numpy as np\n",
        "from pyquickhelper.helpgen import NbImage\n",
        "from sklearn.pipeline import Pipeline\n",
        "from sklearn.datasets import load_iris\n",
        "from sklearn.linear_model import LogisticRegression\n",
        "from jupytalk.talk_examples.sklearn2019 import (\n",
        "    profile_fct_graph, onnx2str, onnx2dotnb)\n",
        "from sklearn.base import TransformerMixin\n",
        "from sklearn.preprocessing import MinMaxScaler\n",
        "from skl2onnx import to_onnx\n",
        "from onnxruntime import InferenceSession\n",
        "%matplotlib inline"
      ]
    },
    {
      "cell_type": "code",
      "execution_count": 3,
      "metadata": {},
      "outputs": [],
      "source": [
        "from logging import getLogger\n",
        "logger = getLogger('skl2onnx')\n",
        "logger.disabled = True"
      ]
    },
    {
      "cell_type": "markdown",
      "metadata": {},
      "source": [
        "Many functions are implemented in [sklearn2019.py](https://github.com/sdpython/jupytalk/blob/master/src/jupytalk/talk_examples/sklearn2019.py)."
      ]
    },
    {
      "cell_type": "markdown",
      "metadata": {},
      "source": [
        "## Custom converter\n",
        "\n",
        "Let's implement a converter which applies of [MinMaxScaler](https://scikit-learn.org/stable/modules/generated/sklearn.preprocessing.MinMaxScaler.html) and then applies a logarithm."
      ]
    },
    {
      "cell_type": "code",
      "execution_count": 4,
      "metadata": {},
      "outputs": [
        {
          "data": {
            "text/plain": [
              "array([[ 1.02961942e+00,  1.17865500e+00,  0.00000000e+00],\n",
              "       [-2.22044605e-16,  0.00000000e+00,  2.30258509e+00],\n",
              "       [ 1.52605630e+00,  0.00000000e+00,  8.78613558e-02],\n",
              "       [ 2.30258509e+00,  2.30258509e+00,  1.68622712e-01]])"
            ]
          },
          "execution_count": 5,
          "metadata": {},
          "output_type": "execute_result"
        }
      ],
      "source": [
        "class MinMaxLogScaler(TransformerMixin):\n",
        "    \n",
        "    def __init__(self, feature_range=(1, 10), op_version=None):\n",
        "        self.feature_range = feature_range\n",
        "        self.op_version = op_version\n",
        "    \n",
        "    def fit(self, X, y=None):\n",
        "        self.estimator_ = MinMaxScaler(feature_range=self.feature_range)\n",
        "        self.estimator_.fit(X)\n",
        "        return self\n",
        "    \n",
        "    def transform(self, X):\n",
        "        X2 = self.estimator_.transform(X)\n",
        "        return np.log(X2)\n",
        "\n",
        "    def __repr__(self):\n",
        "        return \"{0}(feature_range={1})\".format(self.__class__.__name__, \n",
        "                                               self.feature_range)\n",
        "\n",
        "\n",
        "X = np.array([[0, 1, 2], \n",
        "              [-1, 0, 100], \n",
        "              [1, 0, 3], \n",
        "              [4, 4, 4]], dtype=np.float64)\n",
        "\n",
        "tr = MinMaxLogScaler()\n",
        "tr.fit(X)\n",
        "tr.transform(X)"
      ]
    },
    {
      "cell_type": "markdown",
      "metadata": {},
      "source": [
        "## Custom conversion based on OnnxOperatorMixin\n",
        "\n",
        "Let's rewrite the previous class by inheriting from *OnnxOperatorMixin*. We need two operators:\n",
        "* [Scaler](https://github.com/onnx/onnx/blob/master/docs/Operators-ml.md#ai.onnx.ml.Scaler)\n",
        "* [Log](https://github.com/onnx/onnx/blob/master/docs/Operators.md#Log)"
      ]
    },
    {
      "cell_type": "code",
      "execution_count": 5,
      "metadata": {},
      "outputs": [
        {
          "name": "stdout",
          "output_type": "stream",
          "text": [
            "Shape of output 'Y' cannot be infered. onnx_shape_calculator must be overriden and return a shape calculator.\n"
          ]
        }
      ],
      "source": [
        "from skl2onnx.algebra.onnx_operator_mixin import OnnxOperatorMixin\n",
        "from skl2onnx.algebra.onnx_ops import OnnxScaler, OnnxLog\n",
        "\n",
        "target_opset = 12\n",
        "\n",
        "\n",
        "class MinMaxLogScalerOnnx(MinMaxLogScaler, OnnxOperatorMixin):\n",
        "    \n",
        "    def to_onnx_operator(self, inputs=None, outputs=('Y', )):\n",
        "        if inputs is None:\n",
        "            raise RuntimeError(\"inputs should contain one name\")\n",
        "\n",
        "        op = self.estimator_\n",
        "        i0 = self.get_inputs(inputs, 0)\n",
        "        return OnnxLog(OnnxScaler(i0, scale=op.scale_, \n",
        "                                  offset = -op.min_ / (op.scale_ + 1e-8),\n",
        "                                  op_version=self.op_version),\n",
        "                       output_names=outputs,\n",
        "                       op_version=self.op_version)\n",
        "    \n",
        "X = np.array([[0, 1, 2], \n",
        "              [-1, 0, 100], \n",
        "              [1, 0, 3], \n",
        "              [4, 4, 4]], dtype=np.float64)\n",
        "\n",
        "tr = MinMaxLogScalerOnnx(op_version=target_opset)\n",
        "tr.fit(X)\n",
        "\n",
        "try:\n",
        "    tr.to_onnx(X.astype(np.float32))\n",
        "except Exception as e:\n",
        "    print(e)"
      ]
    },
    {
      "cell_type": "markdown",
      "metadata": {},
      "source": [
        "*onnx* cannot always infer the output shape so a new method must be added to return this information (design might evolve in the future)."
      ]
    },
    {
      "cell_type": "code",
      "execution_count": 6,
      "metadata": {},
      "outputs": [
        {
          "data": {
            "text/html": [
              "<div id=\"M34fb70cf82464a86bd9edd333630aaa3-cont\"><div id=\"M34fb70cf82464a86bd9edd333630aaa3\" style=\"width:100%;height:100%;\"></div></div>\n",
              "<script>\n",
              "\n",
              "require(['http://www.xavierdupre.fr/js/vizjs/viz.js'], function() { var svgGraph = Viz(\"digraph \\\"321c0bb4bc264af4b1c12d397d7df8e4\\\" {\\nrankdir=LR;\\n\\\"Sc_Scaler/Scaler (op#0)\\n input0 X\\n output0 Sc_Y0\\\" [URL=\\\"javascript:alert('')\\\", color=yellow, fillcolor=yellow, style=filled];\\n\\\"X0\\\" [label=\\\"X\\\", shape=octagon];\\n\\\"X0\\\" -> \\\"Sc_Scaler/Scaler (op#0)\\n input0 X\\n output0 Sc_Y0\\\";\\n\\\"Sc_Scaler/Scaler (op#0)\\n input0 X\\n output0 Sc_Y0\\\" -> \\\"Sc_Y00\\\";\\n\\\"Lo_Log/Log (op#1)\\n input0 Sc_Y0\\n output0 Y\\\" [URL=\\\"javascript:alert('')\\\", color=yellow, fillcolor=yellow, style=filled];\\n\\\"Sc_Y00\\\" [label=\\\"Sc_Y0\\\", shape=octagon];\\n\\\"Sc_Y00\\\" [label=\\\"Sc_Y0\\\", shape=octagon];\\n\\\"Sc_Y00\\\" -> \\\"Lo_Log/Log (op#1)\\n input0 Sc_Y0\\n output0 Y\\\";\\n\\\"Y0\\\" [label=\\\"Y\\\", shape=octagon];\\n\\\"Lo_Log/Log (op#1)\\n input0 Sc_Y0\\n output0 Y\\\" -> \\\"Y0\\\";\\n}\\n\");\n",
              "document.getElementById('M34fb70cf82464a86bd9edd333630aaa3').innerHTML = svgGraph; });\n",
              "\n",
              "</script>"
            ],
            "text/plain": [
              "<jyquickhelper.jspy.render_nb_js_dot.RenderJsDot at 0x15033565c88>"
            ]
          },
          "execution_count": 7,
          "metadata": {},
          "output_type": "execute_result"
        }
      ],
      "source": [
        "from skl2onnx.common.data_types import FloatTensorType\n",
        "\n",
        "\n",
        "class MinMaxLogScalerOnnx(MinMaxLogScaler, OnnxOperatorMixin):\n",
        "    \n",
        "    def to_onnx_operator(self, inputs=None, outputs=('Y', )):\n",
        "        if inputs is None:\n",
        "            raise RuntimeError(\"inputs should contain one name\")\n",
        "\n",
        "        op = self.estimator_\n",
        "        i0 = self.get_inputs(inputs, 0)\n",
        "        return OnnxLog(OnnxScaler(i0, scale=op.scale_, \n",
        "                                  offset=-op.min_ / (op.scale_ + 1e-8),\n",
        "                                  op_version=self.op_version),\n",
        "                       output_names=outputs,\n",
        "                       op_version=self.op_version)\n",
        "    \n",
        "    def onnx_shape_calculator(self):\n",
        "        def shape_calculator(operator):\n",
        "            operator.outputs[0].type = FloatTensorType(shape=operator.inputs[0].type.shape)\n",
        "        return shape_calculator    \n",
        "\n",
        "\n",
        "X = np.array([[0, 1, 2], \n",
        "              [-1, 0, 100], \n",
        "              [1, 0, 3], \n",
        "              [4, 4, 4]], dtype=np.float64)\n",
        "\n",
        "tr = MinMaxLogScalerOnnx(op_version=target_opset)\n",
        "tr.fit(X)\n",
        "\n",
        "model_onnx = tr.to_onnx(X.astype(np.float32))\n",
        "onnx2dotnb(model_onnx)"
      ]
    },
    {
      "cell_type": "markdown",
      "metadata": {},
      "source": [
        "### Comparison with raw outputs"
      ]
    },
    {
      "cell_type": "code",
      "execution_count": 7,
      "metadata": {},
      "outputs": [
        {
          "data": {
            "text/plain": [
              "array([[ 1.0296195e+00,  1.1786550e+00, -5.9604645e-08],\n",
              "       [ 0.0000000e+00,  0.0000000e+00,  2.3025851e+00],\n",
              "       [ 1.5260563e+00,  0.0000000e+00,  8.7861314e-02],\n",
              "       [ 2.3025849e+00,  2.3025851e+00,  1.6862264e-01]], dtype=float32)"
            ]
          },
          "execution_count": 8,
          "metadata": {},
          "output_type": "execute_result"
        }
      ],
      "source": [
        "sess = InferenceSession(model_onnx.SerializeToString())\n",
        "\n",
        "inputs = {'X': X.astype(np.float32)}\n",
        "sess.run(None, inputs)[0]"
      ]
    },
    {
      "cell_type": "code",
      "execution_count": 8,
      "metadata": {},
      "outputs": [],
      "source": [
        "from skl2onnx.helpers.investigate import compare_objects\n",
        "compare_objects(tr.transform(X), sess.run(None, inputs)[0])"
      ]
    },
    {
      "cell_type": "markdown",
      "metadata": {},
      "source": [
        "Everything is ok."
      ]
    },
    {
      "cell_type": "markdown",
      "metadata": {},
      "source": [
        "### Custom transformer in a pipeline"
      ]
    },
    {
      "cell_type": "code",
      "execution_count": 9,
      "metadata": {},
      "outputs": [],
      "source": [
        "data = load_iris()\n",
        "X, y = data.data, data.target"
      ]
    },
    {
      "cell_type": "code",
      "execution_count": 10,
      "metadata": {},
      "outputs": [
        {
          "data": {
            "text/plain": [
              "Pipeline(steps=[('scaler', MinMaxLogScalerOnnx(feature_range=(1, 10))),\n",
              "                ('lr', LogisticRegression())])"
            ]
          },
          "execution_count": 11,
          "metadata": {},
          "output_type": "execute_result"
        }
      ],
      "source": [
        "pipe = Pipeline([('scaler', MinMaxLogScalerOnnx()),\n",
        "                 ('lr', LogisticRegression(multi_class=\"auto\"))])\n",
        "pipe.fit(X, y)"
      ]
    },
    {
      "cell_type": "code",
      "execution_count": 11,
      "metadata": {},
      "outputs": [
        {
          "data": {
            "text/html": [
              "<div id=\"Mfc6cc6f206cc43e284da79702bfceab8-cont\"><div id=\"Mfc6cc6f206cc43e284da79702bfceab8\" style=\"width:100%;height:100%;\"></div></div>\n",
              "<script>\n",
              "\n",
              "require(['http://www.xavierdupre.fr/js/vizjs/viz.js'], function() { var svgGraph = Viz(\"digraph \\\"ONNX(Pipeline)\\\" {\\nrankdir=LR;\\n\\\"Sc_Scaler/Scaler (op#0)\\n input0 X\\n output0 Sc_Y0\\\" [URL=\\\"javascript:alert('')\\\", color=yellow, fillcolor=yellow, style=filled];\\n\\\"X0\\\" [label=\\\"X\\\", shape=octagon];\\n\\\"X0\\\" -> \\\"Sc_Scaler/Scaler (op#0)\\n input0 X\\n output0 Sc_Y0\\\";\\n\\\"Sc_Scaler/Scaler (op#0)\\n input0 X\\n output0 Sc_Y0\\\" -> \\\"Sc_Y00\\\";\\n\\\"Lo_Log/Log (op#1)\\n input0 Sc_Y0\\n output0 Y\\\" [URL=\\\"javascript:alert('')\\\", color=yellow, fillcolor=yellow, style=filled];\\n\\\"Sc_Y00\\\" [label=\\\"Sc_Y0\\\", shape=octagon];\\n\\\"Sc_Y00\\\" [label=\\\"Sc_Y0\\\", shape=octagon];\\n\\\"Sc_Y00\\\" -> \\\"Lo_Log/Log (op#1)\\n input0 Sc_Y0\\n output0 Y\\\";\\n\\\"Lo_Log/Log (op#1)\\n input0 Sc_Y0\\n output0 Y\\\" -> \\\"Y0\\\";\\n\\\"LinearClassifier/LinearClassifier (op#2)\\n input0 Y\\n output0 label\\n output1 probability_tensor\\\" [URL=\\\"javascript:alert('')\\\", color=yellow, fillcolor=yellow, style=filled];\\n\\\"Y0\\\" [label=\\\"Y\\\", shape=octagon];\\n\\\"Y0\\\" [label=\\\"Y\\\", shape=octagon];\\n\\\"Y0\\\" -> \\\"LinearClassifier/LinearClassifier (op#2)\\n input0 Y\\n output0 label\\n output1 probability_tensor\\\";\\n\\\"LinearClassifier/LinearClassifier (op#2)\\n input0 Y\\n output0 label\\n output1 probability_tensor\\\" -> \\\"label0\\\";\\n\\\"LinearClassifier/LinearClassifier (op#2)\\n input0 Y\\n output0 label\\n output1 probability_tensor\\\" -> \\\"probability_tensor0\\\";\\n\\\"Normalizer/Normalizer (op#3)\\n input0 probability_tensor\\n output0 probabilities\\\" [URL=\\\"javascript:alert('')\\\", color=yellow, fillcolor=yellow, style=filled];\\n\\\"probability_tensor0\\\" [label=\\\"probability_tensor\\\", shape=octagon];\\n\\\"probability_tensor0\\\" [label=\\\"probability_tensor\\\", shape=octagon];\\n\\\"probability_tensor0\\\" -> \\\"Normalizer/Normalizer (op#3)\\n input0 probability_tensor\\n output0 probabilities\\\";\\n\\\"Normalizer/Normalizer (op#3)\\n input0 probability_tensor\\n output0 probabilities\\\" -> \\\"probabilities0\\\";\\n\\\"Cast/Cast (op#4)\\n input0 label\\n output0 output_label\\\" [URL=\\\"javascript:alert('')\\\", color=yellow, fillcolor=yellow, style=filled];\\n\\\"label0\\\" [label=\\\"label\\\", shape=octagon];\\n\\\"label0\\\" [label=\\\"label\\\", shape=octagon];\\n\\\"label0\\\" -> \\\"Cast/Cast (op#4)\\n input0 label\\n output0 output_label\\\";\\n\\\"output_label0\\\" [label=\\\"output_label\\\", shape=octagon];\\n\\\"Cast/Cast (op#4)\\n input0 label\\n output0 output_label\\\" -> \\\"output_label0\\\";\\n\\\"ZipMap/ZipMap (op#5)\\n input0 probabilities\\n output0 output_probability\\\" [URL=\\\"javascript:alert('')\\\", color=yellow, fillcolor=yellow, style=filled];\\n\\\"probabilities0\\\" [label=\\\"probabilities\\\", shape=octagon];\\n\\\"probabilities0\\\" [label=\\\"probabilities\\\", shape=octagon];\\n\\\"probabilities0\\\" -> \\\"ZipMap/ZipMap (op#5)\\n input0 probabilities\\n output0 output_probability\\\";\\n\\\"output_probability0\\\" [label=\\\"output_probability\\\", shape=octagon];\\n\\\"ZipMap/ZipMap (op#5)\\n input0 probabilities\\n output0 output_probability\\\" -> \\\"output_probability0\\\";\\n}\\n\");\n",
              "document.getElementById('Mfc6cc6f206cc43e284da79702bfceab8').innerHTML = svgGraph; });\n",
              "\n",
              "</script>"
            ],
            "text/plain": [
              "<jyquickhelper.jspy.render_nb_js_dot.RenderJsDot at 0x1503359c668>"
            ]
          },
          "execution_count": 12,
          "metadata": {},
          "output_type": "execute_result"
        }
      ],
      "source": [
        "pipe_onnx = to_onnx(pipe, X.astype(np.float32))\n",
        "onnx2dotnb(pipe_onnx)"
      ]
    },
    {
      "cell_type": "markdown",
      "metadata": {},
      "source": [
        "## Separate converter\n",
        "\n",
        "The previous design requires the operator to inherit from *OnnxOperatorMixin*. The conversion involves:\n",
        "* *scope*: every node in the graph must have a unique name, the scope ensures that it is.\n",
        "* *container*: internal container for all nodes added during the conversion\n",
        "\n",
        "The converter uses an *operator*. This refers to ONNX operator, like a placeholder with named inputs and outputs which receives the ONNX nodes. When the converter is implemented, it needs to be registered so that *skl2onnx* can use it when needed in a pipeline."
      ]
    },
    {
      "cell_type": "code",
      "execution_count": 12,
      "metadata": {},
      "outputs": [],
      "source": [
        "from skl2onnx.common.data_types import FloatTensorType\n",
        "\n",
        "\n",
        "def convert_sklearn_minxmaxlog_scaler(scope, operator, container):\n",
        "    # operator = placeholder for the converted scikit-learn operator\n",
        "    # operator.inputs = defined inputs\n",
        "    # operator.outputs : defined outputs\n",
        "    # The conversion is independant from any other converted models in the pipeline.\n",
        "    X = operator.inputs[0]\n",
        "    out = operator.outputs[0]\n",
        "    \n",
        "    # The raw operator is the scikitl-learn model to be converted.\n",
        "    op = operator.raw_operator\n",
        "\n",
        "    # The ONNX definition of the new operator which links\n",
        "    # X to out.\n",
        "    # X.onnx_name is the unique name of X.\n",
        "    # out.onnx_name is the unique name of out.\n",
        "    onnx_op = OnnxLog(OnnxScaler(X.onnx_name, scale=op.estimator_.scale_, \n",
        "                                 offset = -op.estimator_.min_ / (op.estimator_.scale_ + 1e-8)),\n",
        "                      output_names=out.onnx_name)\n",
        "    \n",
        "    # Let's finally add this subgraph to the container\n",
        "    # by adding the final node.\n",
        "    onnx_op.add_to(scope, container)\n",
        "\n",
        "    \n",
        "def shape_sklearn_minxmaxlog_scaler(operator):\n",
        "    # The shape calculator defines the dimension of\n",
        "    # every output.\n",
        "    op_input = operator.inputs[0]\n",
        "    op = operator.raw_operator\n",
        "    N = op_input.type.shape[0]\n",
        "    C = op_input.type.shape[1]\n",
        "    \n",
        "    # This line tells the first output is a float matrix\n",
        "    # which has the same dimension as the input.\n",
        "    operator.outputs[0].type = FloatTensorType([N, C])\n",
        "\n",
        "\n",
        "from skl2onnx import update_registered_converter\n",
        "\n",
        "# registration of the converter.\n",
        "update_registered_converter(\n",
        "            MinMaxLogScaler,\n",
        "            \"MinMaxLogScaler\",\n",
        "            shape_sklearn_minxmaxlog_scaler,\n",
        "            convert_sklearn_minxmaxlog_scaler)"
      ]
    },
    {
      "cell_type": "code",
      "execution_count": 13,
      "metadata": {},
      "outputs": [
        {
          "data": {
            "text/plain": [
              "Pipeline(steps=[('scaler', MinMaxLogScaler(feature_range=(1, 10))),\n",
              "                ('lr', LogisticRegression())])"
            ]
          },
          "execution_count": 14,
          "metadata": {},
          "output_type": "execute_result"
        }
      ],
      "source": [
        "pipe = Pipeline([('scaler', MinMaxLogScaler()),\n",
        "                 ('lr', LogisticRegression(multi_class=\"auto\"))])\n",
        "pipe.fit(X, y)"
      ]
    },
    {
      "cell_type": "code",
      "execution_count": 14,
      "metadata": {},
      "outputs": [
        {
          "data": {
            "text/html": [
              "<div id=\"Md896ec6dabc94a3c95ec92d375f3925d-cont\"><div id=\"Md896ec6dabc94a3c95ec92d375f3925d\" style=\"width:100%;height:100%;\"></div></div>\n",
              "<script>\n",
              "\n",
              "require(['http://www.xavierdupre.fr/js/vizjs/viz.js'], function() { var svgGraph = Viz(\"digraph \\\"ONNX(Pipeline)\\\" {\\nrankdir=LR;\\n\\\"Sc_Scaler/Scaler (op#0)\\n input0 X\\n output0 Sc_Y0\\\" [URL=\\\"javascript:alert('')\\\", color=yellow, fillcolor=yellow, style=filled];\\n\\\"X0\\\" [label=\\\"X\\\", shape=octagon];\\n\\\"X0\\\" -> \\\"Sc_Scaler/Scaler (op#0)\\n input0 X\\n output0 Sc_Y0\\\";\\n\\\"Sc_Scaler/Scaler (op#0)\\n input0 X\\n output0 Sc_Y0\\\" -> \\\"Sc_Y00\\\";\\n\\\"Lo_Log/Log (op#1)\\n input0 Sc_Y0\\n output0 variable\\\" [URL=\\\"javascript:alert('')\\\", color=yellow, fillcolor=yellow, style=filled];\\n\\\"Sc_Y00\\\" [label=\\\"Sc_Y0\\\", shape=octagon];\\n\\\"Sc_Y00\\\" [label=\\\"Sc_Y0\\\", shape=octagon];\\n\\\"Sc_Y00\\\" -> \\\"Lo_Log/Log (op#1)\\n input0 Sc_Y0\\n output0 variable\\\";\\n\\\"Lo_Log/Log (op#1)\\n input0 Sc_Y0\\n output0 variable\\\" -> \\\"variable0\\\";\\n\\\"LinearClassifier/LinearClassifier (op#2)\\n input0 variable\\n output0 label\\n output1 probability_tensor\\\" [URL=\\\"javascript:alert('')\\\", color=yellow, fillcolor=yellow, style=filled];\\n\\\"variable0\\\" [label=\\\"variable\\\", shape=octagon];\\n\\\"variable0\\\" [label=\\\"variable\\\", shape=octagon];\\n\\\"variable0\\\" -> \\\"LinearClassifier/LinearClassifier (op#2)\\n input0 variable\\n output0 label\\n output1 probability_tensor\\\";\\n\\\"LinearClassifier/LinearClassifier (op#2)\\n input0 variable\\n output0 label\\n output1 probability_tensor\\\" -> \\\"label0\\\";\\n\\\"LinearClassifier/LinearClassifier (op#2)\\n input0 variable\\n output0 label\\n output1 probability_tensor\\\" -> \\\"probability_tensor0\\\";\\n\\\"Normalizer/Normalizer (op#3)\\n input0 probability_tensor\\n output0 probabilities\\\" [URL=\\\"javascript:alert('')\\\", color=yellow, fillcolor=yellow, style=filled];\\n\\\"probability_tensor0\\\" [label=\\\"probability_tensor\\\", shape=octagon];\\n\\\"probability_tensor0\\\" [label=\\\"probability_tensor\\\", shape=octagon];\\n\\\"probability_tensor0\\\" -> \\\"Normalizer/Normalizer (op#3)\\n input0 probability_tensor\\n output0 probabilities\\\";\\n\\\"Normalizer/Normalizer (op#3)\\n input0 probability_tensor\\n output0 probabilities\\\" -> \\\"probabilities0\\\";\\n\\\"Cast/Cast (op#4)\\n input0 label\\n output0 output_label\\\" [URL=\\\"javascript:alert('')\\\", color=yellow, fillcolor=yellow, style=filled];\\n\\\"label0\\\" [label=\\\"label\\\", shape=octagon];\\n\\\"label0\\\" [label=\\\"label\\\", shape=octagon];\\n\\\"label0\\\" -> \\\"Cast/Cast (op#4)\\n input0 label\\n output0 output_label\\\";\\n\\\"output_label0\\\" [label=\\\"output_label\\\", shape=octagon];\\n\\\"Cast/Cast (op#4)\\n input0 label\\n output0 output_label\\\" -> \\\"output_label0\\\";\\n\\\"ZipMap/ZipMap (op#5)\\n input0 probabilities\\n output0 output_probability\\\" [URL=\\\"javascript:alert('')\\\", color=yellow, fillcolor=yellow, style=filled];\\n\\\"probabilities0\\\" [label=\\\"probabilities\\\", shape=octagon];\\n\\\"probabilities0\\\" [label=\\\"probabilities\\\", shape=octagon];\\n\\\"probabilities0\\\" -> \\\"ZipMap/ZipMap (op#5)\\n input0 probabilities\\n output0 output_probability\\\";\\n\\\"output_probability0\\\" [label=\\\"output_probability\\\", shape=octagon];\\n\\\"ZipMap/ZipMap (op#5)\\n input0 probabilities\\n output0 output_probability\\\" -> \\\"output_probability0\\\";\\n}\\n\");\n",
              "document.getElementById('Md896ec6dabc94a3c95ec92d375f3925d').innerHTML = svgGraph; });\n",
              "\n",
              "</script>"
            ],
            "text/plain": [
              "<jyquickhelper.jspy.render_nb_js_dot.RenderJsDot at 0x15033e234e0>"
            ]
          },
          "execution_count": 15,
          "metadata": {},
          "output_type": "execute_result"
        }
      ],
      "source": [
        "pipe_onnx = to_onnx(pipe, X.astype(np.float32))\n",
        "onnx2dotnb(pipe_onnx)"
      ]
    },
    {
      "cell_type": "markdown",
      "metadata": {},
      "source": [
        "Node in ONNX may have multiple outputs. *skl2onnx* defines a default number of outputs for transformers, regressor, classifier but this default number can be changed by defining a default parser."
      ]
    },
    {
      "cell_type": "markdown",
      "metadata": {},
      "source": [
        "## Appendix"
      ]
    },
    {
      "cell_type": "code",
      "execution_count": 15,
      "metadata": {},
      "outputs": [
        {
          "name": "stdout",
          "output_type": "stream",
          "text": [
            "onnx 1.7.105\n",
            "skl2onnx 1.7.1073\n",
            "onnxruntime 1.3.993\n",
            "sklearn 0.24.dev0\n"
          ]
        }
      ],
      "source": [
        "import onnx, skl2onnx, sklearn, onnxruntime\n",
        "mods = [onnx, skl2onnx, onnxruntime, sklearn]\n",
        "for m in mods:\n",
        "    print(m.__name__, m.__version__)"
      ]
    },
    {
      "cell_type": "code",
      "execution_count": 16,
      "metadata": {},
      "outputs": [],
      "source": []
    },
    {
      "cell_type": "code",
      "execution_count": 17,
      "metadata": {},
      "outputs": [],
      "source": []
    }
  ],
  "metadata": {
    "kernelspec": {
      "display_name": "Python 3",
      "language": "python",
      "name": "python3"
    },
    "language_info": {
      "codemirror_mode": {
        "name": "ipython",
        "version": 3
      },
      "file_extension": ".py",
      "mimetype": "text/x-python",
      "name": "python",
      "nbconvert_exporter": "python",
      "pygments_lexer": "ipython3",
      "version": "3.7.2"
    }
  },
  "nbformat": 4,
  "nbformat_minor": 2
}