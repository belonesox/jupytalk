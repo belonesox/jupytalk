{
  "cells": [
    {
      "cell_type": "markdown",
      "metadata": {
        "slideshow": {
          "slide_type": "slide"
        }
      },
      "source": [
        "# Datascience et programmation\n",
        "\n",
        "Des ann\u00e9es 1970 \u00e0 la datascience d'aujourd'hui."
      ]
    },
    {
      "cell_type": "code",
      "execution_count": 1,
      "metadata": {
        "slideshow": {
          "slide_type": "subslide"
        }
      },
      "outputs": [
        {
          "data": {
            "text/html": [
              "<div id=\"my_id_menu_nb\">run previous cell, wait for 2 seconds</div>\n",
              "<script>\n",
              "function repeat_indent_string(n){\n",
              "    var a = \"\" ;\n",
              "    for ( ; n > 0 ; --n)\n",
              "        a += \"    \";\n",
              "    return a;\n",
              "}\n",
              "// look up into all sections and builds an automated menu //\n",
              "var update_menu_string = function(begin, lfirst, llast, sformat, send, keep_item, begin_format, end_format) {\n",
              "    var anchors = document.getElementsByClassName(\"section\");\n",
              "    if (anchors.length == 0) {\n",
              "        anchors = document.getElementsByClassName(\"text_cell_render rendered_html\");\n",
              "    }\n",
              "    var i,t;\n",
              "    var text_menu = begin;\n",
              "    var text_memo = \"<pre>\\nlength:\" + anchors.length + \"\\n\";\n",
              "    var ind = \"\";\n",
              "    var memo_level = 1;\n",
              "    var href;\n",
              "    var tags = [];\n",
              "    var main_item = 0;\n",
              "    var format_open = 0;\n",
              "    for (i = 0; i <= llast; i++)\n",
              "        tags.push(\"h\" + i);\n",
              "\n",
              "    for (i = 0; i < anchors.length; i++) {\n",
              "        text_memo += \"**\" + anchors[i].id + \"--\\n\";\n",
              "\n",
              "        var child = null;\n",
              "        for(t = 0; t < tags.length; t++) {\n",
              "            var r = anchors[i].getElementsByTagName(tags[t]);\n",
              "            if (r.length > 0) {\n",
              "child = r[0];\n",
              "break;\n",
              "            }\n",
              "        }\n",
              "        if (child == null) {\n",
              "            text_memo += \"null\\n\";\n",
              "            continue;\n",
              "        }\n",
              "        if (anchors[i].hasAttribute(\"id\")) {\n",
              "            // when converted in RST\n",
              "            href = anchors[i].id;\n",
              "            text_memo += \"#1-\" + href;\n",
              "            // passer \u00e0 child suivant (le chercher)\n",
              "        }\n",
              "        else if (child.hasAttribute(\"id\")) {\n",
              "            // in a notebook\n",
              "            href = child.id;\n",
              "            text_memo += \"#2-\" + href;\n",
              "        }\n",
              "        else {\n",
              "            text_memo += \"#3-\" + \"*\" + \"\\n\";\n",
              "            continue;\n",
              "        }\n",
              "        var title = child.textContent;\n",
              "        var level = parseInt(child.tagName.substring(1,2));\n",
              "\n",
              "        text_memo += \"--\" + level + \"?\" + lfirst + \"--\" + title + \"\\n\";\n",
              "\n",
              "        if ((level < lfirst) || (level > llast)) {\n",
              "            continue ;\n",
              "        }\n",
              "        if (title.endsWith('\u00b6')) {\n",
              "            title = title.substring(0,title.length-1).replace(\"<\", \"&lt;\")\n",
              "         .replace(\">\", \"&gt;\").replace(\"&\", \"&amp;\");\n",
              "        }\n",
              "        if (title.length == 0) {\n",
              "            continue;\n",
              "        }\n",
              "\n",
              "        while (level < memo_level) {\n",
              "            text_menu += end_format + \"</ul>\\n\";\n",
              "            format_open -= 1;\n",
              "            memo_level -= 1;\n",
              "        }\n",
              "        if (level == lfirst) {\n",
              "            main_item += 1;\n",
              "        }\n",
              "        if (keep_item != -1 && main_item != keep_item + 1) {\n",
              "            // alert(main_item + \" - \" + level + \" - \" + keep_item);\n",
              "            continue;\n",
              "        }\n",
              "        while (level > memo_level) {\n",
              "            text_menu += \"<ul>\\n\";\n",
              "            memo_level += 1;\n",
              "        }\n",
              "        text_menu += repeat_indent_string(level-2);\n",
              "        text_menu += begin_format + sformat.replace(\"__HREF__\", href).replace(\"__TITLE__\", title);\n",
              "        format_open += 1;\n",
              "    }\n",
              "    while (1 < memo_level) {\n",
              "        text_menu += end_format + \"</ul>\\n\";\n",
              "        memo_level -= 1;\n",
              "        format_open -= 1;\n",
              "    }\n",
              "    text_menu += send;\n",
              "    //text_menu += \"\\n\" + text_memo;\n",
              "\n",
              "    while (format_open > 0) {\n",
              "        text_menu += end_format;\n",
              "        format_open -= 1;\n",
              "    }\n",
              "    return text_menu;\n",
              "};\n",
              "var update_menu = function() {\n",
              "    var sbegin = \"\";\n",
              "    var sformat = '<a href=\"#__HREF__\">__TITLE__</a>';\n",
              "    var send = \"\";\n",
              "    var begin_format = '<li>';\n",
              "    var end_format = '</li>';\n",
              "    var keep_item = -1;\n",
              "    var text_menu = update_menu_string(sbegin, 2, 4, sformat, send, keep_item,\n",
              "       begin_format, end_format);\n",
              "    var menu = document.getElementById(\"my_id_menu_nb\");\n",
              "    menu.innerHTML=text_menu;\n",
              "};\n",
              "window.setTimeout(update_menu,2000);\n",
              "            </script>"
            ],
            "text/plain": [
              "<IPython.core.display.HTML object>"
            ]
          },
          "execution_count": 2,
          "metadata": {},
          "output_type": "execute_result"
        }
      ],
      "source": [
        "from jyquickhelper import add_notebook_menu\n",
        "add_notebook_menu()"
      ]
    },
    {
      "cell_type": "code",
      "execution_count": 2,
      "metadata": {},
      "outputs": [],
      "source": [
        "from pyquickhelper.helpgen import NbImage"
      ]
    },
    {
      "cell_type": "markdown",
      "metadata": {},
      "source": [
        "## Une petite histoire de l'informatique"
      ]
    },
    {
      "cell_type": "markdown",
      "metadata": {},
      "source": [
        "### 1970\n",
        "\n",
        "* premier ordinateur IBM\n",
        "* cr\u00e9ation de Microsoft, Apple\n",
        "* MS-DOS"
      ]
    },
    {
      "cell_type": "markdown",
      "metadata": {},
      "source": [
        "### 1980\n",
        "\n",
        "* d\u00e9but de l'informatisation\n",
        "* les imprimantes \u00e0 aiguilles\n",
        "* le langage Pascal, l'\u00e9diteur Borland, Quatro Pro\n",
        "* applications des premiers r\u00e9seaux de neurones"
      ]
    },
    {
      "cell_type": "markdown",
      "metadata": {},
      "source": [
        "### 1990\n",
        "\n",
        "* Les SVM\n",
        "* les imprimantes laser, popularisation des PCs,\n",
        "* d\u00e9buts d'internet et des t\u00e9l\u00e9phones portables\n",
        "* premi\u00e8res versions du langages Python, Linux\n",
        "* cr\u00e9ation d'Amazon"
      ]
    },
    {
      "cell_type": "markdown",
      "metadata": {},
      "source": [
        "### 2000\n",
        "\n",
        "* premiers smartphone\n",
        "* les random forest, d\u00e9but de scikit-learn\n",
        "* python 3.0, d\u00e9but de IPython, l'anc\u00eatre de jupyter, pandas\n",
        "* d\u00e9but de Hadoop, l'anc\u00eatre du calcul distribu\u00e9 pour le traitement des logs de site web\n",
        "* cr\u00e9ation de Facebook\n",
        "* L'ENSAE passe du C au Python\n",
        "* Cr\u00e9ation de Git et GitHub"
      ]
    },
    {
      "cell_type": "markdown",
      "metadata": {},
      "source": [
        "### 2010\n",
        "\n",
        "* le deep learning gagne ses premi\u00e8res comp\u00e9titions,\n",
        "* les librairies de machine learning deviennent open source,\n",
        "* elles sont accessibles en python, langage beaucoup plus facile d'acc\u00e8s que C++\n",
        "* le GPU prend son envol\n",
        "* les librairies impl\u00e9mentent les calculs de fa\u00e7ons distribu\u00e9s\n",
        "* calcul en temps r\u00e9el, loi RGPD\n",
        "* Python appara\u00eet comme un pr\u00e9requis sur de nombreuses offres d'embauche\n",
        "* Python est le langage le plus utilis\u00e9 dans l'enseignement\n",
        "* [Yolo](https://www.youtube.com/watch?v=MPU2HistivI)\n",
        "* [Kaggle](https://www.kaggle.com/)"
      ]
    },
    {
      "cell_type": "markdown",
      "metadata": {},
      "source": [
        "### 2020\n",
        "\n",
        "* Python efface R\n",
        "* l'exploitation des donn\u00e9es est une \u00e9vidence\n",
        "* le num\u00e9rique est partout, peut-\u00eatre un peu trop,\n",
        "* les r\u00e9seaux sociaux sont incontournables\n",
        "* il existe m\u00eame des [tableurs \u00e9crit en python](https://pyspread.gitlab.io/index.html)"
      ]
    },
    {
      "cell_type": "markdown",
      "metadata": {},
      "source": [
        "### 2030 ?\n",
        "\n",
        "* t\u00e9l\u00e9phones traduisant en temps r\u00e9el d'une langue \u00e0 l'autre,\n",
        "* voitures automatis\u00e9es sur l'autoroute,\n",
        "* des drones survoles les champs pour \u00e9radiquer les insectes\n",
        "* ou autres champignons,\n",
        "* commande vocale de nombreux appareils m\u00e9nagers,"
      ]
    },
    {
      "cell_type": "markdown",
      "metadata": {},
      "source": [
        "## Le langage Python en quelques mots"
      ]
    },
    {
      "cell_type": "markdown",
      "metadata": {},
      "source": [
        "### 3 concepts en informatique\n",
        "\n",
        "* la s\u00e9quence d'instructions\n",
        "* les tests - si...\n",
        "* les boucles - r\u00e9p\u00e9tition"
      ]
    },
    {
      "cell_type": "markdown",
      "metadata": {},
      "source": [
        "### Une syntaxe simple"
      ]
    },
    {
      "cell_type": "markdown",
      "metadata": {},
      "source": [
        "* une des grammaires les plus courtes [grammaire](https://github.com/python/cpython/blob/3.10/Grammar/python.gram)\n",
        "* indentation obligatoire : rend les programmes plus lisibles\n",
        "* documentation incluses dans le programme"
      ]
    },
    {
      "cell_type": "markdown",
      "metadata": {},
      "source": [
        "### portable\n",
        "\n",
        "* disponible sous mac, linux, windows\n",
        "* open source\n",
        "* un site d'extensions\n",
        "* de nombreuses extensions, automatiser, site web, calculs"
      ]
    },
    {
      "cell_type": "markdown",
      "metadata": {},
      "source": [
        "### langage interpr\u00e9t\u00e9\n",
        "\n",
        "* langage interpr\u00e9t\u00e9 :\n",
        "    * il fonctionne sans autre application que Python\n",
        "    * il ne peut pas marcher sans non plus\n",
        "* langage compil\u00e9 :\n",
        "    * le programme doit d'abord \u00eatre traduit en langage machine\n",
        "    * le programme compil\u00e9 peut \u00eatre utilis\u00e9 sur une autre machine mais configur\u00e9e de la m\u00eame machine"
      ]
    },
    {
      "cell_type": "markdown",
      "metadata": {},
      "source": [
        "### Interface C\n",
        "\n",
        "* Python est tr\u00e8s lent, un des langages les plus lents\n",
        "* Il v\u00e9rifie sans cesse ce que fait l'utilisateur.\n",
        "* Il est facile de l'interfacer avec le langage C pour \u00e9crire des calculs rapidement."
      ]
    },
    {
      "cell_type": "markdown",
      "metadata": {},
      "source": [
        "### Python outil id\u00e9al pour automatiser\n",
        "\n",
        "* Con\u00e7u pour automatis\u00e9 des t\u00e2ches r\u00e9p\u00e9titives.\n",
        "* Mail, Web, traitement de fichiers...\n",
        "* Un des langages les plus utilis\u00e9s, donc beaucoup d'aide disponible sur Internet"
      ]
    },
    {
      "cell_type": "code",
      "execution_count": 3,
      "metadata": {},
      "outputs": [
        {
          "data": {
            "image/png": "[encoded data removed]",
            "text/plain": [
              "<IPython.core.display.Image object>"
            ]
          },
          "execution_count": 4,
          "metadata": {},
          "output_type": "execute_result"
        }
      ],
      "source": [
        "NbImage(\"pp.png\")"
      ]
    },
    {
      "cell_type": "markdown",
      "metadata": {},
      "source": [
        "## Python en datascience"
      ]
    },
    {
      "cell_type": "markdown",
      "metadata": {},
      "source": [
        "### Avant Python\n",
        "\n",
        "* tableur : difficile de passer \u00e0 l'\u00e9chelle\n",
        "* SAS, Matlab : on\u00e9reux\n",
        "* logiciel d\u00e9velopp\u00e9 en C/C++ par des \u00e9tudiants\n",
        "* R : naissance quasiment en m\u00eame temps que Python mais inspir\u00e9 de [S](https://en.wikipedia.org/wiki/S_(programming_language)) n\u00e9 en 1976\n",
        "* il fallait conna\u00eetre plusieurs langages pour tout faire"
      ]
    },
    {
      "cell_type": "markdown",
      "metadata": {},
      "source": [
        "### numpy, pandas, jupyter, matplotlib, cython, scikit-learn, sphinx\n",
        "\n",
        "* 1995 - [numpy](https://en.wikipedia.org/wiki/NumPy) : calcul matriciel\n",
        "* 2001 - [jupyter](https://en.wikipedia.org/wiki/IPython) : interface m\u00ealant code, texte et ex\u00e9cution\n",
        "* 2003 - [matplotlib](https://en.wikipedia.org/wiki/Matplotlib) : graphes\n",
        "* 2007 - [scikit-learn](https://en.wikipedia.org/wiki/Scikit-learn) : machine learning\n",
        "* 2007 - [cython](https://en.wikipedia.org/wiki/Cython) : \u00e9criture simplifi\u00e9e d'extension C pour Python\n",
        "* 2008 - [pandas](https://en.wikipedia.org/wiki/Pandas_(software)) : manipulation de donn\u00e9es fa\u00e7on SQL\n",
        "* 2008 - [sphinx](https://en.wikipedia.org/wiki/Sphinx_(documentation_generator)) : documentation"
      ]
    },
    {
      "cell_type": "markdown",
      "metadata": {},
      "source": [
        "### Con\u00e7us par des informaticiens scientifiques\n",
        "\n",
        "* pandas, scikit-learn, jupyter, cython ont \u00e9t\u00e9 cr\u00e9\u00e9s pour combler un besoin\n",
        "* beaucoup d'outils \u00e9quivalents ont exist\u00e9s\n",
        "* ceux-l\u00e0 ont gagn\u00e9 la **bataille de la simplicit\u00e9**"
      ]
    },
    {
      "cell_type": "markdown",
      "metadata": {},
      "source": [
        "### Acc\u00e9l\u00e9ration avec Git / GitHub\n",
        "\n",
        "* On ne partage pas du code comme on partage une id\u00e9e\n",
        "* Tous ces outils sont sur GitHub : [GitHub / pandas](https://github.com/pandas-dev/pandas)\n",
        "* D\u00e9veloppement plus rapide qu'un logiciel propri\u00e9taire\n",
        "* **Possibilit\u00e9 de construire ses propres outils \u00e0 partir de ceux-l\u00e0**\n",
        "* Possibilit\u00e9 de partager ses propres extensions\n",
        "* Grande expertise des contributeurs"
      ]
    },
    {
      "cell_type": "markdown",
      "metadata": {},
      "source": [
        "### Cas du deep learning\n",
        "\n",
        "* le langage python est le langage du deep learning, [tensorflow](https://en.wikipedia.org/wiki/TensorFlow) (2015), [pytorch](https://en.wikipedia.org/wiki/PyTorch) (2016)\n",
        "* ces outils grossissent plus vite que n'importe quelle interface graphique qui pourrait en faciliter l'usage\n",
        "* \u00e0 la fois logiciel, \u00e0 la fois support de recherche"
      ]
    },
    {
      "cell_type": "markdown",
      "metadata": {},
      "source": [
        "### Apart\u00e9 : Kaggle\n",
        "\n",
        "* [Kaggle](https://www.kaggle.com/)\n",
        "* [XGBoost](https://xgboost.readthedocs.io/en/stable/)"
      ]
    },
    {
      "cell_type": "markdown",
      "metadata": {},
      "source": [
        "## Comment partager son travail ? Package et Documentation\n",
        "\n",
        "L'INSEE calcule l'[indice des prix \u00e0 la consommation](https://www.insee.fr/fr/metadonnees/source/indicateur/p1653/description) tous les mois. \n",
        "\n",
        "* C'est un processus qui est ex\u00e9cut\u00e9 tous les mois m\u00eame pendant les vacances.\n",
        "* Il existe depuis 1914."
      ]
    },
    {
      "cell_type": "markdown",
      "metadata": {},
      "source": [
        "### Processus et manuel\n",
        "\n",
        "* Reproduire un m\u00eame chiffre p\u00e9riodiquement, c'est suivre la m\u00eame liste d'instruction avec des donn\u00e9es actualis\u00e9es\n",
        "* Collecte des donn\u00e9es\n",
        "* Nettoyage\n",
        "* Fusions des bases\n",
        "* Calculs des indices"
      ]
    },
    {
      "cell_type": "markdown",
      "metadata": {},
      "source": [
        "### Transmettre un code ou un manuel\n",
        "\n",
        "* Pour\n",
        "    * le code est pr\u00eat \u00e0 l'emploi\n",
        "    * le code est pr\u00e9cis\n",
        "    * il n'est pas besoin de tout conna\u00eetre pour l'ex\u00e9cuter\n",
        "    * c'est rapide\n",
        "* Contre\n",
        "    * le code est compliqu\u00e9\n",
        "    * le code ne marche pas toujours sur une autre machine\n",
        "    * tout le monde ne sait pas coder mais tout le monde sait lire"
      ]
    },
    {
      "cell_type": "markdown",
      "metadata": {},
      "source": [
        "### Comment transmettre un code ?\n",
        "\n",
        "* envoyer son code par mail\n",
        "* envoyer les instructions pour le r\u00e9cup\u00e9rer\n",
        "* utiliser le m\u00eame moyen que tout autre librairie Python ? --> les packages\n",
        "\n",
        "**La simplicit\u00e9 c'est souvent utiliser ce qui marche d\u00e9j\u00e0.**"
      ]
    },
    {
      "cell_type": "markdown",
      "metadata": {},
      "source": [
        "### Package et documentation\n",
        "\n",
        "* Python propose des outils pour simplifier la cr\u00e9ation de package\n",
        "* [cookiecutter](https://github.com/cookiecutter/cookiecutter) : mod\u00e8le de packages\n",
        "* [td1a_unit_test_ci](https://github.com/sdpython/td1a_unit_test_ci) : un mod\u00e8le pour un package python simple\n",
        "* [td2a_plotting](https://github.com/sdpython/td2a_plotting) : un mod\u00e8le pour une librairie graphique bas\u00e9e sur matplotlib\n",
        "* [td3a_cpp](https://github.com/sdpython/td3a_cpp) : un mod\u00e8le pour \u00e9crire une extension avec cython\n",
        "* [td3a_cpp_deep](https://github.com/sdpython/td3a_cpp_deep) : un mod\u00e8le pour \u00e9tendre pytorch"
      ]
    },
    {
      "cell_type": "markdown",
      "metadata": {},
      "source": [
        "### Les entreprises en pleine mutation\n",
        "\n",
        "* le partage de code n\u00e9cessite un langage commun, les m\u00eames outils, le m\u00eame langage --> uniformisation\n",
        "* un temps d'apprentissage non n\u00e9gligeable\n",
        "* un code grossit sans cesse : il faut communiquer sur les nouvelles fonctionnalit\u00e9s"
      ]
    },
    {
      "cell_type": "markdown",
      "metadata": {},
      "source": [
        "## Les sujets fr\u00e9quemment oubli\u00e9s : tests unitaires, ing\u00e9nierie logicielle"
      ]
    },
    {
      "cell_type": "markdown",
      "metadata": {},
      "source": [
        "### Les tests unitaires\n",
        "\n",
        "* Au d\u00e9but, on les oublie car c'est ennuyeux \u00e0 \u00e9crire.\n",
        "* Ensuite, on les \u00e9crit tout de suite car on est paresseux."
      ]
    },
    {
      "cell_type": "markdown",
      "metadata": {},
      "source": [
        "### La documentation\n",
        "\n",
        "* On l'oublie toujours quand on l'\u00e9crit apr\u00e8s.\n",
        "* Ce qui est logique pour les uns ne l'est pas toujours pour les autres.\n",
        "* Ecrire des exemples est fastidieux mais utiles.\n",
        "* [gallery](https://matplotlib.org/stable/gallery/index)"
      ]
    },
    {
      "cell_type": "markdown",
      "metadata": {},
      "source": [
        "### L'int\u00e9gration continue\n",
        "\n",
        "* Indispensable aujourd'hui"
      ]
    },
    {
      "cell_type": "markdown",
      "metadata": {},
      "source": [
        "### Version, d\u00e9pendance\n",
        "\n",
        "Et les conflits de d\u00e9pendance."
      ]
    },
    {
      "cell_type": "markdown",
      "metadata": {},
      "source": [
        "### Design\n",
        "\n",
        "* refactoriser or not refactoriser ?"
      ]
    },
    {
      "cell_type": "markdown",
      "metadata": {},
      "source": [
        "## Etre rapide avec un des langages les plus lents, mise en production"
      ]
    },
    {
      "cell_type": "markdown",
      "metadata": {},
      "source": [
        "### Grosse machine pour apprendre, petite pour pr\u00e9dire\n",
        "\n",
        "* Estimer des mod\u00e8les n\u00e9cessites beaucoup de ressources et des calculs sur de grands jeux de donn\u00e9es\n",
        "* Utiliser un mod\u00e8le veut souvent dire calculer une pr\u00e9diction tr\u00e8s souvent"
      ]
    },
    {
      "cell_type": "markdown",
      "metadata": {},
      "source": [
        "### Mise en production des mod\u00e8les de machine learning"
      ]
    },
    {
      "cell_type": "markdown",
      "metadata": {},
      "source": [
        "* Obtenir le m\u00eame r\u00e9sultat, avec le m\u00eame mod\u00e8le mais un code diff\u00e9rent\n",
        "* On n'optimise pas les calculs de la m\u00eame mani\u00e8re sur toutes les machines"
      ]
    },
    {
      "cell_type": "code",
      "execution_count": 4,
      "metadata": {},
      "outputs": [],
      "source": []
    },
    {
      "cell_type": "markdown",
      "metadata": {},
      "source": [
        "## Ce cours"
      ]
    },
    {
      "cell_type": "markdown",
      "metadata": {},
      "source": [
        "### Objectif du cours\n",
        "\n",
        "* Programmation en Python\n",
        "* Introduction aux outils principaux pour la datascience"
      ]
    },
    {
      "cell_type": "markdown",
      "metadata": {},
      "source": [
        "### Ressources"
      ]
    },
    {
      "cell_type": "markdown",
      "metadata": {},
      "source": [
        "* [Manuel de programmation avec Python](http://www.xavierdupre.fr/app/teachpyx/helpsphinx/index.html), [antis\u00e8che](http://www.xavierdupre.fr/app/teachpyx/helpsphinx/c_resume/index.html)\n",
        "* [Exercices de programmation](http://www.xavierdupre.fr/app/ensae_teaching_cs/helpsphinx3/td_1a.html)\n",
        "* [Exercices de datascience](http://www.xavierdupre.fr/app/ensae_teaching_cs/helpsphinx3/td_2a.html)\n",
        "* [Exercices de datascience - actuariat](http://www.xavierdupre.fr/app/actuariat_python/helpsphinx/index.html)\n",
        "* [Ce qu'on demande \u00e0 des \u00e9tudiants de savoir faire en deux heures](http://www.xavierdupre.fr/app/ensae_teaching_cs/helpsphinx3/questions/exams_1A.html#seances-notees)\n",
        "* [Introduction au machine learning](http://www.xavierdupre.fr/app/papierstat/helpsphinx/index.html)\n",
        "* [Jeux d'algorithmes pour les petits et les grands](http://www.xavierdupre.fr/app/code_beatrix/helpsphinx/index.html)"
      ]
    },
    {
      "cell_type": "markdown",
      "metadata": {},
      "source": [
        "### Ressources (2)\n",
        "\n",
        "* [cette pr\u00e9sentation](http://www.xavierdupre.fr/app/jupytalk/helpsphinx/index.html)\n",
        "* [machine learning customis\u00e9](http://www.xavierdupre.fr/app/mlinsights/helpsphinx/index.html)\n",
        "* [Sujets math\u00e9matiques avec python](http://www.xavierdupre.fr/app/mlstatpy/helpsphinx/index.html)\n",
        "    * [KMeans](http://www.xavierdupre.fr/app/mlstatpy/helpsphinx/c_clus/kmeans.html)\n",
        "    * [R\u00e9seaux de neurones](http://www.xavierdupre.fr/app/mlstatpy/helpsphinx/c_ml/rn/rn.html)\n",
        "    * [ACP et NMF](http://www.xavierdupre.fr/app/mlstatpy/helpsphinx/c_ml/missing_values_mf.html)\n",
        "    * [Courbe ROC](http://www.xavierdupre.fr/app/mlstatpy/helpsphinx/c_metric/roc.html)\n",
        "    * [p-value](http://www.xavierdupre.fr/app/mlstatpy/helpsphinx/c_metric/pvalues.html)\n",
        "    * [distance d'\u00e9dition](http://www.xavierdupre.fr/app/mlstatpy/helpsphinx/c_algo/edit_distance.html)"
      ]
    },
    {
      "cell_type": "markdown",
      "metadata": {},
      "source": [
        "### Ressources (3)\n",
        "\n",
        "[ONNX](https://onnx.ai/)... ce sur quoi je travaille"
      ]
    },
    {
      "cell_type": "code",
      "execution_count": 5,
      "metadata": {},
      "outputs": [],
      "source": []
    }
  ],
  "metadata": {
    "kernelspec": {
      "display_name": "Python 3",
      "language": "python",
      "name": "python3"
    },
    "language_info": {
      "codemirror_mode": {
        "name": "ipython",
        "version": 3
      },
      "file_extension": ".py",
      "mimetype": "text/x-python",
      "name": "python",
      "nbconvert_exporter": "python",
      "pygments_lexer": "ipython3",
      "version": "3.9.5"
    }
  },
  "nbformat": 4,
  "nbformat_minor": 2
}