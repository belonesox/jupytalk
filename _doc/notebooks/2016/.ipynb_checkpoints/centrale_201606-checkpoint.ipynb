{
 "cells": [
  {
   "cell_type": "markdown",
   "metadata": {},
   "source": [
    "# Big Data, Azure, Machine Learning, Python\n",
    "\n",
    "[Xavier Dupré](http://www.xavierdupre.fr/)\n",
    "\n",
    "``xavier.dupre AT gmail.com``\n",
    "\n",
    "Senior Engineer at **Microsoft France** on [Azure ML](https://azure.microsoft.com/fr-fr/services/machine-learning/), **Teacher in Computer Science** at the [ENSAE](http://www.ensae.fr/)\n",
    "\n",
    "![Azure ML](logo_azureml.png) ![ENSAE](ENSAE_logo_developpe.jpg)"
   ]
  },
  {
   "cell_type": "code",
   "execution_count": null,
   "metadata": {
    "collapsed": true
   },
   "outputs": [],
   "source": [
    "## Présentation de ce que je fais (30-40 minutes)\n",
    "\n",
    "* Microsoft, Bing, Azure\n",
    "* Enseignements\n",
    "* Volume de données gérées et façon de les gérer"
   ]
  },
  {
   "cell_type": "code",
   "execution_count": null,
   "metadata": {
    "collapsed": true
   },
   "outputs": [],
   "source": [
    "\n",
    "2. Démarrage d'un cluster Hadoop sur Azure pour la partie 3\n",
    "3. Etude de cas 1: Bing - (30 minutes)\n",
    "    ? Système de recommandation, application chez Bing aux recherches associées\n",
    "    ? Quelques approches théoriques\n",
    "    ? La mise en pratique avec aux gros volumes de données\n",
    "    ? Optimisation sur Internet, apprentissage par renforcement\n",
    "4. Outils Big Data chez Microsoft / Azure - (60 minutes interactif)\n",
    "    ? Cluster Map/Reduce, Azure ML, Machine Virtuelle, Power BI\n",
    "    ? Trois exemples d'utilisation (Machine Virtual, Azure ML, Cluster Hadoop) sur des jeux de données académiques\n",
    "    ? Quelques exercices\n",
    "5. Etude de cas 2: suggestions sur Internet (30 - 40 minutes, interactif)\n",
    "    ? Session interactive qui va dépendre des idées proposées par les participants\n",
    "    ? Réflexion autour de l'impact d'un système de suggestion\n",
    "        § Sur les utilisateurs\n",
    "        § Sur les logs\n",
    "    ? Métriques : comment mesurer l'impact ?"
   ]
  },
  {
   "cell_type": "code",
   "execution_count": null,
   "metadata": {
    "collapsed": true
   },
   "outputs": [],
   "source": []
  },
  {
   "cell_type": "code",
   "execution_count": null,
   "metadata": {
    "collapsed": true
   },
   "outputs": [],
   "source": []
  },
  {
   "cell_type": "code",
   "execution_count": null,
   "metadata": {
    "collapsed": true
   },
   "outputs": [],
   "source": []
  },
  {
   "cell_type": "code",
   "execution_count": null,
   "metadata": {
    "collapsed": true
   },
   "outputs": [],
   "source": []
  }
 ],
 "metadata": {
  "celltoolbar": "Slideshow",
  "kernelspec": {
   "display_name": "Python 3",
   "language": "python",
   "name": "python3"
  },
  "language_info": {
   "codemirror_mode": {
    "name": "ipython",
    "version": 3
   },
   "file_extension": ".py",
   "mimetype": "text/x-python",
   "name": "python",
   "nbconvert_exporter": "python",
   "pygments_lexer": "ipython3",
   "version": "3.5.0"
  },
  "widgets": {
   "state": {},
   "version": "1.1.2"
  }
 },
 "nbformat": 4,
 "nbformat_minor": 0
}
