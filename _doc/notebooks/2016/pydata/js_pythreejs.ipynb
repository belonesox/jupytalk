{
  "cells": [
    {
      "cell_type": "markdown",
      "metadata": {},
      "source": [
        "# pythreejs"
      ]
    },
    {
      "cell_type": "markdown",
      "metadata": {},
      "source": [
        "[pythreejs](https://github.com/jovyan/pythreejs) allows 3D interactive graphs in a notebook.\n",
        "\n",
        "[documentation](http://threejs.org/docs/index.html#Manual/Introduction/Creating_a_scene) [source](https://github.com/jovyan/pythreejs) [installation](https://github.com/jovyan/pythreejs#installation) [tutorial](https://github.com/jovyan/pythreejs/blob/master/examples/Examples.ipynb) [gallery](http://threejs.org/) "
      ]
    },
    {
      "cell_type": "code",
      "execution_count": null,
      "metadata": {
        "collapsed": false
      },
      "outputs": [
        {
          "data": {
            "text/html": [
              "<div id=\"my_id_menu_nb\">run previous cell, wait for 2 seconds</div>\n",
              "<script>\n",
              "function repeat_indent_string(n){\n",
              "    var a = \"\" ;\n",
              "    for ( ; n > 0 ; --n) {\n",
              "        a += \"    \";\n",
              "    }\n",
              "    return a;\n",
              "}\n",
              "var update_menu_string = function(begin, lfirst, llast, sformat, send, keep_item) {\n",
              "    var anchors = document.getElementsByClassName(\"section\");\n",
              "    if (anchors.length == 0) {\n",
              "        anchors = document.getElementsByClassName(\"text_cell_render rendered_html\");\n",
              "    }\n",
              "    var i,t;\n",
              "    var text_menu = begin;\n",
              "    var text_memo = \"<pre>\\nlength:\" + anchors.length + \"\\n\";\n",
              "    var ind = \"\";\n",
              "    var memo_level = 1;\n",
              "    var href;\n",
              "    var tags = [];\n",
              "    var main_item = 0;\n",
              "    for (i = 0; i <= llast; i++) {\n",
              "        tags.push(\"h\" + i);\n",
              "    }\n",
              "\n",
              "    for (i = 0; i < anchors.length; i++) {\n",
              "        text_memo += \"**\" + anchors[i].id + \"--\\n\";\n",
              "\n",
              "        var child = null;\n",
              "        for(t = 0; t < tags.length; t++) {\n",
              "            var r = anchors[i].getElementsByTagName(tags[t]);\n",
              "            if (r.length > 0) {\n",
              "child = r[0];\n",
              "break;\n",
              "            }\n",
              "        }\n",
              "        if (child == null){\n",
              "            text_memo += \"null\\n\";\n",
              "            continue;\n",
              "        }\n",
              "        if (anchors[i].hasAttribute(\"id\")) {\n",
              "            // when converted in RST\n",
              "            href = anchors[i].id;\n",
              "            text_memo += \"#1-\" + href;\n",
              "            // passer \u00e0 child suivant (le chercher)\n",
              "        }\n",
              "        else if (child.hasAttribute(\"id\")) {\n",
              "            // in a notebook\n",
              "            href = child.id;\n",
              "            text_memo += \"#2-\" + href;\n",
              "        }\n",
              "        else {\n",
              "            text_memo += \"#3-\" + \"*\" + \"\\n\";\n",
              "            continue;\n",
              "        }\n",
              "        var title = child.textContent;\n",
              "        var level = parseInt(child.tagName.substring(1,2));\n",
              "\n",
              "        text_memo += \"--\" + level + \"?\" + lfirst + \"--\" + title + \"\\n\";\n",
              "\n",
              "        if ((level < lfirst) || (level > llast)) {\n",
              "            continue ;\n",
              "        }\n",
              "        if (title.endsWith('\u00b6')) {\n",
              "            title = title.substring(0,title.length-1).replace(\"<\", \"&lt;\").replace(\">\", \"&gt;\").replace(\"&\", \"&amp;\")\n",
              "        }\n",
              "\n",
              "        if (title.length == 0) {\n",
              "            continue;\n",
              "        }\n",
              "\n",
              "        while (level < memo_level) {\n",
              "            text_menu += \"</ul>\\n\";\n",
              "            memo_level -= 1;\n",
              "        }\n",
              "        if (level == lfirst) {\n",
              "            main_item += 1;\n",
              "        }\n",
              "        if (keep_item != -1 && main_item != keep_item + 1) {\n",
              "            // alert(main_item + \" - \" + level + \" - \" + keep_item);\n",
              "            continue;\n",
              "        }\n",
              "        while (level > memo_level) {\n",
              "            text_menu += \"<ul>\\n\";\n",
              "            memo_level += 1;\n",
              "        }\n",
              "        text_menu += repeat_indent_string(level-2) + sformat.replace(\"__HREF__\", href).replace(\"__TITLE__\", title);\n",
              "    }\n",
              "    while (1 < memo_level) {\n",
              "        text_menu += \"</ul>\\n\";\n",
              "        memo_level -= 1;\n",
              "    }\n",
              "    text_menu += send;\n",
              "    //text_menu += \"\\n\" + text_memo;\n",
              "    return text_menu;\n",
              "};\n",
              "var update_menu = function() {\n",
              "    var sbegin = \"\";\n",
              "    var sformat = '<li><a href=\"#__HREF__\">__TITLE__</a></li>';\n",
              "    var send = \"\";\n",
              "    var keep_item = -1;\n",
              "    var text_menu = update_menu_string(sbegin, 2, 4, sformat, send, keep_item);\n",
              "    var menu = document.getElementById(\"my_id_menu_nb\");\n",
              "    menu.innerHTML=text_menu;\n",
              "};\n",
              "window.setTimeout(update_menu,2000);\n",
              "            </script>"
            ],
            "text/plain": [
              "<IPython.core.display.HTML object>"
            ]
          },
          "execution_count": null,
          "metadata": {},
          "output_type": "execute_result"
        }
      ],
      "source": [
        "from jyquickhelper import add_notebook_menu\n",
        "add_notebook_menu()"
      ]
    },
    {
      "cell_type": "markdown",
      "metadata": {},
      "source": [
        "## Installation\n",
        "\n",
        "*pythreejs* requires local installation.\n",
        "\n",
        "```\n",
        "pip install pythreejs\n",
        "jupyter nbextension enable --py pythreejs\n",
        "```"
      ]
    },
    {
      "cell_type": "markdown",
      "metadata": {},
      "source": [
        "## example"
      ]
    },
    {
      "cell_type": "code",
      "execution_count": null,
      "metadata": {
        "collapsed": false
      },
      "outputs": [],
      "source": [
        "from pythreejs import *\n",
        "import numpy as np\n",
        "from IPython.display import display\n",
        "from ipywidgets import HTML, Text\n",
        "from traitlets import link, dlink"
      ]
    },
    {
      "cell_type": "code",
      "execution_count": null,
      "metadata": {
        "collapsed": true
      },
      "outputs": [],
      "source": [
        "ball = Mesh(geometry=SphereGeometry(radius=1), material=LambertMaterial(color='red'), position=[2,1,0])\n",
        "scene = Scene(children=[ball, AmbientLight(color='#777777'), make_text('Hello World!', height=.6)])\n",
        "c = PerspectiveCamera(position=[0, 5, 5],\n",
        "                      up=[0, 0, 1],\n",
        "                      children=[DirectionalLight(color='white', position=[3, 5, 1], intensity=0.5)])\n",
        "renderer = Renderer(camera=c, scene=scene, controls=[OrbitControls(controlling=c)])\n",
        "display(renderer)"
      ]
    },
    {
      "cell_type": "code",
      "execution_count": null,
      "metadata": {
        "collapsed": false
      },
      "outputs": [],
      "source": [
        "nx, ny = (20, 20)\n",
        "xmax=1\n",
        "x = np.linspace(-xmax, xmax, nx)\n",
        "y = np.linspace(-xmax, xmax, ny)\n",
        "xx, yy = np.meshgrid(x, y)\n",
        "z = xx ** 2 - yy ** 2\n",
        "#z[6,1] = float('nan')\n",
        "surf_g = SurfaceGeometry(z=list(z[::-1].flat), \n",
        "                         width=2 * xmax,\n",
        "                         height=2 * xmax,\n",
        "                         width_segments=nx - 1,\n",
        "                         height_segments=ny - 1)\n",
        "\n",
        "surf = Mesh(geometry=surf_g, material=LambertMaterial(map=height_texture(z[::-1], 'YlGnBu_r')))\n",
        "surfgrid = SurfaceGrid(geometry=surf_g, material=LineBasicMaterial(color='black'))\n",
        "hover_point = Mesh(geometry=SphereGeometry(radius=0.05), material=LambertMaterial(color='hotpink'))\n",
        "scene = Scene(children=[surf, surfgrid, hover_point, AmbientLight(color='#777777')])\n",
        "c = PerspectiveCamera(position=[0, 3, 3], up=[0, 0, 1], \n",
        "                      children=[DirectionalLight(color='white', position=[3, 5, 1], intensity=0.6)])\n",
        "click_picker = Picker(root=surf, event='dblclick')\n",
        "hover_picker = Picker(root=surf, event='mousemove')\n",
        "renderer = Renderer(camera=c, scene = scene, controls=[OrbitControls(controlling=c), click_picker, hover_picker])\n",
        "\n",
        "def f(change):\n",
        "    value = change['new']\n",
        "    print('Clicked on %s' % value)\n",
        "    point = Mesh(geometry=SphereGeometry(radius=0.05), \n",
        "                 material=LambertMaterial(color='red'),\n",
        "                 position=value)\n",
        "    scene.children = list(scene.children) + [point]\n",
        "\n",
        "click_picker.observe(f, names=['point'])\n",
        "\n",
        "link((hover_point, 'position'), (hover_picker, 'point'))\n",
        "\n",
        "h = HTML()\n",
        "def g(change):\n",
        "    h.value = 'Green point at (%.3f, %.3f, %.3f)' % tuple(change['new'])\n",
        "g({'new': hover_point.position})\n",
        "hover_picker.observe(g, names=['point'])\n",
        "display(h)\n",
        "display(renderer)"
      ]
    },
    {
      "cell_type": "code",
      "execution_count": null,
      "metadata": {
        "collapsed": true
      },
      "outputs": [],
      "source": []
    }
  ],
  "metadata": {
    "kernelspec": {
      "display_name": "Python 3",
      "language": "python",
      "name": "python3"
    },
    "language_info": {
      "codemirror_mode": {
        "name": "ipython",
        "version": 3
      },
      "file_extension": ".py",
      "mimetype": "text/x-python",
      "name": "python",
      "nbconvert_exporter": "python",
      "pygments_lexer": "ipython3",
      "version": "3.5.0"
    },
    "widgets": {
      "state": {
        "082b28974f2c46328db40bba00fedf23": {
          "views": []
        },
        "0897abc2d94b4a9baf8a6623a80fd547": {
          "views": []
        },
        "0e8e30f84b654831843dbf2abdaeaa9e": {
          "views": []
        },
        "12126882e5a547f2b0028a0caf934f90": {
          "views": [
            {
              "cell_index": 6
            }
          ]
        },
        "1b270707621a46d1a8a26090145b364e": {
          "views": []
        },
        "38585415674146ddb999bd4391e2767a": {
          "views": []
        },
        "3ca0fc5d20844a79b85bd6dbd804bf6f": {
          "views": []
        },
        "40c45287f8474e5fa9bb5019e4eb4ee9": {
          "views": []
        },
        "46ee6c96d9eb43cbbdd5fe271de89aac": {
          "views": []
        },
        "4d8c14a04a184ced80aa33c07b8c8139": {
          "views": []
        },
        "4f857de3483244f381429af91afa3a91": {
          "views": []
        },
        "4f87471ca0bb40719ab91d8e10c693d0": {
          "views": []
        },
        "57e0af34300f4bd4828e5c05fc6100c6": {
          "views": []
        },
        "5aefee8680604377904f186b3ec07016": {
          "views": []
        },
        "5fa4d6f2c02d4a96b5bafc8e721d32c3": {
          "views": []
        },
        "60d057937c9544eb9a0a7bd8b21e825d": {
          "views": []
        },
        "6b60850fffca47d0ae635fa2509a113a": {
          "views": []
        },
        "7635da1bc26d45179153ecf4f428cffc": {
          "views": []
        },
        "78c6a14717c548f18126402b0dfa7f69": {
          "views": []
        },
        "7dceebff786c4880bac45b482fe49a4b": {
          "views": []
        },
        "86e5e6f8df804d349bd7487361b0b96b": {
          "views": []
        },
        "97bd12cdc5ea41c1a5552deb84ebcd6b": {
          "views": [
            {
              "cell_index": 6
            }
          ]
        },
        "983448f591a742d4a967a323fc343ab3": {
          "views": []
        },
        "ae0c431ebb094489b22d8f782e0a12c1": {
          "views": []
        },
        "afa3891ea28147b48dc78e8117cff3b5": {
          "views": []
        },
        "b7752214ee164509830618ffa2ab37f7": {
          "views": []
        },
        "c33a2e9370d74e07978e7ab03b7eaf29": {
          "views": []
        },
        "c9d3bf4593a641e6b7952b5b8e35fd06": {
          "views": []
        },
        "ddc1c29354974f9c903e91e99e1e5eca": {
          "views": [
            {
              "cell_index": 5
            }
          ]
        },
        "e642370336d6484088370f00140fbc19": {
          "views": []
        },
        "e9237a0fbef84788b51dc824ea755603": {
          "views": []
        },
        "ea1445d4cf7443a5a1ebc224eb212633": {
          "views": []
        },
        "fe0753715e28464ea2d9cdc70231b19e": {
          "views": []
        },
        "fe642ca4f4f64fc59fcbd9318cfa3001": {
          "views": []
        }
      },
      "version": "1.1.2"
    }
  },
  "nbformat": 4,
  "nbformat_minor": 0
}