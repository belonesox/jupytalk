{
  "cells": [
    {
      "cell_type": "markdown",
      "metadata": {},
      "source": [
        "# bqplot\n",
        "\n",
        "Ths library is well integrated with Jupyter and will probably stick for a long time. It mixes Python and Javascript. One drawback: you need to run the notebook everytime to get the graph, they don't stay because Jupyter server is sending them, they don't appear in the output.\n",
        "\n",
        "[source](https://github.com/bloomberg/bqplot) [installation](https://pypi.python.org/pypi/bqplot/) [source](https://github.com/bloomberg/bqplot) [tutorial](https://github.com/bloomberg/bqplot) [gallerie](https://github.com/bloomberg/bqplot/tree/master/examples)"
      ]
    },
    {
      "cell_type": "code",
      "execution_count": null,
      "metadata": {
        "collapsed": true
      },
      "outputs": [],
      "source": [
        "%matplotlib inline"
      ]
    },
    {
      "cell_type": "code",
      "execution_count": null,
      "metadata": {
        "collapsed": false
      },
      "outputs": [
        {
          "data": {
            "text/html": [
              "<div id=\"my_id_menu_nb\">run previous cell, wait for 2 seconds</div>\n",
              "<script>\n",
              "function repeat_indent_string(n){\n",
              "    var a = \"\" ;\n",
              "    for ( ; n > 0 ; --n) {\n",
              "        a += \"    \";\n",
              "    }\n",
              "    return a;\n",
              "}\n",
              "var update_menu_string = function(begin, lfirst, llast, sformat, send, keep_item) {\n",
              "    var anchors = document.getElementsByClassName(\"section\");\n",
              "    if (anchors.length == 0) {\n",
              "        anchors = document.getElementsByClassName(\"text_cell_render rendered_html\");\n",
              "    }\n",
              "    var i,t;\n",
              "    var text_menu = begin;\n",
              "    var text_memo = \"<pre>\\nlength:\" + anchors.length + \"\\n\";\n",
              "    var ind = \"\";\n",
              "    var memo_level = 1;\n",
              "    var href;\n",
              "    var tags = [];\n",
              "    var main_item = 0;\n",
              "    for (i = 0; i <= llast; i++) {\n",
              "        tags.push(\"h\" + i);\n",
              "    }\n",
              "\n",
              "    for (i = 0; i < anchors.length; i++) {\n",
              "        text_memo += \"**\" + anchors[i].id + \"--\\n\";\n",
              "\n",
              "        var child = null;\n",
              "        for(t = 0; t < tags.length; t++) {\n",
              "            var r = anchors[i].getElementsByTagName(tags[t]);\n",
              "            if (r.length > 0) {\n",
              "child = r[0];\n",
              "break;\n",
              "            }\n",
              "        }\n",
              "        if (child == null){\n",
              "            text_memo += \"null\\n\";\n",
              "            continue;\n",
              "        }\n",
              "        if (anchors[i].hasAttribute(\"id\")) {\n",
              "            // when converted in RST\n",
              "            href = anchors[i].id;\n",
              "            text_memo += \"#1-\" + href;\n",
              "            // passer \u00e0 child suivant (le chercher)\n",
              "        }\n",
              "        else if (child.hasAttribute(\"id\")) {\n",
              "            // in a notebook\n",
              "            href = child.id;\n",
              "            text_memo += \"#2-\" + href;\n",
              "        }\n",
              "        else {\n",
              "            text_memo += \"#3-\" + \"*\" + \"\\n\";\n",
              "            continue;\n",
              "        }\n",
              "        var title = child.textContent;\n",
              "        var level = parseInt(child.tagName.substring(1,2));\n",
              "\n",
              "        text_memo += \"--\" + level + \"?\" + lfirst + \"--\" + title + \"\\n\";\n",
              "\n",
              "        if ((level < lfirst) || (level > llast)) {\n",
              "            continue ;\n",
              "        }\n",
              "        if (title.endsWith('\u00b6')) {\n",
              "            title = title.substring(0,title.length-1).replace(\"<\", \"&lt;\").replace(\">\", \"&gt;\").replace(\"&\", \"&amp;\")\n",
              "        }\n",
              "\n",
              "        if (title.length == 0) {\n",
              "            continue;\n",
              "        }\n",
              "\n",
              "        while (level < memo_level) {\n",
              "            text_menu += \"</ul>\\n\";\n",
              "            memo_level -= 1;\n",
              "        }\n",
              "        if (level == lfirst) {\n",
              "            main_item += 1;\n",
              "        }\n",
              "        if (keep_item != -1 && main_item != keep_item + 1) {\n",
              "            // alert(main_item + \" - \" + level + \" - \" + keep_item);\n",
              "            continue;\n",
              "        }\n",
              "        while (level > memo_level) {\n",
              "            text_menu += \"<ul>\\n\";\n",
              "            memo_level += 1;\n",
              "        }\n",
              "        text_menu += repeat_indent_string(level-2) + sformat.replace(\"__HREF__\", href).replace(\"__TITLE__\", title);\n",
              "    }\n",
              "    while (1 < memo_level) {\n",
              "        text_menu += \"</ul>\\n\";\n",
              "        memo_level -= 1;\n",
              "    }\n",
              "    text_menu += send;\n",
              "    //text_menu += \"\\n\" + text_memo;\n",
              "    return text_menu;\n",
              "};\n",
              "var update_menu = function() {\n",
              "    var sbegin = \"\";\n",
              "    var sformat = '<li><a href=\"#__HREF__\">__TITLE__</a></li>';\n",
              "    var send = \"\";\n",
              "    var keep_item = -1;\n",
              "    var text_menu = update_menu_string(sbegin, 2, 4, sformat, send, keep_item);\n",
              "    var menu = document.getElementById(\"my_id_menu_nb\");\n",
              "    menu.innerHTML=text_menu;\n",
              "};\n",
              "window.setTimeout(update_menu,2000);\n",
              "            </script>"
            ],
            "text/plain": [
              "<IPython.core.display.HTML object>"
            ]
          },
          "execution_count": null,
          "metadata": {},
          "output_type": "execute_result"
        }
      ],
      "source": [
        "from pyquickhelper.ipythonhelper import add_notebook_menu\n",
        "add_notebook_menu()"
      ]
    },
    {
      "cell_type": "markdown",
      "metadata": {},
      "source": [
        "## Setup\n",
        "\n",
        "Le module est install\u00e9 d'abord avec l'instruction ``pip install bqplot`` puis avec l'instruction ``jupyter nbextension enable --py bqplot``. Sans cela, le notebook semble bloqu\u00e9 dans l'ex\u00e9cution du code utilisant ce module."
      ]
    },
    {
      "cell_type": "code",
      "execution_count": null,
      "metadata": {
        "collapsed": true
      },
      "outputs": [],
      "source": [
        "import bqplot"
      ]
    },
    {
      "cell_type": "markdown",
      "metadata": {},
      "source": [
        "## Premiers exemples de la documentation"
      ]
    },
    {
      "cell_type": "code",
      "execution_count": null,
      "metadata": {
        "collapsed": false
      },
      "outputs": [],
      "source": [
        "from bqplot import pyplot as plt\n",
        "import numpy as np\n",
        "plt.figure(1)\n",
        "np.random.seed(0)\n",
        "n = 200\n",
        "x = np.linspace(0.0, 10.0, n)\n",
        "y = np.cumsum(np.random.randn(n))\n",
        "plt.plot(x,y, axes_options={'y': {'grid_lines': 'dashed'}})\n",
        "plt.show()"
      ]
    },
    {
      "cell_type": "code",
      "execution_count": null,
      "metadata": {
        "collapsed": true
      },
      "outputs": [],
      "source": [
        "import numpy as np\n",
        "from IPython.display import display\n",
        "import bqplot as bq\n",
        "\n",
        "size = 20\n",
        "np.random.seed(0)\n",
        "\n",
        "x_data = np.arange(size)\n",
        "\n",
        "x_ord = bq.OrdinalScale()\n",
        "y_sc = bq.LinearScale()\n",
        "\n",
        "bar = bq.Bars(x=x_data, y=np.random.randn(2, size), scales={'x': x_ord, 'y': y_sc},\n",
        "              type='stacked')\n",
        "line = bq.Lines(x=x_data, y=np.random.randn(size), scales={'x': x_ord, 'y': y_sc},\n",
        "                stroke_width=3, colors=['red'], display_legend=True, labels=['Line chart'])\n",
        "\n",
        "ax_x = bq.Axis(scale=x_ord)\n",
        "ax_y = bq.Axis(scale=y_sc, orientation='vertical', tick_format='0.2f', grid_lines='solid')\n",
        "\n",
        "fig = bq.Figure(marks=[bar, line], axes=[ax_x, ax_y])\n",
        "display(fig)"
      ]
    },
    {
      "cell_type": "markdown",
      "metadata": {
        "collapsed": true
      },
      "source": [
        "## Animation\n",
        "\n",
        "La seconde cellule d\u00e9finit le graphe. La troisi\u00e8me met \u00e0 jour le graphique avec une nouvelle s\u00e9rie. La mise \u00e0 jour est progressive."
      ]
    },
    {
      "cell_type": "code",
      "execution_count": null,
      "metadata": {
        "collapsed": true
      },
      "outputs": [],
      "source": [
        "import numpy as np\n",
        "import bqplot as bq\n",
        "from IPython.display import display"
      ]
    },
    {
      "cell_type": "code",
      "execution_count": null,
      "metadata": {
        "collapsed": true
      },
      "outputs": [],
      "source": [
        "xs = bq.LinearScale()\n",
        "ys = bq.LinearScale()\n",
        "x = np.arange(100)\n",
        "y = np.cumsum(np.random.randn(2, 100), axis=1) #two random walks\n",
        "\n",
        "line = bq.Lines(x=x, y=y, scales={'x': xs, 'y': ys}, colors=['red', 'green'])\n",
        "xax = bq.Axis(scale=xs, label='x', grid_lines='solid')\n",
        "yax = bq.Axis(scale=ys, orientation='vertical', tick_format='0.2f', label='y', grid_lines='solid')\n",
        "\n",
        "fig = bq.Figure(marks=[line], axes=[xax, yax], animation_duration=1000)\n",
        "display(fig)"
      ]
    },
    {
      "cell_type": "code",
      "execution_count": null,
      "metadata": {
        "collapsed": true
      },
      "outputs": [],
      "source": [
        "#update data of the line mark\n",
        "line.y = np.cumsum(np.random.randn(2, 100), axis=1)"
      ]
    },
    {
      "cell_type": "markdown",
      "metadata": {},
      "source": [
        "## Cartes"
      ]
    },
    {
      "cell_type": "code",
      "execution_count": null,
      "metadata": {
        "collapsed": true
      },
      "outputs": [],
      "source": [
        "from IPython.display import display\n",
        "from bqplot import (Figure, Map, Mercator, Orthographic, ColorScale, ColorAxis,\n",
        "                    AlbersUSA, topo_load, Tooltip)\n",
        "from pyquickhelper.filehelper import get_url_content_timeout\n",
        "url = \"https://raw.githubusercontent.com/bloomberg/bqplot/master/bqplot/map_data/\""
      ]
    },
    {
      "cell_type": "code",
      "execution_count": null,
      "metadata": {
        "collapsed": true
      },
      "outputs": [],
      "source": [
        "sc_geo = Mercator()\n",
        "x = Map(scales={'projection': sc_geo})\n",
        "fig = Figure(marks=[x], title='Basic Map Example')\n",
        "display(fig)"
      ]
    },
    {
      "cell_type": "code",
      "execution_count": null,
      "metadata": {
        "collapsed": false
      },
      "outputs": [],
      "source": [
        "sc_geo = Mercator()\n",
        "sc_c1 = ColorScale(scheme='YlOrRd')\n",
        "\n",
        "map_styles = {'color': {643: 105., 4: 21., 398: 23., 156: 42., 124:78., 76: 98.}, \n",
        "              'scales': {'projection': sc_geo, 'color': sc_c1}}\n",
        "\n",
        "axis = ColorAxis(scale=sc_c1)\n",
        "\n",
        "try:\n",
        "    x = Map(map_data=topo_load('WorldMap.json'), **map_styles)\n",
        "except:\n",
        "    import os\n",
        "    maps = os.path.abspath('WorldMap.json')\n",
        "    get_url_content_timeout(url + 'WorldMap.json', output=maps)\n",
        "    x = Map(map_data=topo_load(maps), **map_styles)\n",
        "\n",
        "fig = Figure(marks=[x], axes=[axis],title='Choropleth Example')\n",
        "display(fig)"
      ]
    },
    {
      "cell_type": "markdown",
      "metadata": {},
      "source": [
        "On peut s\u00e9lectionner des zones de la carte suivante. Je recommande l'usage de Firefox ou Chrome."
      ]
    },
    {
      "cell_type": "code",
      "execution_count": null,
      "metadata": {
        "collapsed": true
      },
      "outputs": [],
      "source": [
        "def_tt = Tooltip(fields=['id', 'name'])\n",
        "map_mark = Map(scales={'projection': Mercator()}, tooltip=def_tt)\n",
        "map_mark.interactions = {'click': 'select', 'hover': 'tooltip'}\n",
        "fig = Figure(marks=[map_mark], title='Interactions Example')\n",
        "display(fig)"
      ]
    },
    {
      "cell_type": "markdown",
      "metadata": {},
      "source": [
        "## Interactions"
      ]
    },
    {
      "cell_type": "code",
      "execution_count": null,
      "metadata": {
        "collapsed": true
      },
      "outputs": [],
      "source": [
        "from bqplot import *\n",
        "from IPython.display import display\n",
        "import numpy as np\n",
        "import pandas as pd"
      ]
    },
    {
      "cell_type": "code",
      "execution_count": null,
      "metadata": {
        "collapsed": true
      },
      "outputs": [],
      "source": [
        "from ipywidgets import *"
      ]
    },
    {
      "cell_type": "code",
      "execution_count": null,
      "metadata": {
        "collapsed": false
      },
      "outputs": [
        {
          "name": "stdout",
          "output_type": "stream",
          "text": [
            "{'event': 'hover', 'data': {'index': 3, 'unique_id': 3, 'x': 3, 'y': 0.18133842921782128, 'name': 103}}\n",
            "{'event': 'element_click', 'data': {'index': 8, 'unique_id': 8, 'x': 8, 'y': -0.045703960660234855, 'name': 108}}\n",
            "{'event': 'hover', 'data': {'index': 11, 'unique_id': 11, 'x': 11, 'y': -0.5394546333745014, 'name': 111}}\n",
            "{'event': 'hover', 'data': {'index': 12, 'unique_id': 12, 'x': 12, 'y': -0.27567053456055696, 'name': 112}}\n",
            "{'event': 'element_click', 'data': {'index': 12, 'unique_id': 12, 'x': 12, 'y': 1.1002843382203737, 'name': 112}}\n",
            "{'event': 'element_click', 'data': {'index': 13, 'unique_id': 13, 'x': 13, 'y': 1.2980219723262212, 'name': 113}}\n",
            "{'event': 'hover', 'data': {'index': 14, 'unique_id': 14, 'x': 14, 'y': 1.738872677454511, 'name': 114}}\n"
          ]
        }
      ],
      "source": [
        "x_sc = LinearScale()\n",
        "y_sc = LinearScale()\n",
        "\n",
        "x_data = np.arange(20)\n",
        "y_data = np.random.randn(20)\n",
        "\n",
        "dd = Dropdown(options=['First', 'Second', 'Third', 'Fourth'])\n",
        "scatter_chart = Scatter(x=x_data, y=y_data, scales= {'x': x_sc, 'y': y_sc}, default_colors=['dodgerblue'],\n",
        "                       names=np.arange(100, 200), names_unique=False, display_names=False, display_legend=True,\n",
        "                       labels=['Blue'])\n",
        "ins = Button(icon='fa-legal')\n",
        "scatter_chart.tooltip = ins\n",
        "\n",
        "scatter_chart2 = Scatter(x=x_data, y=np.random.randn(20), \n",
        "                         scales= {'x': x_sc, 'y': y_sc}, default_colors=['orangered'],\n",
        "                         tooltip=dd, names=np.arange(100, 200), names_unique=False, display_names=False, \n",
        "                         display_legend=True, labels=['Red'])\n",
        "\n",
        "ax_x = Axis(scale=x_sc)\n",
        "ax_y = Axis(scale=y_sc, orientation='vertical', tick_format='0.2f')\n",
        "\n",
        "fig = Figure(marks=[scatter_chart, scatter_chart2], axes=[ax_x, ax_y])\n",
        "display(fig)"
      ]
    },
    {
      "cell_type": "markdown",
      "metadata": {},
      "source": [
        "La cellule suivante attrape les \u00e9v\u00e9nements g\u00e9n\u00e9r\u00e9es par la souris et affiche ce qu'elle attrape."
      ]
    },
    {
      "cell_type": "code",
      "execution_count": null,
      "metadata": {
        "collapsed": true
      },
      "outputs": [],
      "source": [
        "def print_event(self, target):\n",
        "    print(target)\n",
        "\n",
        "# Adding call back to scatter events\n",
        "# print custom mssg on hover and background click of Blue Scatter\n",
        "scatter_chart.on_hover(print_event)\n",
        "scatter_chart.on_background_click(print_event)\n",
        "\n",
        "# print custom mssg on click of an element or legend of Red Scatter\n",
        "scatter_chart2.on_element_click(print_event)\n",
        "scatter_chart2.on_legend_click(print_event)"
      ]
    },
    {
      "cell_type": "markdown",
      "metadata": {},
      "source": [
        "On attrape un \u00e9v\u00e9nement pour afficher un graphe plus complexe."
      ]
    },
    {
      "cell_type": "code",
      "execution_count": null,
      "metadata": {
        "collapsed": true
      },
      "outputs": [],
      "source": [
        "# Adding figure as tooltip\n",
        "x_sc = LinearScale()\n",
        "y_sc = LinearScale()\n",
        "\n",
        "x_data = np.arange(10)\n",
        "y_data = np.random.randn(10)\n",
        "\n",
        "lc = Lines(x=x_data, y=y_data, scales={'x': x_sc, 'y':y_sc})\n",
        "ax_x = Axis(scale=x_sc)\n",
        "ax_y = Axis(scale=y_sc, orientation='vertical', tick_format='0.2f')\n",
        "tooltip_fig = Figure(marks=[lc], axes=[ax_x, ax_y], min_height=400, min_width=400)\n",
        "\n",
        "scatter_chart.tooltip = tooltip_fig"
      ]
    },
    {
      "cell_type": "code",
      "execution_count": null,
      "metadata": {
        "collapsed": true
      },
      "outputs": [],
      "source": [
        "# Changing interaction from hover to click for tooltip\n",
        "scatter_chart.interactions = {'click': 'tooltip'}"
      ]
    },
    {
      "cell_type": "code",
      "execution_count": null,
      "metadata": {
        "collapsed": true
      },
      "outputs": [],
      "source": []
    }
  ],
  "metadata": {
    "kernelspec": {
      "display_name": "Python 3",
      "language": "python",
      "name": "python3"
    },
    "language_info": {
      "codemirror_mode": {
        "name": "ipython",
        "version": 3
      },
      "file_extension": ".py",
      "mimetype": "text/x-python",
      "name": "python",
      "nbconvert_exporter": "python",
      "pygments_lexer": "ipython3",
      "version": "3.5.0"
    },
    "widgets": {
      "state": {
        "011f916e88db455ab085e941f982135b": {
          "views": []
        },
        "015a1188cf2d4d0f91aad8b1fb4da479": {
          "views": []
        },
        "018314b2f3ef46438ef240418ab62772": {
          "views": []
        },
        "0248ae600acf43b09629e009caeb5d51": {
          "views": []
        },
        "05b8acdfddd04b5ca7ee04e9ffed3633": {
          "views": []
        },
        "0c14e17464814954aabfedcb1200e08c": {
          "views": []
        },
        "123742f0ea784d479113616dd15ac96d": {
          "views": []
        },
        "16016b2f70604e658697b65c8a29a6b4": {
          "views": []
        },
        "16c1c5eb60c64c878f5d122b618d037a": {
          "views": []
        },
        "1a8fa3ce1f794b528b3f806951ce4c9d": {
          "views": []
        },
        "1e1f48bec70846b6aa2c6ec519835287": {
          "views": []
        },
        "1e60ff5f416442d88ca7195031a3f889": {
          "views": [
            {
              "cell_index": 10
            }
          ]
        },
        "1fe5546628814405bdf2b83d07c3a21d": {
          "views": []
        },
        "21cbc3b67c794fecabb1c249c826cc9e": {
          "views": []
        },
        "24c901a8596a45e6a25ac6c846094129": {
          "views": [
            {
              "cell_index": 15
            }
          ]
        },
        "27f0f41b1d4c46e9a506a30cf5ababd6": {
          "views": []
        },
        "2a89590a35934d4584f727f92c1d09d1": {
          "views": []
        },
        "2bb488fa40334f16b1ec52cd4a79fdb5": {
          "views": []
        },
        "2e3415f9a54a4262b8020ea5234551ad": {
          "views": []
        },
        "308d406208fa4963ac8cbeee2511cd23": {
          "views": []
        },
        "333ba50190a74eee8caf6145f5444403": {
          "views": []
        },
        "35958eb261414c03a1e13cbcc87b5cdc": {
          "views": [
            {
              "cell_index": 6
            }
          ]
        },
        "373526089f6246ca9e57ea6236b7d3c3": {
          "views": []
        },
        "38fa4b07b0ae4993936cae76409a7fb0": {
          "views": []
        },
        "394dd0b96e3946a0baf87790a693395e": {
          "views": []
        },
        "39a2fbe373504a1a84042449e09f1447": {
          "views": []
        },
        "3ac2eaed389e4ebcb5d29e3dd0eec801": {
          "views": []
        },
        "40af2b9fd6e34f4f80bd47ea4038eb64": {
          "views": []
        },
        "41bc22aab80d4b64a8e617baee9fd83b": {
          "views": []
        },
        "4660ca3804f04870a58b87205d2997e8": {
          "views": []
        },
        "49efd00a48d24dffa74206780e8e4fe0": {
          "views": []
        },
        "4a30dcab9c894ee0a21667c74adcbffa": {
          "views": []
        },
        "4b8437a0156a4f4eb5f2b805c943c44d": {
          "views": []
        },
        "4ed6bb30d1804b50afea2bb7f04c8c79": {
          "views": []
        },
        "506414562bf5428880c7f1804d4d36df": {
          "views": []
        },
        "532dfb5e60e741b39c5da3fad2ee8075": {
          "views": []
        },
        "57050e039352443ab5831985ef9d647e": {
          "views": []
        },
        "57247838aec64a7a92eefb8f2001bd80": {
          "views": []
        },
        "5a629580e2da412cb4fccee606dd80a9": {
          "views": []
        },
        "6206a5e90ae043d99ba2ab8a29872f55": {
          "views": []
        },
        "641a159549b5471a943ff32723699547": {
          "views": []
        },
        "647a7457ad67411cb68f118b16891443": {
          "views": []
        },
        "70ea7f53d062489a8c9b1d44de69c2aa": {
          "views": []
        },
        "70fbd22541704dbd8351693793579c28": {
          "views": []
        },
        "7217d88fa7424eebb97c0c05d399a042": {
          "views": []
        },
        "78ff1d28eb1a42ba8a9c67a29b51793f": {
          "views": [
            {
              "cell_index": 21
            }
          ]
        },
        "79a42f3e6cfd48269550ffa500f781b1": {
          "views": []
        },
        "7a36eba0de484d049ebeea19d94f2d1b": {
          "views": [
            {
              "cell_index": 7
            }
          ]
        },
        "7b8dc76d08ca4160ab5d70de1bb10217": {
          "views": []
        },
        "8034a37e197f4686b6401cc856c5c089": {
          "views": []
        },
        "83449f9c47924046836d7ddff75a3b9a": {
          "views": []
        },
        "8422368da8174eb0bc9471799ef5fa6f": {
          "views": []
        },
        "864c8b27543241e698a2cf5e27a8718d": {
          "views": []
        },
        "899a20c3b38e4e02a14e7eb72fd49fe5": {
          "views": []
        },
        "89ba051c3eb3405eb44bfcf5597374ec": {
          "views": []
        },
        "8f4f56000a774ef98e7f55b76479787d": {
          "views": []
        },
        "915e60025e57486388048971fb2dc589": {
          "views": []
        },
        "96452990cc854cbabeb5cd4109555fcb": {
          "views": []
        },
        "968b39bc5fbe43f3aae8d7d52747e04b": {
          "views": []
        },
        "981b00fef61542a595c5bd749fc8e175": {
          "views": []
        },
        "9b2927aff33449b8a4b1add71b117094": {
          "views": []
        },
        "9d58ea1bec624bd0b23610a1ee29cf2b": {
          "views": []
        },
        "9f371c1433d04e6cb890b460dc0ff394": {
          "views": []
        },
        "a0a58362e0704ac5883e8691a9e82715": {
          "views": []
        },
        "ab6ece48fce0475498f08b61c374d41a": {
          "views": []
        },
        "b114316f4260440398d6a6760509bf0e": {
          "views": []
        },
        "b23f7e963a284fb695fb6f72fad74644": {
          "views": [
            {
              "cell_index": 17
            }
          ]
        },
        "b8f8ee0d90954bdab2eeb2a558ea905e": {
          "views": []
        },
        "bb495cb3d221442fbc15369d0c5ada59": {
          "views": []
        },
        "bce6a8e20242456d85fa7ad3abdd08ca": {
          "views": []
        },
        "be4b6ecdca84422c8c4c3ceb05d91de6": {
          "views": []
        },
        "c2dacbf2166f4c709a17c4e57b2384e1": {
          "views": []
        },
        "c34dd941c9324f208665fad1bb54754c": {
          "views": []
        },
        "c3617f96717d4367bd0e304cdb8d5097": {
          "views": []
        },
        "c6d3b1638bbf4be0a24c40678f424a0c": {
          "views": []
        },
        "c9338d8e937d4b9d909966b1bca12e19": {
          "views": []
        },
        "caa760635e714f9c9a8372f2ca3b9236": {
          "views": []
        },
        "d03b9bd4722740ef9e5cee469887dd35": {
          "views": []
        },
        "d406577dce444bf9adf123ecc5ebc731": {
          "views": []
        },
        "d511a6c5684548b69069591d27853ddb": {
          "views": []
        },
        "dced7a524c9d40e586149f8633e964fd": {
          "views": [
            {
              "cell_index": 14
            }
          ]
        },
        "e007e721c6a04b23afa3e9cafdaa2d4c": {
          "views": []
        },
        "e0c39ea1f35d48bcbaa1c8952f390c1d": {
          "views": []
        },
        "e4311341499445c799b2aec16a50f5f5": {
          "views": []
        },
        "ecd0a0973fc149c692ac98146ab72050": {
          "views": []
        },
        "ed53d570afe840c4ba4d411492b1348f": {
          "views": []
        },
        "f034f6eab9224b90ac69070fa4adfb9f": {
          "views": []
        },
        "f1d7750cfed1414394ff5f94923a1646": {
          "views": []
        },
        "f256687d350147fea99f21f59797d76c": {
          "views": []
        },
        "f5b71aedc4284d619853a46b7927db8a": {
          "views": []
        },
        "fd1de40606d3431f8e14919da5cdb10e": {
          "views": []
        },
        "feff32c480ee4bdd8b4149acf6492f8b": {
          "views": []
        }
      },
      "version": "1.1.2"
    }
  },
  "nbformat": 4,
  "nbformat_minor": 0
}