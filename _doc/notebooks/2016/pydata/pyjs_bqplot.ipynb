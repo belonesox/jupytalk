{
 "cells": [
  {
   "cell_type": "markdown",
   "metadata": {},
   "source": [
    "# bqplot\n",
    "\n",
    "Ths library is well integrated with Jupyter and will probably stick for a long time. It mixes Python and Javascript. One drawback: you need to run the notebook everytime to get the graph, they don't stay because Jupyter server is sending them, they don't appear in the output.\n",
    "\n",
    "[source](https://github.com/bloomberg/bqplot) [installation](https://pypi.python.org/pypi/bqplot/) [source](https://github.com/bloomberg/bqplot) [tutorial](https://github.com/bloomberg/bqplot) [gallerie](https://github.com/bloomberg/bqplot/tree/master/examples)"
   ]
  },
  {
   "cell_type": "code",
   "execution_count": 1,
   "metadata": {
    "collapsed": true
   },
   "outputs": [],
   "source": [
    "%matplotlib inline"
   ]
  },
  {
   "cell_type": "code",
   "execution_count": 2,
   "metadata": {
    "collapsed": false
   },
   "outputs": [
    {
     "data": {
      "text/html": [
       "<div id=\"my_id_menu_nb\">run previous cell, wait for 2 seconds</div>\n",
       "<script>\n",
       "function repeat_indent_string(n){\n",
       "    var a = \"\" ;\n",
       "    for ( ; n > 0 ; --n) {\n",
       "        a += \"    \";\n",
       "    }\n",
       "    return a;\n",
       "}\n",
       "var update_menu_string = function(begin, lfirst, llast, sformat, send, keep_item) {\n",
       "    var anchors = document.getElementsByClassName(\"section\");\n",
       "    if (anchors.length == 0) {\n",
       "        anchors = document.getElementsByClassName(\"text_cell_render rendered_html\");\n",
       "    }\n",
       "    var i,t;\n",
       "    var text_menu = begin;\n",
       "    var text_memo = \"<pre>\\nlength:\" + anchors.length + \"\\n\";\n",
       "    var ind = \"\";\n",
       "    var memo_level = 1;\n",
       "    var href;\n",
       "    var tags = [];\n",
       "    var main_item = 0;\n",
       "    for (i = 0; i <= llast; i++) {\n",
       "        tags.push(\"h\" + i);\n",
       "    }\n",
       "\n",
       "    for (i = 0; i < anchors.length; i++) {\n",
       "        text_memo += \"**\" + anchors[i].id + \"--\\n\";\n",
       "\n",
       "        var child = null;\n",
       "        for(t = 0; t < tags.length; t++) {\n",
       "            var r = anchors[i].getElementsByTagName(tags[t]);\n",
       "            if (r.length > 0) {\n",
       "child = r[0];\n",
       "break;\n",
       "            }\n",
       "        }\n",
       "        if (child == null){\n",
       "            text_memo += \"null\\n\";\n",
       "            continue;\n",
       "        }\n",
       "        if (anchors[i].hasAttribute(\"id\")) {\n",
       "            // when converted in RST\n",
       "            href = anchors[i].id;\n",
       "            text_memo += \"#1-\" + href;\n",
       "            // passer à child suivant (le chercher)\n",
       "        }\n",
       "        else if (child.hasAttribute(\"id\")) {\n",
       "            // in a notebook\n",
       "            href = child.id;\n",
       "            text_memo += \"#2-\" + href;\n",
       "        }\n",
       "        else {\n",
       "            text_memo += \"#3-\" + \"*\" + \"\\n\";\n",
       "            continue;\n",
       "        }\n",
       "        var title = child.textContent;\n",
       "        var level = parseInt(child.tagName.substring(1,2));\n",
       "\n",
       "        text_memo += \"--\" + level + \"?\" + lfirst + \"--\" + title + \"\\n\";\n",
       "\n",
       "        if ((level < lfirst) || (level > llast)) {\n",
       "            continue ;\n",
       "        }\n",
       "        if (title.endsWith('¶')) {\n",
       "            title = title.substring(0,title.length-1).replace(\"<\", \"&lt;\").replace(\">\", \"&gt;\").replace(\"&\", \"&amp;\")\n",
       "        }\n",
       "\n",
       "        if (title.length == 0) {\n",
       "            continue;\n",
       "        }\n",
       "\n",
       "        while (level < memo_level) {\n",
       "            text_menu += \"</ul>\\n\";\n",
       "            memo_level -= 1;\n",
       "        }\n",
       "        if (level == lfirst) {\n",
       "            main_item += 1;\n",
       "        }\n",
       "        if (keep_item != -1 && main_item != keep_item + 1) {\n",
       "            // alert(main_item + \" - \" + level + \" - \" + keep_item);\n",
       "            continue;\n",
       "        }\n",
       "        while (level > memo_level) {\n",
       "            text_menu += \"<ul>\\n\";\n",
       "            memo_level += 1;\n",
       "        }\n",
       "        text_menu += repeat_indent_string(level-2) + sformat.replace(\"__HREF__\", href).replace(\"__TITLE__\", title);\n",
       "    }\n",
       "    while (1 < memo_level) {\n",
       "        text_menu += \"</ul>\\n\";\n",
       "        memo_level -= 1;\n",
       "    }\n",
       "    text_menu += send;\n",
       "    //text_menu += \"\\n\" + text_memo;\n",
       "    return text_menu;\n",
       "};\n",
       "var update_menu = function() {\n",
       "    var sbegin = \"\";\n",
       "    var sformat = '<li><a href=\"#__HREF__\">__TITLE__</a></li>';\n",
       "    var send = \"\";\n",
       "    var keep_item = -1;\n",
       "    var text_menu = update_menu_string(sbegin, 2, 4, sformat, send, keep_item);\n",
       "    var menu = document.getElementById(\"my_id_menu_nb\");\n",
       "    menu.innerHTML=text_menu;\n",
       "};\n",
       "window.setTimeout(update_menu,2000);\n",
       "            </script>"
      ],
      "text/plain": [
       "<IPython.core.display.HTML object>"
      ]
     },
     "execution_count": 2,
     "metadata": {},
     "output_type": "execute_result"
    }
   ],
   "source": [
    "from pyquickhelper.ipythonhelper import add_notebook_menu\n",
    "add_notebook_menu()"
   ]
  },
  {
   "cell_type": "markdown",
   "metadata": {},
   "source": [
    "## Setup\n",
    "\n",
    "Le module est installé d'abord avec l'instruction ``pip install bqplot`` puis avec l'instruction ``jupyter nbextension enable --py bqplot``. Sans cela, le notebook semble bloqué dans l'exécution du code utilisant ce module."
   ]
  },
  {
   "cell_type": "code",
   "execution_count": 3,
   "metadata": {
    "collapsed": true
   },
   "outputs": [],
   "source": [
    "import bqplot"
   ]
  },
  {
   "cell_type": "markdown",
   "metadata": {},
   "source": [
    "## Premiers exemples de la documentation"
   ]
  },
  {
   "cell_type": "code",
   "execution_count": 4,
   "metadata": {
    "collapsed": false
   },
   "outputs": [],
   "source": [
    "from bqplot import pyplot as plt\n",
    "import numpy as np\n",
    "plt.figure(1)\n",
    "np.random.seed(0)\n",
    "n = 200\n",
    "x = np.linspace(0.0, 10.0, n)\n",
    "y = np.cumsum(np.random.randn(n))\n",
    "plt.plot(x,y, axes_options={'y': {'grid_lines': 'dashed'}})\n",
    "plt.show()"
   ]
  },
  {
   "cell_type": "code",
   "execution_count": 5,
   "metadata": {
    "collapsed": true
   },
   "outputs": [],
   "source": [
    "import numpy as np\n",
    "from IPython.display import display\n",
    "import bqplot as bq\n",
    "\n",
    "size = 20\n",
    "np.random.seed(0)\n",
    "\n",
    "x_data = np.arange(size)\n",
    "\n",
    "x_ord = bq.OrdinalScale()\n",
    "y_sc = bq.LinearScale()\n",
    "\n",
    "bar = bq.Bars(x=x_data, y=np.random.randn(2, size), scales={'x': x_ord, 'y': y_sc},\n",
    "              type='stacked')\n",
    "line = bq.Lines(x=x_data, y=np.random.randn(size), scales={'x': x_ord, 'y': y_sc},\n",
    "                stroke_width=3, colors=['red'], display_legend=True, labels=['Line chart'])\n",
    "\n",
    "ax_x = bq.Axis(scale=x_ord)\n",
    "ax_y = bq.Axis(scale=y_sc, orientation='vertical', tick_format='0.2f', grid_lines='solid')\n",
    "\n",
    "fig = bq.Figure(marks=[bar, line], axes=[ax_x, ax_y])\n",
    "display(fig)"
   ]
  },
  {
   "cell_type": "markdown",
   "metadata": {
    "collapsed": true
   },
   "source": [
    "## Animation\n",
    "\n",
    "La seconde cellule définit le graphe. La troisième met à jour le graphique avec une nouvelle série. La mise à jour est progressive."
   ]
  },
  {
   "cell_type": "code",
   "execution_count": 6,
   "metadata": {
    "collapsed": true
   },
   "outputs": [],
   "source": [
    "import numpy as np\n",
    "import bqplot as bq\n",
    "from IPython.display import display"
   ]
  },
  {
   "cell_type": "code",
   "execution_count": 7,
   "metadata": {
    "collapsed": true
   },
   "outputs": [],
   "source": [
    "xs = bq.LinearScale()\n",
    "ys = bq.LinearScale()\n",
    "x = np.arange(100)\n",
    "y = np.cumsum(np.random.randn(2, 100), axis=1) #two random walks\n",
    "\n",
    "line = bq.Lines(x=x, y=y, scales={'x': xs, 'y': ys}, colors=['red', 'green'])\n",
    "xax = bq.Axis(scale=xs, label='x', grid_lines='solid')\n",
    "yax = bq.Axis(scale=ys, orientation='vertical', tick_format='0.2f', label='y', grid_lines='solid')\n",
    "\n",
    "fig = bq.Figure(marks=[line], axes=[xax, yax], animation_duration=1000)\n",
    "display(fig)"
   ]
  },
  {
   "cell_type": "code",
   "execution_count": 19,
   "metadata": {
    "collapsed": true
   },
   "outputs": [],
   "source": [
    "#update data of the line mark\n",
    "line.y = np.cumsum(np.random.randn(2, 100), axis=1)"
   ]
  },
  {
   "cell_type": "markdown",
   "metadata": {},
   "source": [
    "## Cartes"
   ]
  },
  {
   "cell_type": "code",
   "execution_count": 9,
   "metadata": {
    "collapsed": true
   },
   "outputs": [],
   "source": [
    "from IPython.display import display\n",
    "from bqplot import (Figure, Map, Mercator, Orthographic, ColorScale, ColorAxis,\n",
    "                    AlbersUSA, topo_load, Tooltip)"
   ]
  },
  {
   "cell_type": "code",
   "execution_count": 20,
   "metadata": {
    "collapsed": true
   },
   "outputs": [],
   "source": [
    "sc_geo = Mercator()\n",
    "x = Map(scales={'projection': sc_geo})\n",
    "fig = Figure(marks=[x], title='Basic Map Example')\n",
    "display(fig)"
   ]
  },
  {
   "cell_type": "code",
   "execution_count": 11,
   "metadata": {
    "collapsed": true
   },
   "outputs": [],
   "source": [
    "sc_geo = Mercator()\n",
    "sc_c1 = ColorScale(scheme='YlOrRd')\n",
    "\n",
    "map_styles = {'color': {643: 105., 4: 21., 398: 23., 156: 42., 124:78., 76: 98.}, \n",
    "              'scales': {'projection': sc_geo, 'color': sc_c1}}\n",
    "\n",
    "axis = ColorAxis(scale=sc_c1)\n",
    "\n",
    "x = Map(map_data=topo_load('WorldMapData.json'), **map_styles)\n",
    "fig = Figure(marks=[x], axes=[axis],title='Choropleth Example')\n",
    "display(fig)"
   ]
  },
  {
   "cell_type": "markdown",
   "metadata": {},
   "source": [
    "On peut sélectionner des zones de la carte suivante. Je recommande l'usage de Firefox ou Chrome."
   ]
  },
  {
   "cell_type": "code",
   "execution_count": 12,
   "metadata": {
    "collapsed": true
   },
   "outputs": [],
   "source": [
    "def_tt = Tooltip(fields=['id', 'name'])\n",
    "map_mark = Map(scales={'projection': Mercator()}, tooltip=def_tt)\n",
    "map_mark.interactions = {'click': 'select', 'hover': 'tooltip'}\n",
    "fig = Figure(marks=[map_mark], title='Interactions Example')\n",
    "display(fig)"
   ]
  },
  {
   "cell_type": "markdown",
   "metadata": {},
   "source": [
    "## Interactions"
   ]
  },
  {
   "cell_type": "code",
   "execution_count": 13,
   "metadata": {
    "collapsed": true
   },
   "outputs": [],
   "source": [
    "from bqplot import *\n",
    "from IPython.display import display\n",
    "import numpy as np\n",
    "import pandas as pd"
   ]
  },
  {
   "cell_type": "code",
   "execution_count": 14,
   "metadata": {
    "collapsed": true
   },
   "outputs": [],
   "source": [
    "from ipywidgets import *"
   ]
  },
  {
   "cell_type": "code",
   "execution_count": 15,
   "metadata": {
    "collapsed": false
   },
   "outputs": [
    {
     "name": "stdout",
     "output_type": "stream",
     "text": [
      "{'data': {'unique_id': 7, 'x': 7, 'name': 107, 'index': 7, 'y': 0.553132064207584}, 'event': 'element_click'}\n",
      "{'data': {'unique_id': 5, 'x': 5, 'name': 105, 'index': 5, 'y': -2.655619092974933}, 'event': 'element_click'}\n",
      "{'data': {'unique_id': 8, 'x': 8, 'name': 108, 'index': 8, 'y': -2.2886200400145285}, 'event': 'hover'}\n",
      "{'data': {'unique_id': 2, 'x': 2, 'name': 102, 'index': 2, 'y': -0.9087632459590531}, 'event': 'element_click'}\n",
      "{'data': None, 'event': 'background_click'}\n",
      "{'data': {'unique_id': 6, 'x': 6, 'name': 106, 'index': 6, 'y': -0.960504381633148}, 'event': 'hover'}\n",
      "{'data': None, 'event': 'background_click'}\n",
      "{'data': {'unique_id': 7, 'x': 7, 'name': 107, 'index': 7, 'y': 0.553132064207584}, 'event': 'element_click'}\n",
      "{'data': {'unique_id': 11, 'x': 11, 'name': 111, 'index': 11, 'y': -0.5394546333745014}, 'event': 'hover'}\n",
      "{'data': {'unique_id': 8, 'x': 8, 'name': 108, 'index': 8, 'y': -2.2886200400145285}, 'event': 'hover'}\n",
      "{'data': None, 'event': 'background_click'}\n"
     ]
    }
   ],
   "source": [
    "x_sc = LinearScale()\n",
    "y_sc = LinearScale()\n",
    "\n",
    "x_data = np.arange(20)\n",
    "y_data = np.random.randn(20)\n",
    "\n",
    "dd = Dropdown(options=['First', 'Second', 'Third', 'Fourth'])\n",
    "scatter_chart = Scatter(x=x_data, y=y_data, scales= {'x': x_sc, 'y': y_sc}, default_colors=['dodgerblue'],\n",
    "                       names=np.arange(100, 200), names_unique=False, display_names=False, display_legend=True,\n",
    "                       labels=['Blue'])\n",
    "ins = Button(icon='fa-legal')\n",
    "scatter_chart.tooltip = ins\n",
    "\n",
    "scatter_chart2 = Scatter(x=x_data, y=np.random.randn(20), \n",
    "                         scales= {'x': x_sc, 'y': y_sc}, default_colors=['orangered'],\n",
    "                         tooltip=dd, names=np.arange(100, 200), names_unique=False, display_names=False, \n",
    "                         display_legend=True, labels=['Red'])\n",
    "\n",
    "ax_x = Axis(scale=x_sc)\n",
    "ax_y = Axis(scale=y_sc, orientation='vertical', tick_format='0.2f')\n",
    "\n",
    "fig = Figure(marks=[scatter_chart, scatter_chart2], axes=[ax_x, ax_y])\n",
    "display(fig)"
   ]
  },
  {
   "cell_type": "markdown",
   "metadata": {},
   "source": [
    "La cellule suivante attrape les événements générées par la souris et affiche ce qu'elle attrape."
   ]
  },
  {
   "cell_type": "code",
   "execution_count": 16,
   "metadata": {
    "collapsed": true
   },
   "outputs": [],
   "source": [
    "def print_event(self, target):\n",
    "    print(target)\n",
    "\n",
    "# Adding call back to scatter events\n",
    "# print custom mssg on hover and background click of Blue Scatter\n",
    "scatter_chart.on_hover(print_event)\n",
    "scatter_chart.on_background_click(print_event)\n",
    "\n",
    "# print custom mssg on click of an element or legend of Red Scatter\n",
    "scatter_chart2.on_element_click(print_event)\n",
    "scatter_chart2.on_legend_click(print_event)"
   ]
  },
  {
   "cell_type": "markdown",
   "metadata": {},
   "source": [
    "On attrape un événement pour afficher un graphe plus complexe."
   ]
  },
  {
   "cell_type": "code",
   "execution_count": 17,
   "metadata": {
    "collapsed": true
   },
   "outputs": [],
   "source": [
    "# Adding figure as tooltip\n",
    "x_sc = LinearScale()\n",
    "y_sc = LinearScale()\n",
    "\n",
    "x_data = np.arange(10)\n",
    "y_data = np.random.randn(10)\n",
    "\n",
    "lc = Lines(x=x_data, y=y_data, scales={'x': x_sc, 'y':y_sc})\n",
    "ax_x = Axis(scale=x_sc)\n",
    "ax_y = Axis(scale=y_sc, orientation='vertical', tick_format='0.2f')\n",
    "tooltip_fig = Figure(marks=[lc], axes=[ax_x, ax_y], min_height=400, min_width=400)\n",
    "\n",
    "scatter_chart.tooltip = tooltip_fig"
   ]
  },
  {
   "cell_type": "code",
   "execution_count": 18,
   "metadata": {
    "collapsed": true
   },
   "outputs": [],
   "source": [
    "# Changing interaction from hover to click for tooltip\n",
    "scatter_chart.interactions = {'click': 'tooltip'}"
   ]
  },
  {
   "cell_type": "code",
   "execution_count": null,
   "metadata": {
    "collapsed": true
   },
   "outputs": [],
   "source": []
  }
 ],
 "metadata": {
  "kernelspec": {
   "display_name": "Python 3",
   "language": "python",
   "name": "python3"
  },
  "language_info": {
   "codemirror_mode": {
    "name": "ipython",
    "version": 3
   },
   "file_extension": ".py",
   "mimetype": "text/x-python",
   "name": "python",
   "nbconvert_exporter": "python",
   "pygments_lexer": "ipython3",
   "version": "3.5.0"
  },
  "widgets": {
   "state": {
    "009ee9c88fa94cfbb3dea1e27ae9888f": {
     "views": [
      {
       "cell_index": 6
      }
     ]
    },
    "07a44b8c38324ccc8e5595f7b245448f": {
     "views": []
    },
    "14b9e3184f7c435ca63eed40f671c649": {
     "views": []
    },
    "1c00cfda470d404baf50a6d34f558f7b": {
     "views": []
    },
    "2171139546704783bc94e8484fe401cf": {
     "views": []
    },
    "22c965216a0c41be85125dd7640432b6": {
     "views": []
    },
    "2531108a59ca47d29b806434b72415ae": {
     "views": []
    },
    "26163eae4ccc40d78fdc32f36170374a": {
     "views": []
    },
    "2cbcf38761f54f1585e8cfe263b5b808": {
     "views": []
    },
    "2eca32cbcd8a44359a0c36bd3a26e05e": {
     "views": []
    },
    "33ef41900f1a4a1bbf949165d953ef42": {
     "views": []
    },
    "346bd41466f54ed7abbd134af30487b2": {
     "views": []
    },
    "354251004d4547e29b0c1a3ef5c245d7": {
     "views": []
    },
    "35c2c594305b41648284d4ed86633607": {
     "views": []
    },
    "365a2c4f0d3b46639dc1da9f5f9d681c": {
     "views": []
    },
    "39746a3013f74e1f90b18d2012c5ec0f": {
     "views": []
    },
    "3b8e051c5c5d40ea97e9bd912741df6f": {
     "views": []
    },
    "3dcd91ed713848c99284117ae56a62e2": {
     "views": []
    },
    "410c80265215405e86e22cc57979ac3c": {
     "views": [
      {
       "cell_index": 14
      }
     ]
    },
    "43adf3ea565549e99e93a076d0ca0981": {
     "views": []
    },
    "4b5bda5af42648398bd49f5547e00645": {
     "views": [
      {
       "cell_index": 15
      }
     ]
    },
    "4e9d07392bf1499a84651a85f139be6d": {
     "views": []
    },
    "51bf9c8a85f445bfbae973c9dae93813": {
     "views": []
    },
    "53972e06b8e347d1be9ad761ea54a1ec": {
     "views": []
    },
    "5554f4ec21cb4e4780b0e85ebd9bdc4e": {
     "views": []
    },
    "56dff9dff3dc4e309c3766b3a636d7b8": {
     "views": []
    },
    "5aff9cf148394f4e9123ce13c165ba9d": {
     "views": []
    },
    "5d5410b34b42435a9f3ba32885b61fbb": {
     "views": []
    },
    "617d1d14a36c427c93ce8ea73a6b25f5": {
     "views": []
    },
    "62f313d1d7fd44b299f2c36bdb29a1f8": {
     "views": []
    },
    "6526adf931314b319ac3aec93aaa765d": {
     "views": []
    },
    "6d9a624a47874443b0f9914e6f1f1ce0": {
     "views": [
      {
       "cell_index": 10
      }
     ]
    },
    "7062c3d9d8c240268b2e8eb83c67e006": {
     "views": []
    },
    "749bf92285dd4f99a8119e98dd0eafe2": {
     "views": []
    },
    "782258b3e7464542bb7837af7e1f3631": {
     "views": []
    },
    "798bbdd112464468a1f8a47fd7b64359": {
     "views": []
    },
    "7b19567bd9ce4084a2334cdc83c40f9f": {
     "views": []
    },
    "7e540e5901324e1b9aabdaa17caea8de": {
     "views": []
    },
    "8102cb61363641fb84b6ec1ab44b18af": {
     "views": []
    },
    "8383eb303bb64283b74fd41d8454f898": {
     "views": []
    },
    "87fa32e3dee44beb97c759f34ac9be77": {
     "views": []
    },
    "881d1e46bc5c4614ae351939df284adc": {
     "views": []
    },
    "92bea45e25694dfe8d5a1a81461020de": {
     "views": []
    },
    "936498847ce5429fab513dcc47750b6a": {
     "views": []
    },
    "9520b1b4ddd84a739c9319fff68ce748": {
     "views": []
    },
    "984fd7c3579c4e9a87d2de0531078703": {
     "views": []
    },
    "9e6272db763c4a5880b7dd8b271a71ba": {
     "views": []
    },
    "a36439b48df440629f6a82d999cbbdf5": {
     "views": []
    },
    "a9535de62c3948ac98a936bf6d2d91ab": {
     "views": []
    },
    "acb821b50f9d4c928d4fc510c2754c9a": {
     "views": []
    },
    "adce14469f9541348a21653aebccc342": {
     "views": []
    },
    "af847b807cf24866a9f6723ebfad0852": {
     "views": [
      {
       "cell_index": 7
      }
     ]
    },
    "b9aff053a3d241f2970683395da9096c": {
     "views": []
    },
    "ba243ea530f841fbb2411fae88cdb4c6": {
     "views": []
    },
    "bd0d0b6e59b142319c16ff029cd78926": {
     "views": []
    },
    "bd3357e2667148089fad804a1a116253": {
     "views": []
    },
    "beea4f801edd4cfb8096ce7501525d06": {
     "views": []
    },
    "bfc726c361b845cc8254d3d1cc70ddc5": {
     "views": []
    },
    "c1dbea93c67044cea0591655f9587dcb": {
     "views": []
    },
    "c1eaed86fba647919edfa858a5fd59f7": {
     "views": []
    },
    "c3161c4e99d5469681c6532891d5a168": {
     "views": []
    },
    "c54088cfe41445aaac1808fa91cf4763": {
     "views": []
    },
    "c699f05b91fe40ad9a468309fffc64b5": {
     "views": []
    },
    "c7b8f908139742d89e1e2a7231af9898": {
     "views": []
    },
    "d7ad0a1e75d5452592117b6aba3c82a3": {
     "views": []
    },
    "d9d8c791e46b47879579443afe5254e9": {
     "views": []
    },
    "e39b7b98ee7549f9ac598cd571fb80d7": {
     "views": []
    },
    "e641b875001a48a68f79495829b315f4": {
     "views": []
    },
    "e68dc5fd90964db4a33f05c5787d22dd": {
     "views": [
      {
       "cell_index": 21
      }
     ]
    },
    "eb28b6a60fce43a39939c616b9db997c": {
     "views": []
    },
    "eb55ab4274cd426cb206ccaa5a49c7ef": {
     "views": []
    },
    "ec92a8cac1d2469d9c3f87ed275b635c": {
     "views": []
    },
    "ee9b67654f664d3fa9633951d35cdcfe": {
     "views": []
    },
    "f1cf6d98e7da4e07bc704c00a9bf257c": {
     "views": []
    },
    "f2303d79b97642658e23142622747bdf": {
     "views": [
      {
       "cell_index": 17
      }
     ]
    },
    "f2974d22d11648c78d69bb6562763844": {
     "views": []
    },
    "f656592437214ff888f08521be94fe05": {
     "views": []
    },
    "f66fed5cb3974391a3b7f1b45c29a098": {
     "views": []
    },
    "f741728f78594cceb867cd4489d1fe7d": {
     "views": []
    },
    "fbd93d5a6ac74b79971646b0348ec598": {
     "views": []
    },
    "ff9bcd5f1b4a4c699b5f499d88a8f987": {
     "views": []
    },
    "ffd4da483ce9498b9d399c370d0ee917": {
     "views": []
    }
   },
   "version": "1.1.2"
  }
 },
 "nbformat": 4,
 "nbformat_minor": 0
}
