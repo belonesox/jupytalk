{
 "cells": [
  {
   "cell_type": "markdown",
   "metadata": {},
   "source": [
    "# bqplot\n",
    "\n",
    "Ths library is well integrated with Jupyter and will probably stick for a long time. It mixes Python and Javascript. One drawback: you need to run the notebook everytime to get the graph, they don't stay because Jupyter server is sending them, they don't appear in the output.\n",
    "\n",
    "[source](https://github.com/bloomberg/bqplot) [installation](https://pypi.python.org/pypi/bqplot/) [source](https://github.com/bloomberg/bqplot) [tutorial](https://github.com/bloomberg/bqplot) [gallerie](https://github.com/bloomberg/bqplot/tree/master/examples)"
   ]
  },
  {
   "cell_type": "code",
   "execution_count": 1,
   "metadata": {
    "collapsed": true
   },
   "outputs": [],
   "source": [
    "%matplotlib inline"
   ]
  },
  {
   "cell_type": "code",
   "execution_count": 2,
   "metadata": {
    "collapsed": false
   },
   "outputs": [
    {
     "data": {
      "text/html": [
       "<div id=\"my_id_menu_nb\">run previous cell, wait for 2 seconds</div>\n",
       "<script>\n",
       "function repeat_indent_string(n){\n",
       "    var a = \"\" ;\n",
       "    for ( ; n > 0 ; --n) {\n",
       "        a += \"    \";\n",
       "    }\n",
       "    return a;\n",
       "}\n",
       "var update_menu_string = function(begin, lfirst, llast, sformat, send, keep_item) {\n",
       "    var anchors = document.getElementsByClassName(\"section\");\n",
       "    if (anchors.length == 0) {\n",
       "        anchors = document.getElementsByClassName(\"text_cell_render rendered_html\");\n",
       "    }\n",
       "    var i,t;\n",
       "    var text_menu = begin;\n",
       "    var text_memo = \"<pre>\\nlength:\" + anchors.length + \"\\n\";\n",
       "    var ind = \"\";\n",
       "    var memo_level = 1;\n",
       "    var href;\n",
       "    var tags = [];\n",
       "    var main_item = 0;\n",
       "    for (i = 0; i <= llast; i++) {\n",
       "        tags.push(\"h\" + i);\n",
       "    }\n",
       "\n",
       "    for (i = 0; i < anchors.length; i++) {\n",
       "        text_memo += \"**\" + anchors[i].id + \"--\\n\";\n",
       "\n",
       "        var child = null;\n",
       "        for(t = 0; t < tags.length; t++) {\n",
       "            var r = anchors[i].getElementsByTagName(tags[t]);\n",
       "            if (r.length > 0) {\n",
       "child = r[0];\n",
       "break;\n",
       "            }\n",
       "        }\n",
       "        if (child == null){\n",
       "            text_memo += \"null\\n\";\n",
       "            continue;\n",
       "        }\n",
       "        if (anchors[i].hasAttribute(\"id\")) {\n",
       "            // when converted in RST\n",
       "            href = anchors[i].id;\n",
       "            text_memo += \"#1-\" + href;\n",
       "            // passer à child suivant (le chercher)\n",
       "        }\n",
       "        else if (child.hasAttribute(\"id\")) {\n",
       "            // in a notebook\n",
       "            href = child.id;\n",
       "            text_memo += \"#2-\" + href;\n",
       "        }\n",
       "        else {\n",
       "            text_memo += \"#3-\" + \"*\" + \"\\n\";\n",
       "            continue;\n",
       "        }\n",
       "        var title = child.textContent;\n",
       "        var level = parseInt(child.tagName.substring(1,2));\n",
       "\n",
       "        text_memo += \"--\" + level + \"?\" + lfirst + \"--\" + title + \"\\n\";\n",
       "\n",
       "        if ((level < lfirst) || (level > llast)) {\n",
       "            continue ;\n",
       "        }\n",
       "        if (title.endsWith('¶')) {\n",
       "            title = title.substring(0,title.length-1).replace(\"<\", \"&lt;\").replace(\">\", \"&gt;\").replace(\"&\", \"&amp;\")\n",
       "        }\n",
       "\n",
       "        if (title.length == 0) {\n",
       "            continue;\n",
       "        }\n",
       "\n",
       "        while (level < memo_level) {\n",
       "            text_menu += \"</ul>\\n\";\n",
       "            memo_level -= 1;\n",
       "        }\n",
       "        if (level == lfirst) {\n",
       "            main_item += 1;\n",
       "        }\n",
       "        if (keep_item != -1 && main_item != keep_item + 1) {\n",
       "            // alert(main_item + \" - \" + level + \" - \" + keep_item);\n",
       "            continue;\n",
       "        }\n",
       "        while (level > memo_level) {\n",
       "            text_menu += \"<ul>\\n\";\n",
       "            memo_level += 1;\n",
       "        }\n",
       "        text_menu += repeat_indent_string(level-2) + sformat.replace(\"__HREF__\", href).replace(\"__TITLE__\", title);\n",
       "    }\n",
       "    while (1 < memo_level) {\n",
       "        text_menu += \"</ul>\\n\";\n",
       "        memo_level -= 1;\n",
       "    }\n",
       "    text_menu += send;\n",
       "    //text_menu += \"\\n\" + text_memo;\n",
       "    return text_menu;\n",
       "};\n",
       "var update_menu = function() {\n",
       "    var sbegin = \"\";\n",
       "    var sformat = '<li><a href=\"#__HREF__\">__TITLE__</a></li>';\n",
       "    var send = \"\";\n",
       "    var keep_item = -1;\n",
       "    var text_menu = update_menu_string(sbegin, 2, 4, sformat, send, keep_item);\n",
       "    var menu = document.getElementById(\"my_id_menu_nb\");\n",
       "    menu.innerHTML=text_menu;\n",
       "};\n",
       "window.setTimeout(update_menu,2000);\n",
       "            </script>"
      ],
      "text/plain": [
       "<IPython.core.display.HTML object>"
      ]
     },
     "execution_count": 2,
     "metadata": {},
     "output_type": "execute_result"
    }
   ],
   "source": [
    "from pyquickhelper.ipythonhelper import add_notebook_menu\n",
    "add_notebook_menu()"
   ]
  },
  {
   "cell_type": "markdown",
   "metadata": {},
   "source": [
    "## Setup\n",
    "\n",
    "Le module est installé d'abord avec l'instruction ``pip install bqplot`` puis avec l'instruction ``jupyter nbextension enable --py bqplot``. Sans cela, le notebook semble bloqué dans l'exécution du code utilisant ce module."
   ]
  },
  {
   "cell_type": "code",
   "execution_count": 3,
   "metadata": {
    "collapsed": true
   },
   "outputs": [],
   "source": [
    "import bqplot"
   ]
  },
  {
   "cell_type": "markdown",
   "metadata": {},
   "source": [
    "## Premiers exemples de la documentation"
   ]
  },
  {
   "cell_type": "code",
   "execution_count": 4,
   "metadata": {
    "collapsed": false
   },
   "outputs": [],
   "source": [
    "from bqplot import pyplot as plt\n",
    "import numpy as np\n",
    "plt.figure(1)\n",
    "np.random.seed(0)\n",
    "n = 200\n",
    "x = np.linspace(0.0, 10.0, n)\n",
    "y = np.cumsum(np.random.randn(n))\n",
    "plt.plot(x,y, axes_options={'y': {'grid_lines': 'dashed'}})\n",
    "plt.show()"
   ]
  },
  {
   "cell_type": "code",
   "execution_count": 5,
   "metadata": {
    "collapsed": true
   },
   "outputs": [],
   "source": [
    "import numpy as np\n",
    "from IPython.display import display\n",
    "import bqplot as bq\n",
    "\n",
    "size = 20\n",
    "np.random.seed(0)\n",
    "\n",
    "x_data = np.arange(size)\n",
    "\n",
    "x_ord = bq.OrdinalScale()\n",
    "y_sc = bq.LinearScale()\n",
    "\n",
    "bar = bq.Bars(x=x_data, y=np.random.randn(2, size), scales={'x': x_ord, 'y': y_sc},\n",
    "              type='stacked')\n",
    "line = bq.Lines(x=x_data, y=np.random.randn(size), scales={'x': x_ord, 'y': y_sc},\n",
    "                stroke_width=3, colors=['red'], display_legend=True, labels=['Line chart'])\n",
    "\n",
    "ax_x = bq.Axis(scale=x_ord)\n",
    "ax_y = bq.Axis(scale=y_sc, orientation='vertical', tick_format='0.2f', grid_lines='solid')\n",
    "\n",
    "fig = bq.Figure(marks=[bar, line], axes=[ax_x, ax_y])\n",
    "display(fig)"
   ]
  },
  {
   "cell_type": "markdown",
   "metadata": {
    "collapsed": true
   },
   "source": [
    "## Animation\n",
    "\n",
    "La seconde cellule définit le graphe. La troisième met à jour le graphique avec une nouvelle série. La mise à jour est progressive."
   ]
  },
  {
   "cell_type": "code",
   "execution_count": 6,
   "metadata": {
    "collapsed": true
   },
   "outputs": [],
   "source": [
    "import numpy as np\n",
    "import bqplot as bq\n",
    "from IPython.display import display"
   ]
  },
  {
   "cell_type": "code",
   "execution_count": 7,
   "metadata": {
    "collapsed": true
   },
   "outputs": [],
   "source": [
    "xs = bq.LinearScale()\n",
    "ys = bq.LinearScale()\n",
    "x = np.arange(100)\n",
    "y = np.cumsum(np.random.randn(2, 100), axis=1) #two random walks\n",
    "\n",
    "line = bq.Lines(x=x, y=y, scales={'x': xs, 'y': ys}, colors=['red', 'green'])\n",
    "xax = bq.Axis(scale=xs, label='x', grid_lines='solid')\n",
    "yax = bq.Axis(scale=ys, orientation='vertical', tick_format='0.2f', label='y', grid_lines='solid')\n",
    "\n",
    "fig = bq.Figure(marks=[line], axes=[xax, yax], animation_duration=1000)\n",
    "display(fig)"
   ]
  },
  {
   "cell_type": "code",
   "execution_count": 8,
   "metadata": {
    "collapsed": true
   },
   "outputs": [],
   "source": [
    "#update data of the line mark\n",
    "line.y = np.cumsum(np.random.randn(2, 100), axis=1)"
   ]
  },
  {
   "cell_type": "markdown",
   "metadata": {},
   "source": [
    "## Cartes"
   ]
  },
  {
   "cell_type": "code",
   "execution_count": 9,
   "metadata": {
    "collapsed": true
   },
   "outputs": [],
   "source": [
    "from IPython.display import display\n",
    "from bqplot import (Figure, Map, Mercator, Orthographic, ColorScale, ColorAxis,\n",
    "                    AlbersUSA, topo_load, Tooltip)"
   ]
  },
  {
   "cell_type": "code",
   "execution_count": 10,
   "metadata": {
    "collapsed": true
   },
   "outputs": [],
   "source": [
    "sc_geo = Mercator()\n",
    "x = Map(scales={'projection': sc_geo})\n",
    "fig = Figure(marks=[x], title='Basic Map Example')\n",
    "display(fig)"
   ]
  },
  {
   "cell_type": "code",
   "execution_count": 11,
   "metadata": {
    "collapsed": true
   },
   "outputs": [],
   "source": [
    "sc_geo = Mercator()\n",
    "sc_c1 = ColorScale(scheme='YlOrRd')\n",
    "\n",
    "map_styles = {'color': {643: 105., 4: 21., 398: 23., 156: 42., 124:78., 76: 98.}, \n",
    "              'scales': {'projection': sc_geo, 'color': sc_c1}}\n",
    "\n",
    "axis = ColorAxis(scale=sc_c1)\n",
    "\n",
    "x = Map(map_data=topo_load('WorldMapData.json'), **map_styles)\n",
    "fig = Figure(marks=[x], axes=[axis],title='Choropleth Example')\n",
    "display(fig)"
   ]
  },
  {
   "cell_type": "markdown",
   "metadata": {},
   "source": [
    "On peut sélectionner des zones de la carte suivante. Je recommande l'usage de Firefox ou Chrome."
   ]
  },
  {
   "cell_type": "code",
   "execution_count": 12,
   "metadata": {
    "collapsed": true
   },
   "outputs": [],
   "source": [
    "def_tt = Tooltip(fields=['id', 'name'])\n",
    "map_mark = Map(scales={'projection': Mercator()}, tooltip=def_tt)\n",
    "map_mark.interactions = {'click': 'select', 'hover': 'tooltip'}\n",
    "fig = Figure(marks=[map_mark], title='Interactions Example')\n",
    "display(fig)"
   ]
  },
  {
   "cell_type": "markdown",
   "metadata": {},
   "source": [
    "## Interactions"
   ]
  },
  {
   "cell_type": "code",
   "execution_count": 13,
   "metadata": {
    "collapsed": true
   },
   "outputs": [],
   "source": [
    "from bqplot import *\n",
    "from IPython.display import display\n",
    "import numpy as np\n",
    "import pandas as pd"
   ]
  },
  {
   "cell_type": "code",
   "execution_count": 14,
   "metadata": {
    "collapsed": true
   },
   "outputs": [],
   "source": [
    "from ipywidgets import *"
   ]
  },
  {
   "cell_type": "code",
   "execution_count": 15,
   "metadata": {
    "collapsed": false
   },
   "outputs": [],
   "source": [
    "x_sc = LinearScale()\n",
    "y_sc = LinearScale()\n",
    "\n",
    "x_data = np.arange(20)\n",
    "y_data = np.random.randn(20)\n",
    "\n",
    "dd = Dropdown(options=['First', 'Second', 'Third', 'Fourth'])\n",
    "scatter_chart = Scatter(x=x_data, y=y_data, scales= {'x': x_sc, 'y': y_sc}, default_colors=['dodgerblue'],\n",
    "                       names=np.arange(100, 200), names_unique=False, display_names=False, display_legend=True,\n",
    "                       labels=['Blue'])\n",
    "ins = Button(icon='fa-legal')\n",
    "scatter_chart.tooltip = ins\n",
    "\n",
    "scatter_chart2 = Scatter(x=x_data, y=np.random.randn(20), \n",
    "                         scales= {'x': x_sc, 'y': y_sc}, default_colors=['orangered'],\n",
    "                         tooltip=dd, names=np.arange(100, 200), names_unique=False, display_names=False, \n",
    "                         display_legend=True, labels=['Red'])\n",
    "\n",
    "ax_x = Axis(scale=x_sc)\n",
    "ax_y = Axis(scale=y_sc, orientation='vertical', tick_format='0.2f')\n",
    "\n",
    "fig = Figure(marks=[scatter_chart, scatter_chart2], axes=[ax_x, ax_y])\n",
    "display(fig)"
   ]
  },
  {
   "cell_type": "markdown",
   "metadata": {},
   "source": [
    "La cellule suivante attrape les événements générées par la souris et affiche ce qu'elle attrape."
   ]
  },
  {
   "cell_type": "code",
   "execution_count": 16,
   "metadata": {
    "collapsed": true
   },
   "outputs": [],
   "source": [
    "def print_event(self, target):\n",
    "    print(target)\n",
    "\n",
    "# Adding call back to scatter events\n",
    "# print custom mssg on hover and background click of Blue Scatter\n",
    "scatter_chart.on_hover(print_event)\n",
    "scatter_chart.on_background_click(print_event)\n",
    "\n",
    "# print custom mssg on click of an element or legend of Red Scatter\n",
    "scatter_chart2.on_element_click(print_event)\n",
    "scatter_chart2.on_legend_click(print_event)"
   ]
  },
  {
   "cell_type": "markdown",
   "metadata": {},
   "source": [
    "On attrape un événement pour afficher un graphe plus complexe."
   ]
  },
  {
   "cell_type": "code",
   "execution_count": 17,
   "metadata": {
    "collapsed": true
   },
   "outputs": [],
   "source": [
    "# Adding figure as tooltip\n",
    "x_sc = LinearScale()\n",
    "y_sc = LinearScale()\n",
    "\n",
    "x_data = np.arange(10)\n",
    "y_data = np.random.randn(10)\n",
    "\n",
    "lc = Lines(x=x_data, y=y_data, scales={'x': x_sc, 'y':y_sc})\n",
    "ax_x = Axis(scale=x_sc)\n",
    "ax_y = Axis(scale=y_sc, orientation='vertical', tick_format='0.2f')\n",
    "tooltip_fig = Figure(marks=[lc], axes=[ax_x, ax_y], min_height=400, min_width=400)\n",
    "\n",
    "scatter_chart.tooltip = tooltip_fig"
   ]
  },
  {
   "cell_type": "code",
   "execution_count": 18,
   "metadata": {
    "collapsed": true
   },
   "outputs": [],
   "source": [
    "# Changing interaction from hover to click for tooltip\n",
    "scatter_chart.interactions = {'click': 'tooltip'}"
   ]
  },
  {
   "cell_type": "code",
   "execution_count": null,
   "metadata": {
    "collapsed": true
   },
   "outputs": [],
   "source": []
  }
 ],
 "metadata": {
  "kernelspec": {
   "display_name": "Python 3",
   "language": "python",
   "name": "python3"
  },
  "language_info": {
   "codemirror_mode": {
    "name": "ipython",
    "version": 3
   },
   "file_extension": ".py",
   "mimetype": "text/x-python",
   "name": "python",
   "nbconvert_exporter": "python",
   "pygments_lexer": "ipython3",
   "version": "3.5.0"
  },
  "widgets": {
   "state": {
    "008599951b2e4003a13560cf9907a3c5": {
     "views": []
    },
    "02f281dc8bf940e7886070151ed415fd": {
     "views": []
    },
    "061d855d85cd4469a8a2afef284d7553": {
     "views": []
    },
    "07af09ecd38a441ab2e81467f4821a1e": {
     "views": []
    },
    "0821e587f7ff4b2d825ad3be17b92fc8": {
     "views": []
    },
    "0973b8c058ee43a5ae7455925a8418a0": {
     "views": []
    },
    "09e3505e93be4e5a817f3443cc16975e": {
     "views": []
    },
    "0a0139677efc41a8879d400ccf944ef1": {
     "views": []
    },
    "1098ab81370a48cba120f9519e123646": {
     "views": []
    },
    "156fa9ae6d3c479899239e30983886c7": {
     "views": []
    },
    "15a6a339f5dd4f5eaeedd2a24fa7eae2": {
     "views": []
    },
    "15e018cdcab742b49c0dc4b892fd8b90": {
     "views": []
    },
    "17486dea62464366bd4a35c51005dc1b": {
     "views": []
    },
    "1869ada03e2545b68806f7029ee02b7a": {
     "views": []
    },
    "1a29b16d63cd4283a37942cee5ef2de0": {
     "views": []
    },
    "1a94fc9082dd4374bac1da725e134b62": {
     "views": []
    },
    "1aee04904a354701a82f102730de1b5c": {
     "views": []
    },
    "1c52411120d04037a95933ea3344fa4a": {
     "views": []
    },
    "1ca89adeb8a947879545e931ca701f0d": {
     "views": []
    },
    "21ee0f6ef2be4922a830138e8d4586ac": {
     "views": []
    },
    "222d2b6e3c53486a8a46ddbd8f78bb2c": {
     "views": []
    },
    "2336065b5a2148989e36b0397c25ca9c": {
     "views": [
      {
       "cell_index": 10
      }
     ]
    },
    "23f66aab3c5b4b1b8d2621c2cb74f5cb": {
     "views": []
    },
    "23fa583c194843f48b4ff0fe9a5fa1c6": {
     "views": []
    },
    "243414cdb5774fa8acfa1701a33da3c5": {
     "views": []
    },
    "24c2f2389899468aad2159df7c862950": {
     "views": []
    },
    "267f8143daee4ee4abcc99df47a77026": {
     "views": []
    },
    "270724aacf3e4b11a5ed1023a51deb48": {
     "views": []
    },
    "29471f0099594896853747d860bab398": {
     "views": []
    },
    "2b736fb6e53149fe91e996e1571195cb": {
     "views": []
    },
    "2cd79e6f2c974b48b599997b102c8cd6": {
     "views": []
    },
    "2d9dcd7bce304fa1b04ee5a016546371": {
     "views": []
    },
    "2e038f02bbaf49d6981200a2353966fd": {
     "views": []
    },
    "2e0eb0b8d5984e65b700771efa86c855": {
     "views": []
    },
    "3359f9240c4147c2b8eabd49bd383773": {
     "views": []
    },
    "34a9099fbd2c45489ea6a898016c4335": {
     "views": []
    },
    "379d8d0844884498a15858244e00ee0c": {
     "views": []
    },
    "39df943d4e6842278a7a593cd7878534": {
     "views": [
      {
       "cell_index": 14
      }
     ]
    },
    "3DA41871F04C41539F9B969AAE98AA0E": {
     "views": []
    },
    "3ab3e7518bad496fa5a64bd4ec1ea43e": {
     "views": []
    },
    "3b60591fff8c444dbb61b40b7c32f284": {
     "views": []
    },
    "3c07497919ed4f7cb34f8dd02364d3f7": {
     "views": []
    },
    "3c117166feda4e0f889753f5ef49552f": {
     "views": []
    },
    "3dc78a628e8d495abbd414ce1f055962": {
     "views": []
    },
    "3e794a96adaa4a319327ec803df7730e": {
     "views": []
    },
    "3f032caf62ec4550bdf865d5fea8d2f5": {
     "views": []
    },
    "406049a50938419faba25f21ecfca2be": {
     "views": []
    },
    "4169751f13ef4098b51e787634252214": {
     "views": []
    },
    "4303f1091b774f88bd2f41e33e455ee8": {
     "views": []
    },
    "451f90a8315a429ababdeba70250b1cb": {
     "views": []
    },
    "47447082e0fe4304b6c6d64f56b06ed6": {
     "views": []
    },
    "4d3303e7530a4bcb9a2f65133071f968": {
     "views": []
    },
    "526c87e782894ca5ad2231dc2cd17261": {
     "views": [
      {
       "cell_index": 15
      }
     ]
    },
    "54972fd85f11471e9e3b26f639226f22": {
     "views": []
    },
    "55321de67e164875a5a6c6024c788022": {
     "views": []
    },
    "559289747603464dafd45528d2b4aa7d": {
     "views": []
    },
    "57fee51ec59b4c39a3caca0d2c15e4b7": {
     "views": []
    },
    "59f3e55c335a49d29485c375523806fb": {
     "views": []
    },
    "59fd2f8e349b4847bdb2d48f46daeb31": {
     "views": []
    },
    "5a16ff10de454f5db0b53320775e6568": {
     "views": []
    },
    "5af01221f92540118224e6b979dbd892": {
     "views": []
    },
    "5d00f7e689b54091ad5e90d46e1f0ae1": {
     "views": []
    },
    "5f581ad6b49d417ea9e0212a98901a6f": {
     "views": []
    },
    "612a9cd81d1048beafcc31944b1d7eb3": {
     "views": []
    },
    "623df4968b764f85866b65499a1e8c3c": {
     "views": []
    },
    "626462dfc25c475f898f9b2a496b7c8f": {
     "views": []
    },
    "64c3380b49e94facb817597aef0d36b5": {
     "views": []
    },
    "65c202aa4bca412d9501ad97d1eb34c4": {
     "views": []
    },
    "6777f9611b6d4fd4bfc7dc0865051d84": {
     "views": []
    },
    "67f9ce1ec07c407f94bb505221758b36": {
     "views": []
    },
    "688f8c0e29b14f52817652dc80ae8a8b": {
     "views": []
    },
    "68c50961534b46c0bf1185d7da53ef94": {
     "views": []
    },
    "6dd66529fe6341fd933b0b9b98d92d0e": {
     "views": []
    },
    "6f548c1945d441cf8df1124c1fcc0183": {
     "views": []
    },
    "6fe6f19baa234869aca5e97177f8fff0": {
     "views": [
      {
       "cell_index": 7
      }
     ]
    },
    "70a92d6abf3c4fa1a74c2fce837517db": {
     "views": []
    },
    "730d71d2f8c546c3bf39a0c3179c4256": {
     "views": []
    },
    "73b295adb0fb4c1f9a583116576e45dd": {
     "views": []
    },
    "7456b89fd9f04a7cb7b8d9f9be29677d": {
     "views": []
    },
    "74e92b04bc4a40fc9f6b4ff0dfdfc208": {
     "views": []
    },
    "7bcc524a20ff4d10abbb671232a706db": {
     "views": []
    },
    "7c75bbc21e6f47319d8b63347adc5ba1": {
     "views": []
    },
    "7c9a3474c60549f68ce5ed15d24adc68": {
     "views": []
    },
    "8057027f173242c7a62bf05efebc10c1": {
     "views": []
    },
    "81a5d385d3904f0ba416a318fbc1fc7f": {
     "views": []
    },
    "82355a1e9b0a41bfa4199a889a9b7ca1": {
     "views": []
    },
    "85276620f97b4922a0d1f110e9241871": {
     "views": []
    },
    "85d3f2c68a84486ca84999fd7c54375b": {
     "views": []
    },
    "8a90a4f352ed4b179a1069cc6c0e2b07": {
     "views": []
    },
    "8cfd880e2d754506870b77e0df9f8fb4": {
     "views": []
    },
    "8e1cdbc6a80642a19e8020a02fcbf6e9": {
     "views": []
    },
    "903b0de8883f4cbf9ce88e86eb49d99f": {
     "views": []
    },
    "92283425ef53433facdc5d2f840b2521": {
     "views": []
    },
    "949a7ac8ea2d4f3e97082c552d92aed6": {
     "views": []
    },
    "952d706e77f34cbc8ab098ee393ac631": {
     "views": []
    },
    "95d16b2b15804668a07b9708a803c034": {
     "views": []
    },
    "95efa71b5c2a4a4bb71aa27f1c5da6fc": {
     "views": []
    },
    "971515130e4742b0a6e8964f07db77c3": {
     "views": [
      {
       "cell_index": 6
      }
     ]
    },
    "9949692efe3a4279ad9f5777138981d0": {
     "views": []
    },
    "9c47fdc87c384e778e173dd3374c35e6": {
     "views": [
      {
       "cell_index": 21
      }
     ]
    },
    "9cab24591dbc46b2a40960fc9c0bc2da": {
     "views": []
    },
    "9dd4bdc729a74b57a96461cbb4fb1bfb": {
     "views": []
    },
    "A3086CD45B674E6293482C3ECAD14CEE": {
     "views": []
    },
    "a108b9f373df48b49ff657d1c4599ea0": {
     "views": []
    },
    "a6f0fab54b7a4f909214b1c41a7c9768": {
     "views": []
    },
    "a7acab3029d640298748b375269846d2": {
     "views": []
    },
    "a7b0062feecb435ea583a4991aade144": {
     "views": []
    },
    "aa4646155aa645a8b4ba8b0284574076": {
     "views": []
    },
    "ab513f0bcc8b46f290196f3fabf5c0a9": {
     "views": []
    },
    "ada56c6e63ca4efab0a6001ca11ea6ce": {
     "views": []
    },
    "afa5a9a78d474e1aa0e8b469bf8c69c3": {
     "views": []
    },
    "b00acc8f37f64f0d8bfc868817bc84b4": {
     "views": []
    },
    "b1a5300e7af74ce786cff5c48da06063": {
     "views": []
    },
    "b3127f3fbb9e405db26fdd423c3d0d37": {
     "views": [
      {
       "cell_index": 17
      }
     ]
    },
    "b52d36e25a0d4bf188d19832d723292a": {
     "views": []
    },
    "ba3fbf5c20c844d3953a09a5406026f8": {
     "views": []
    },
    "c2fe8fde95674bfa8cb0da080681497c": {
     "views": []
    },
    "c32bd0089dec4ad7b369809f0f8343de": {
     "views": []
    },
    "c3bb1e660448424082b04cc31577011a": {
     "views": []
    },
    "c4eb45fe45b3476f9648b8243eacc9b1": {
     "views": []
    },
    "c64a5041195a40f692bed3dece7f13e6": {
     "views": []
    },
    "c848e0d109294741829340027c3cc973": {
     "views": []
    },
    "c89856e8072c4136b56b7171f906b17d": {
     "views": []
    },
    "c93f19d51f7d41ef808dc1987f1d3958": {
     "views": []
    },
    "c9f5deaff1894fc486167d2ddb527309": {
     "views": []
    },
    "cb4891d99a934c018f5eff34194b46e9": {
     "views": []
    },
    "cf3dd53baece42c4ba8758aa669c654f": {
     "views": []
    },
    "cfa374631dee450584b4a1f495f5412a": {
     "views": []
    },
    "d02337dc10284069ad962442368b7b68": {
     "views": []
    },
    "d57ffb8f29db4245a646791ee5ce3c6b": {
     "views": []
    },
    "d627ebf8549249e4a90fe00a417bc620": {
     "views": []
    },
    "d670f434eeed423abc95370c2154f0da": {
     "views": []
    },
    "d8fa7f24db41467d99248e7833e1602c": {
     "views": []
    },
    "d9005035d1704c198ac71a277dc3278e": {
     "views": []
    },
    "db585d202a2a4e0ba7addde42be7d7b4": {
     "views": []
    },
    "dc75a17c37704a0f810e569b004dda0d": {
     "views": []
    },
    "ded760fcf9cf42d59e7de2627222c64f": {
     "views": []
    },
    "e068679c487947d7b315939a319250f4": {
     "views": []
    },
    "e111b77f10424a05914a01b6f3453b51": {
     "views": []
    },
    "e141d9f265e44bdba6fb852eb0b8a3b8": {
     "views": []
    },
    "e186953cd10d458d908e07f4098a1039": {
     "views": []
    },
    "e43d66b03c4042ea8904b1923a083571": {
     "views": []
    },
    "e920dd099cc44929aa53e6583162fa60": {
     "views": []
    },
    "f05e0b5226994dfba6b445d84aa643f1": {
     "views": []
    },
    "f19af06bae0043f8b6c42d06f3a7f34f": {
     "views": []
    },
    "f32932631fb1435ca7c38baafcc13f85": {
     "views": []
    },
    "f78ddbc13b8a4c30b993cbbd766a89b0": {
     "views": []
    },
    "f79c7a535ad74cf3892d4c084b9bc6ed": {
     "views": []
    },
    "f7d9ed18ac1c4098a50735155097364b": {
     "views": []
    },
    "f9934e60a8104bd2bfcbe8c8f83acd31": {
     "views": []
    },
    "faecd68d7d36484b9447b3a9713736bc": {
     "views": []
    },
    "fd46e8c0c11048ae8b3d2cccfa8eda25": {
     "views": []
    },
    "fe8589815cd642c3a045b25bb7bc8d10": {
     "views": []
    },
    "fe9f67216f1e48d6811508cddf699659": {
     "views": []
    }
   },
   "version": "1.1.2"
  }
 },
 "nbformat": 4,
 "nbformat_minor": 0
}
