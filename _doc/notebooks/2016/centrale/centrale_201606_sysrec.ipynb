{
 "cells": [
  {
   "cell_type": "markdown",
   "metadata": {
    "slideshow": {
     "slide_type": "slide"
    }
   },
   "source": [
    "# Recommandation sur le web\n",
    "\n",
    "![rs](img_bingrsam.png)"
   ]
  },
  {
   "cell_type": "code",
   "execution_count": 10,
   "metadata": {
    "collapsed": false,
    "slideshow": {
     "slide_type": "subslide"
    }
   },
   "outputs": [
    {
     "data": {
      "text/html": [
       "<div id=\"my_id_menu_nb\">run previous cell, wait for 2 seconds</div>\n",
       "<script>\n",
       "function repeat_indent_string(n){\n",
       "    var a = \"\" ;\n",
       "    for ( ; n > 0 ; --n) {\n",
       "        a += \"    \";\n",
       "    }\n",
       "    return a;\n",
       "}\n",
       "var update_menu_string = function(begin, lfirst, llast, sformat, send, keep_item) {\n",
       "    var anchors = document.getElementsByClassName(\"section\");\n",
       "    if (anchors.length == 0) {\n",
       "        anchors = document.getElementsByClassName(\"text_cell_render rendered_html\");\n",
       "    }\n",
       "    var i,t;\n",
       "    var text_menu = begin;\n",
       "    var text_memo = \"<pre>\\nlength:\" + anchors.length + \"\\n\";\n",
       "    var ind = \"\";\n",
       "    var memo_level = 1;\n",
       "    var href;\n",
       "    var tags = [];\n",
       "    var main_item = 0;\n",
       "    for (i = 0; i <= llast; i++) {\n",
       "        tags.push(\"h\" + i);\n",
       "    }\n",
       "\n",
       "    for (i = 0; i < anchors.length; i++) {\n",
       "        text_memo += \"**\" + anchors[i].id + \"--\\n\";\n",
       "\n",
       "        var child = null;\n",
       "        for(t = 0; t < tags.length; t++) {\n",
       "            var r = anchors[i].getElementsByTagName(tags[t]);\n",
       "            if (r.length > 0) {\n",
       "child = r[0];\n",
       "break;\n",
       "            }\n",
       "        }\n",
       "        if (child == null){\n",
       "            text_memo += \"null\\n\";\n",
       "            continue;\n",
       "        }\n",
       "        if (anchors[i].hasAttribute(\"id\")) {\n",
       "            // when converted in RST\n",
       "            href = anchors[i].id;\n",
       "            text_memo += \"#1-\" + href;\n",
       "            // passer à child suivant (le chercher)\n",
       "        }\n",
       "        else if (child.hasAttribute(\"id\")) {\n",
       "            // in a notebook\n",
       "            href = child.id;\n",
       "            text_memo += \"#2-\" + href;\n",
       "        }\n",
       "        else {\n",
       "            text_memo += \"#3-\" + \"*\" + \"\\n\";\n",
       "            continue;\n",
       "        }\n",
       "        var title = child.textContent;\n",
       "        var level = parseInt(child.tagName.substring(1,2));\n",
       "\n",
       "        text_memo += \"--\" + level + \"?\" + lfirst + \"--\" + title + \"\\n\";\n",
       "\n",
       "        if ((level < lfirst) || (level > llast)) {\n",
       "            continue ;\n",
       "        }\n",
       "        if (title.endsWith('¶')) {\n",
       "            title = title.substring(0,title.length-1).replace(\"<\", \"&lt;\").replace(\">\", \"&gt;\").replace(\"&\", \"&amp;\")\n",
       "        }\n",
       "\n",
       "        if (title.length == 0) {\n",
       "            continue;\n",
       "        }\n",
       "\n",
       "        while (level < memo_level) {\n",
       "            text_menu += \"</ul>\\n\";\n",
       "            memo_level -= 1;\n",
       "        }\n",
       "        if (level == lfirst) {\n",
       "            main_item += 1;\n",
       "        }\n",
       "        if (keep_item != -1 && main_item != keep_item + 1) {\n",
       "            // alert(main_item + \" - \" + level + \" - \" + keep_item);\n",
       "            continue;\n",
       "        }\n",
       "        while (level > memo_level) {\n",
       "            text_menu += \"<ul>\\n\";\n",
       "            memo_level += 1;\n",
       "        }\n",
       "        text_menu += repeat_indent_string(level-2) + sformat.replace(\"__HREF__\", href).replace(\"__TITLE__\", title);\n",
       "    }\n",
       "    while (1 < memo_level) {\n",
       "        text_menu += \"</ul>\\n\";\n",
       "        memo_level -= 1;\n",
       "    }\n",
       "    text_menu += send;\n",
       "    //text_menu += \"\\n\" + text_memo;\n",
       "    return text_menu;\n",
       "};\n",
       "var update_menu = function() {\n",
       "    var sbegin = \"\";\n",
       "    var sformat = '<li><a href=\"#__HREF__\">__TITLE__</a></li>';\n",
       "    var send = \"\";\n",
       "    var keep_item = -1;\n",
       "    var text_menu = update_menu_string(sbegin, 2, 4, sformat, send, keep_item);\n",
       "    var menu = document.getElementById(\"my_id_menu_nb\");\n",
       "    menu.innerHTML=text_menu;\n",
       "};\n",
       "window.setTimeout(update_menu,2000);\n",
       "            </script>"
      ],
      "text/plain": [
       "<IPython.core.display.HTML object>"
      ]
     },
     "execution_count": 10,
     "metadata": {},
     "output_type": "execute_result"
    }
   ],
   "source": [
    "from pyquickhelper.ipythonhelper import add_notebook_menu\n",
    "add_notebook_menu()"
   ]
  },
  {
   "cell_type": "markdown",
   "metadata": {
    "collapsed": true,
    "slideshow": {
     "slide_type": "slide"
    }
   },
   "source": [
    "## Formalisation d’un système de recommandation\n",
    "\n",
    "![grid](img_grid.png)\n",
    "\n"
   ]
  },
  {
   "cell_type": "markdown",
   "metadata": {
    "slideshow": {
     "slide_type": "subslide"
    }
   },
   "source": [
    "### Tenseur\n",
    "\n",
    "* Tenseur = matrice multidimensionnelle\n",
    "    * Utilisateur\n",
    "    * Produit\n",
    "    * Temps\n",
    "    * Localisation\n",
    "    * Contexte\n",
    "* Quelle valeur pour les paires non observées ?\n",
    "* Chaque dimension multiplie les possibilités sans multiplier les données.\n",
    "* [Non-negative matrix factorization](https://en.wikipedia.org/wiki/Non-negative_matrix_factorization)"
   ]
  },
  {
   "cell_type": "markdown",
   "metadata": {
    "slideshow": {
     "slide_type": "subslide"
    }
   },
   "source": [
    "### Système de recommandation, ranking\n",
    "\n",
    "* Ranking similaire à un système de recommandation\n",
    "    * Requête --> résultats conseillés\n",
    "    * Requête --> requêtes associées (Related Searches)\n",
    "* Recommandation pure\n",
    "    * Le système n'utilise pas d'information sur le contenu\n",
    "    * Uniquement basée sur l'évaluation implicite faite par l’utilisateur (le clic)\n",
    "\n",
    "\n"
   ]
  },
  {
   "cell_type": "markdown",
   "metadata": {
    "slideshow": {
     "slide_type": "subslide"
    }
   },
   "source": [
    "### Recommandation en pratique\n",
    "\n",
    "* Système de recommandation pure --> une feature\n",
    "* Features extraites à partir du contenu, du contexte, de l'utilisateur\n",
    "* Utilisation de classifieurs intermédiaires (annotation manuelle, catégorisation)\n",
    "* Apprendre le feedback des utilisateurs, généraliser là où il n'est pas\n",
    "\n",
    "![recsys](img_feat2.png)"
   ]
  },
  {
   "cell_type": "markdown",
   "metadata": {
    "slideshow": {
     "slide_type": "slide"
    }
   },
   "source": [
    "## Offline / Online\n",
    "\n",
    "**Online**\n",
    "\n",
    "* Le service qui délivre les réponses à l'utilisateur.\n",
    "* Quelques millisecondes\n",
    "\n",
    "**Offline**\n",
    "\n",
    "* Tout les traitements qui produisent les données que le service online utilisent.\n",
    "* Data workflows\n",
    "* Rafraîchissmeent fréquents et périodiques"
   ]
  },
  {
   "cell_type": "markdown",
   "metadata": {
    "slideshow": {
     "slide_type": "subslide"
    }
   },
   "source": [
    "### Offline – cycle long – beaucoup de map reduce - machine learning\n",
    "\n",
    "* Utilisation de logs d'événements (achats, clic)\n",
    "* Génération de candidats : requête --> liste de résultats, système de recommandations\n",
    "* Extraction de features (requête, résultat, paire requête résultats)\n",
    "* Machine learning, targets construits à partir des des clics\n",
    "\n",
    "\n",
    "Construction d'une liste de recommandations à utiliser online $\\sim O(100M)$."
   ]
  },
  {
   "cell_type": "markdown",
   "metadata": {
    "slideshow": {
     "slide_type": "subslide"
    }
   },
   "source": [
    "### Online – cycle très court\n",
    "\n",
    "* Ranking online --> doit être rapide\n",
    "* Personnalisation ?\n",
    "* Compromis performance / pertinence"
   ]
  },
  {
   "cell_type": "markdown",
   "metadata": {
    "slideshow": {
     "slide_type": "subslide"
    }
   },
   "source": [
    "### Systèmes de contrôle\n",
    "\n",
    "* Black lists / while lists\n",
    "* Possibilité de revenir à une version antérieure"
   ]
  },
  {
   "cell_type": "markdown",
   "metadata": {
    "slideshow": {
     "slide_type": "subslide"
    }
   },
   "source": [
    "### Usure régulière\n",
    "\n",
    "* Sans réapprentissage : dégradation des performances du ranker\n",
    "* Croissance régulière des jeux de données\n",
    "* Croissance des temps de traitements\n",
    "* Nouvelles requêtes, livres, comment gérer ?"
   ]
  },
  {
   "cell_type": "markdown",
   "metadata": {
    "slideshow": {
     "slide_type": "slide"
    }
   },
   "source": [
    "## Kaggle VS machine learning en continu\n",
    "\n",
    "* Kaggle = une compétition d'un jour\n",
    "    * Ingéniérie << recherche\n",
    "* Production = réapprentissage en continu\n",
    "    * Ingéniérie > recherche"
   ]
  },
  {
   "cell_type": "markdown",
   "metadata": {
    "slideshow": {
     "slide_type": "subslide"
    }
   },
   "source": [
    "### Workflow, pipeline ML\n",
    "\n",
    "Always growing.\n",
    "\n",
    "![workflow](img_workflow2.png)"
   ]
  },
  {
   "cell_type": "markdown",
   "metadata": {
    "slideshow": {
     "slide_type": "subslide"
    }
   },
   "source": [
    "### Questions difficiles\n",
    "\n",
    "* Mesurer l'impact d'une modification ?\n",
    "    * Au début du pipeline ?\n",
    "    * A la fin du pipeline ?\n",
    "* Corrélation entre\n",
    "    * La performance offline du pipeline\n",
    "    * Les préférances des utilisateurs (test A/B)\n",
    "* Impact d'une modification sur les données d'apprentissage futures ?\n"
   ]
  },
  {
   "cell_type": "markdown",
   "metadata": {
    "slideshow": {
     "slide_type": "subslide"
    }
   },
   "source": [
    "### Vécu\n",
    "\n",
    "* Documentation manquante ou orale (black list, seuils...)\n",
    "* On préfère ajouter un patchs que de modifier un code existant.\n",
    "* Implémentation pas forcément conçue pour tout volume de données.\n",
    "* Difficulté de changer de technos ou d'algorithmes\n",
    "* Agilité VS robusté\n",
    "* Test unitaires sur des clusters : pas de solutions miracles"
   ]
  },
  {
   "cell_type": "markdown",
   "metadata": {
    "slideshow": {
     "slide_type": "slide"
    }
   },
   "source": [
    "## Quelques paris sur l'avenir\n",
    "\n",
    "**Métrique **\n",
    "\n",
    "* Rôle d’une suggestion dans le parcours utilisateur ?\n",
    "* Clic sur une suggestion : est-elle drôle ou pertinente ?\n",
    "* Appauvrissement des données dû aux suggestions \n",
    "\n",
    "**Personnalisation renforcée**\n",
    "\n",
    "* Un utilisateur voit différentes suggestions même s'il fait la même requête\n",
    "* Prise en compte de l'heure, de la météo...\n",
    "\n",
    "**Apprentissage par renforcement**\n",
    "\n",
    "* Randomisation des algorithmes\n",
    "* Utiliser l'utilisateur pour faire converger le système\n",
    "* [MWT](http://research.microsoft.com/en-us/projects/mwt/)"
   ]
  }
 ],
 "metadata": {
  "celltoolbar": "Slideshow",
  "kernelspec": {
   "display_name": "Python 3",
   "language": "python",
   "name": "python3"
  },
  "language_info": {
   "codemirror_mode": {
    "name": "ipython",
    "version": 3
   },
   "file_extension": ".py",
   "mimetype": "text/x-python",
   "name": "python",
   "nbconvert_exporter": "python",
   "pygments_lexer": "ipython3",
   "version": "3.5.0"
  },
  "widgets": {
   "state": {},
   "version": "1.1.2"
  }
 },
 "nbformat": 4,
 "nbformat_minor": 0
}
