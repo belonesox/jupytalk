{
  "cells": [
    {
      "cell_type": "markdown",
      "metadata": {},
      "source": [
        "# Les algorithmes, outils de d\u00e9cision automatique. L\u2019exemple du trading algorithmique"
      ]
    },
    {
      "cell_type": "markdown",
      "metadata": {},
      "source": [
        "## Introduction"
      ]
    },
    {
      "cell_type": "markdown",
      "metadata": {},
      "source": [
        "### Plan"
      ]
    },
    {
      "cell_type": "code",
      "execution_count": null,
      "metadata": {},
      "outputs": [
        {
          "data": {
            "text/html": [
              "<div id=\"my_id_menu_nb\">run previous cell, wait for 2 seconds</div>\n",
              "<script>\n",
              "function repeat_indent_string(n){\n",
              "    var a = \"\" ;\n",
              "    for ( ; n > 0 ; --n) {\n",
              "        a += \"    \";\n",
              "    }\n",
              "    return a;\n",
              "}\n",
              "var update_menu_string = function(begin, lfirst, llast, sformat, send, keep_item) {\n",
              "    var anchors = document.getElementsByClassName(\"section\");\n",
              "    if (anchors.length == 0) {\n",
              "        anchors = document.getElementsByClassName(\"text_cell_render rendered_html\");\n",
              "    }\n",
              "    var i,t;\n",
              "    var text_menu = begin;\n",
              "    var text_memo = \"<pre>\\nlength:\" + anchors.length + \"\\n\";\n",
              "    var ind = \"\";\n",
              "    var memo_level = 1;\n",
              "    var href;\n",
              "    var tags = [];\n",
              "    var main_item = 0;\n",
              "    for (i = 0; i <= llast; i++) {\n",
              "        tags.push(\"h\" + i);\n",
              "    }\n",
              "\n",
              "    for (i = 0; i < anchors.length; i++) {\n",
              "        text_memo += \"**\" + anchors[i].id + \"--\\n\";\n",
              "\n",
              "        var child = null;\n",
              "        for(t = 0; t < tags.length; t++) {\n",
              "            var r = anchors[i].getElementsByTagName(tags[t]);\n",
              "            if (r.length > 0) {\n",
              "child = r[0];\n",
              "break;\n",
              "            }\n",
              "        }\n",
              "        if (child == null){\n",
              "            text_memo += \"null\\n\";\n",
              "            continue;\n",
              "        }\n",
              "        if (anchors[i].hasAttribute(\"id\")) {\n",
              "            // when converted in RST\n",
              "            href = anchors[i].id;\n",
              "            text_memo += \"#1-\" + href;\n",
              "            // passer \u00e0 child suivant (le chercher)\n",
              "        }\n",
              "        else if (child.hasAttribute(\"id\")) {\n",
              "            // in a notebook\n",
              "            href = child.id;\n",
              "            text_memo += \"#2-\" + href;\n",
              "        }\n",
              "        else {\n",
              "            text_memo += \"#3-\" + \"*\" + \"\\n\";\n",
              "            continue;\n",
              "        }\n",
              "        var title = child.textContent;\n",
              "        var level = parseInt(child.tagName.substring(1,2));\n",
              "\n",
              "        text_memo += \"--\" + level + \"?\" + lfirst + \"--\" + title + \"\\n\";\n",
              "\n",
              "        if ((level < lfirst) || (level > llast)) {\n",
              "            continue ;\n",
              "        }\n",
              "        if (title.endsWith('\u00b6')) {\n",
              "            title = title.substring(0,title.length-1).replace(\"<\", \"&lt;\").replace(\">\", \"&gt;\").replace(\"&\", \"&amp;\")\n",
              "        }\n",
              "\n",
              "        if (title.length == 0) {\n",
              "            continue;\n",
              "        }\n",
              "\n",
              "        while (level < memo_level) {\n",
              "            text_menu += \"</ul>\\n\";\n",
              "            memo_level -= 1;\n",
              "        }\n",
              "        if (level == lfirst) {\n",
              "            main_item += 1;\n",
              "        }\n",
              "        if (keep_item != -1 && main_item != keep_item + 1) {\n",
              "            // alert(main_item + \" - \" + level + \" - \" + keep_item);\n",
              "            continue;\n",
              "        }\n",
              "        while (level > memo_level) {\n",
              "            text_menu += \"<ul>\\n\";\n",
              "            memo_level += 1;\n",
              "        }\n",
              "        text_menu += repeat_indent_string(level-2) + sformat.replace(\"__HREF__\", href).replace(\"__TITLE__\", title);\n",
              "    }\n",
              "    while (1 < memo_level) {\n",
              "        text_menu += \"</ul>\\n\";\n",
              "        memo_level -= 1;\n",
              "    }\n",
              "    text_menu += send;\n",
              "    //text_menu += \"\\n\" + text_memo;\n",
              "    return text_menu;\n",
              "};\n",
              "var update_menu = function() {\n",
              "    var sbegin = \"\";\n",
              "    var sformat = '<li><a href=\"#__HREF__\">__TITLE__</a></li>';\n",
              "    var send = \"\";\n",
              "    var keep_item = -1;\n",
              "    var text_menu = update_menu_string(sbegin, 2, 2, sformat, send, keep_item);\n",
              "    var menu = document.getElementById(\"my_id_menu_nb\");\n",
              "    menu.innerHTML=text_menu;\n",
              "};\n",
              "window.setTimeout(update_menu,2000);\n",
              "            </script>"
            ],
            "text/plain": [
              "<IPython.core.display.HTML object>"
            ]
          },
          "execution_count": null,
          "metadata": {},
          "output_type": "execute_result"
        }
      ],
      "source": [
        "from jyquickhelper import add_notebook_menu\n",
        "add_notebook_menu(last_level=2)"
      ]
    },
    {
      "cell_type": "markdown",
      "metadata": {},
      "source": [
        "### A propos de moi\n",
        "\n",
        "* Senior Data Scientist chez Microsoft\n",
        "* Professeur \u00e0 l'ENSAE depuis 2000\n",
        "* Professeur dans la voie data science depuis 2014\n",
        "* Formation Data Science de l'Institut des Actuaires\n",
        "* [lesenfantscodaient.fr](http://lesenfantscodaient.fr)\n",
        "* Passage en finance (hedge funds), travail sur des algorithmes de trading automatiques (2007)"
      ]
    },
    {
      "cell_type": "markdown",
      "metadata": {},
      "source": [
        "### A qui s'adresse cette pr\u00e9sentation\n",
        "\n",
        "* au plus grand nombre"
      ]
    },
    {
      "cell_type": "markdown",
      "metadata": {},
      "source": [
        "## Raccourcis d'histoire financi\u00e8re et technique\n",
        "\n",
        "* On d\u00e9bute en 1971.\n",
        "* L'informatique et les math\u00e9matiques.\n",
        "* Automatisation."
      ]
    },
    {
      "cell_type": "markdown",
      "metadata": {},
      "source": [
        "### Bretton Woods 1971 : le d\u00e9but de la technique\n",
        "\n",
        "* Source : [Comment j'ai d\u00e9test\u00e9 les maths](http://www.arte.tv/guide/fr/068432-000-A/comment-j-ai-deteste-les-maths)\n",
        "* Arr\u00eat de la politique du taux de change unique.\n",
        "* Volont\u00e9 des soci\u00e9t\u00e9s multinationales de s'assurer contre le risque de change.\n",
        "* D\u00e9but de la mod\u00e9lisation math\u00e9matique."
      ]
    },
    {
      "cell_type": "markdown",
      "metadata": {
        "collapsed": true
      },
      "source": [
        "### Informatisation\n",
        "\n",
        "* 1984 : d\u00e9mat\u00e9rialisation des titres \u00e0 la bourse fran\u00e7aise\n",
        "* 1986 : CAC (Compagnie de Agents de Changes) devient la *Cotation Assist\u00e9e en Continu*.\n",
        "* 1988 : les ordres sont tous pass\u00e9s depuis des ordinateurs\n",
        "* 1997 : les ECN (Electronic Communication  Network) sont con\u00e7us. Il s'agit de centres informatiques qui mettent en relation les professionnels et les brokers pour effectuer des transactions informatis\u00e9es.\n",
        "* 1997-2002 : premiers algorithmes de trading\n",
        "* 2003 : d\u00e9but du trading haute fr\u00e9quence\n",
        "* 2010 : [Flash Crash](https://fr.wikipedia.org/wiki/Flash_Crash_de_2010), probablement d\u00fb au trading haute fr\u00e9quence"
      ]
    },
    {
      "cell_type": "markdown",
      "metadata": {
        "collapsed": true
      },
      "source": [
        "### La finance est num\u00e9ris\u00e9e\n",
        "\n",
        "* Un des premiers domaines \u00e9conomique enti\u00e8rement num\u00e9ris\u00e9e.\n",
        "* Un des plus profitables.\n",
        "* Capable de recruter les meilleurs talents."
      ]
    },
    {
      "cell_type": "markdown",
      "metadata": {
        "collapsed": true
      },
      "source": [
        "### Hedge Fund\n",
        "\n",
        "* [Renaissance Technologies](https://fr.wikipedia.org/wiki/Renaissance_Technologies)\n",
        "* [CFM](https://fr.wikipedia.org/wiki/Capital_Fund_Management)\n",
        "\n",
        "Ces soci\u00e9t\u00e9s emploient beaucoup de doctors en math\u00e9matiques et physiques."
      ]
    },
    {
      "cell_type": "markdown",
      "metadata": {},
      "source": [
        "### Formation\n",
        "\n",
        "* [Master Probabilit\u00e9s et Finance](http://finance.math.upmc.fr/index2.php) surnomm\u00e9 le master El Karoui\n",
        "\n",
        "Et tout autour du monde et principalement dans les universit\u00e9s anglo-saxonnes :\n",
        "\n",
        "* [MS in Financial Engineering](http://ieor.columbia.edu/ms-financial-engineering)"
      ]
    },
    {
      "cell_type": "markdown",
      "metadata": {},
      "source": [
        "### Automatisation possible\n",
        "\n",
        "Tout est pr\u00eat pour l'automatisation\n",
        "\n",
        "* Tout est num\u00e9rique.\n",
        "* Les meilleurs ing\u00e9nieurs.\n",
        "* Les meilleurs finances. \n",
        "* Le retour sur investissement est tr\u00e8s rapide."
      ]
    },
    {
      "cell_type": "markdown",
      "metadata": {},
      "source": [
        "### Int\u00e9r\u00eat de l'automatisation\n",
        "\n",
        "* Traiter plus de donn\u00e9es.\n",
        "* Traiter autant de donn\u00e9es mais plus vite.\n",
        "\n",
        "Pour \u00eatre meilleur que le concurrent."
      ]
    },
    {
      "cell_type": "markdown",
      "metadata": {},
      "source": [
        "## Cas concret\n",
        "\n",
        "* Un exemple d'algorithme de trading algorithmique : trend following.\n",
        "* Notion de back test\n",
        "* Trading haute fr\u00e9quence ?\n",
        "* Machine learning"
      ]
    },
    {
      "cell_type": "markdown",
      "metadata": {},
      "source": [
        "### Une s\u00e9rie financi\u00e8re"
      ]
    },
    {
      "cell_type": "code",
      "execution_count": null,
      "metadata": {},
      "outputs": [
        {
          "data": {
            "text/html": [
              "<div>\n",
              "<table border=\"1\" class=\"dataframe\">\n",
              "  <thead>\n",
              "    <tr style=\"text-align: right;\">\n",
              "      <th></th>\n",
              "      <th>Date</th>\n",
              "      <th>Open</th>\n",
              "      <th>High</th>\n",
              "      <th>Low</th>\n",
              "      <th>Close</th>\n",
              "      <th>Volume</th>\n",
              "      <th>Adj Close</th>\n",
              "    </tr>\n",
              "    <tr>\n",
              "      <th>Date</th>\n",
              "      <th></th>\n",
              "      <th></th>\n",
              "      <th></th>\n",
              "      <th></th>\n",
              "      <th></th>\n",
              "      <th></th>\n",
              "      <th></th>\n",
              "    </tr>\n",
              "  </thead>\n",
              "  <tbody>\n",
              "    <tr>\n",
              "      <th>2017-04-12</th>\n",
              "      <td>2017-04-12</td>\n",
              "      <td>59.65</td>\n",
              "      <td>59.96</td>\n",
              "      <td>58.72</td>\n",
              "      <td>59.10</td>\n",
              "      <td>3248500</td>\n",
              "      <td>56.3162</td>\n",
              "    </tr>\n",
              "    <tr>\n",
              "      <th>2017-04-13</th>\n",
              "      <td>2017-04-13</td>\n",
              "      <td>59.25</td>\n",
              "      <td>59.25</td>\n",
              "      <td>57.90</td>\n",
              "      <td>58.30</td>\n",
              "      <td>4836400</td>\n",
              "      <td>55.5538</td>\n",
              "    </tr>\n",
              "    <tr>\n",
              "      <th>2017-04-14</th>\n",
              "      <td>2017-04-14</td>\n",
              "      <td>58.30</td>\n",
              "      <td>58.30</td>\n",
              "      <td>58.30</td>\n",
              "      <td>58.30</td>\n",
              "      <td>0</td>\n",
              "      <td>55.5538</td>\n",
              "    </tr>\n",
              "    <tr>\n",
              "      <th>2017-04-17</th>\n",
              "      <td>2017-04-17</td>\n",
              "      <td>58.30</td>\n",
              "      <td>58.30</td>\n",
              "      <td>58.30</td>\n",
              "      <td>58.30</td>\n",
              "      <td>0</td>\n",
              "      <td>55.5538</td>\n",
              "    </tr>\n",
              "    <tr>\n",
              "      <th>2017-04-18</th>\n",
              "      <td>2017-04-18</td>\n",
              "      <td>58.50</td>\n",
              "      <td>58.74</td>\n",
              "      <td>57.24</td>\n",
              "      <td>57.32</td>\n",
              "      <td>5836100</td>\n",
              "      <td>54.6200</td>\n",
              "    </tr>\n",
              "  </tbody>\n",
              "</table>\n",
              "</div>"
            ],
            "text/plain": [
              "                  Date   Open   High    Low  Close   Volume  Adj Close\n",
              "Date                                                                  \n",
              "2017-04-12  2017-04-12  59.65  59.96  58.72  59.10  3248500    56.3162\n",
              "2017-04-13  2017-04-13  59.25  59.25  57.90  58.30  4836400    55.5538\n",
              "2017-04-14  2017-04-14  58.30  58.30  58.30  58.30        0    55.5538\n",
              "2017-04-17  2017-04-17  58.30  58.30  58.30  58.30        0    55.5538\n",
              "2017-04-18  2017-04-18  58.50  58.74  57.24  57.32  5836100    54.6200"
            ]
          },
          "execution_count": null,
          "metadata": {},
          "output_type": "execute_result"
        }
      ],
      "source": [
        "from pyensae.finance import StockPrices\n",
        "prices = StockPrices(tick = \"BNP.PA\")\n",
        "prices.dataframe.tail()"
      ]
    },
    {
      "cell_type": "code",
      "execution_count": null,
      "metadata": {
        "collapsed": true
      },
      "outputs": [],
      "source": [
        "%matplotlib inline"
      ]
    },
    {
      "cell_type": "code",
      "execution_count": null,
      "metadata": {},
      "outputs": [
        {
          "data": {
            "text/plain": [
              "<matplotlib.axes._subplots.AxesSubplot at 0x1afa5670a58>"
            ]
          },
          "execution_count": null,
          "metadata": {},
          "output_type": "execute_result"
        },
        {
          "data": {
            "image/png": "[encoded data removed]",
            "text/plain": [
              "<matplotlib.figure.Figure at 0x1afa55e44e0>"
            ]
          },
          "metadata": {},
          "output_type": "display_data"
        }
      ],
      "source": [
        "prices.plot(figsize=(14,4))"
      ]
    },
    {
      "cell_type": "code",
      "execution_count": null,
      "metadata": {},
      "outputs": [
        {
          "data": {
            "text/plain": [
              "<matplotlib.axes._subplots.AxesSubplot at 0x1afa6d36780>"
            ]
          },
          "execution_count": null,
          "metadata": {},
          "output_type": "execute_result"
        },
        {
          "data": {
            "image/png": "[encoded data removed]",
            "text/plain": [
              "<matplotlib.figure.Figure at 0x1afa6d10a90>"
            ]
          },
          "metadata": {},
          "output_type": "display_data"
        }
      ],
      "source": [
        "prices[-20:].plot(figsize=(14,4))"
      ]
    },
    {
      "cell_type": "markdown",
      "metadata": {},
      "source": [
        "#### Automatisation : quantit\u00e9\n",
        "\n",
        "* automatisation pourquoi ?\n",
        "* hors limite humaine : vitesse de traitement, volume de donn\u00e9es\n",
        "* limite des 150"
      ]
    },
    {
      "cell_type": "markdown",
      "metadata": {},
      "source": [
        "#### Automatisation d'un savoir\n",
        "\n",
        "* transcription d'une r\u00e9flexion en algorithme\n",
        "* exp\u00e9rience chez A2iA"
      ]
    },
    {
      "cell_type": "markdown",
      "metadata": {},
      "source": [
        "#### Quantit\u00e9 de donn\u00e9es\n",
        "\n",
        "* exemples de strat\u00e9gies\n",
        "* trend following\n",
        "* notion d'indicateurs\n",
        "* back test\n",
        "* co\u00fbt de transation et slippage\n",
        "* stop order"
      ]
    },
    {
      "cell_type": "markdown",
      "metadata": {},
      "source": [
        "#### Vitesse de traitement\n",
        "\n",
        "* trading haute fr\u00e9quence\n",
        "* quelques millisecondes qui changent tout, notion d'order book\n",
        "* syst\u00e8me d'exploitation issu des avions\n",
        "* automatisation des passages d'ordres\n",
        "* projet hibernia"
      ]
    },
    {
      "cell_type": "markdown",
      "metadata": {},
      "source": [
        "#### Machine Learning\n",
        "\n",
        "* aspect bo\u00eete noire\n",
        "* automatisatin information, statistique (pr\u00e9sentation devoxx)\n",
        "* exemple de strat\u00e9gie de trading"
      ]
    },
    {
      "cell_type": "markdown",
      "metadata": {},
      "source": [
        "#### Conclusion et ouverture\n",
        "\n",
        "* mod\u00e8le micro / macro\n",
        "* finance vers data sience\n",
        "* real time bidding - finance en temps r\u00e9el et enti\u00e8rement automatis\u00e9e\n",
        "* usage de donn\u00e9es non n\u00e9cessairement num\u00e9rique (news financi\u00e8res, twitter, bloomberg)\n",
        "* deep learning\n",
        "* d\u00e9mo devoxx\n",
        "* dimension \u00e9thique, fluidit\u00e9 des march\u00e9s, utilisations des meilleurs talents\n",
        "* importance de la programmation\n",
        "* traitement de l'informatiion que les autres ne font pas\n",
        "* c\u00f4t\u00e9 \u00e9tique : parall\u00e8le avec l'assurance\n",
        "* aspect court terme d'un point de vue \u00e9conomique"
      ]
    },
    {
      "cell_type": "code",
      "execution_count": null,
      "metadata": {
        "collapsed": true
      },
      "outputs": [],
      "source": []
    }
  ],
  "metadata": {
    "kernelspec": {
      "display_name": "Python 3",
      "language": "python",
      "name": "python3"
    },
    "language_info": {
      "codemirror_mode": {
        "name": "ipython",
        "version": 3
      },
      "file_extension": ".py",
      "mimetype": "text/x-python",
      "name": "python",
      "nbconvert_exporter": "python",
      "pygments_lexer": "ipython3",
      "version": "3.6.1"
    }
  },
  "nbformat": 4,
  "nbformat_minor": 2
}