{
  "cells": [
    {
      "cell_type": "markdown",
      "metadata": {},
      "source": [
        "# Les algorithmes, outils de d\u00e9cision automatique. L\u2019exemple du trading algorithmique\n",
        "\n",
        "Xavier Dupr\u00e9"
      ]
    },
    {
      "cell_type": "markdown",
      "metadata": {},
      "source": [
        "## Introduction"
      ]
    },
    {
      "cell_type": "markdown",
      "metadata": {
        "slideshow": {
          "slide_type": "subslide"
        }
      },
      "source": [
        "### Plan"
      ]
    },
    {
      "cell_type": "code",
      "execution_count": 1,
      "metadata": {
        "slideshow": {
          "slide_type": "fragment"
        }
      },
      "outputs": [
        {
          "data": {
            "text/html": [
              "<div id=\"main\">run previous cell, wait for 2 seconds</div>\n",
              "<script>\n",
              "function repeat_indent_string(n){\n",
              "    var a = \"\" ;\n",
              "    for ( ; n > 0 ; --n)\n",
              "        a += \"    \";\n",
              "    return a;\n",
              "}\n",
              "var update_menu_string = function(begin, lfirst, llast, sformat, send, keep_item, begin_format, end_format) {\n",
              "    var anchors = document.getElementsByClassName(\"section\");\n",
              "    if (anchors.length == 0) {\n",
              "        anchors = document.getElementsByClassName(\"text_cell_render rendered_html\");\n",
              "    }\n",
              "    var i,t;\n",
              "    var text_menu = begin;\n",
              "    var text_memo = \"<pre>\\nlength:\" + anchors.length + \"\\n\";\n",
              "    var ind = \"\";\n",
              "    var memo_level = 1;\n",
              "    var href;\n",
              "    var tags = [];\n",
              "    var main_item = 0;\n",
              "    var format_open = 0;\n",
              "    for (i = 0; i <= llast; i++)\n",
              "        tags.push(\"h\" + i);\n",
              "\n",
              "    for (i = 0; i < anchors.length; i++) {\n",
              "        text_memo += \"**\" + anchors[i].id + \"--\\n\";\n",
              "\n",
              "        var child = null;\n",
              "        for(t = 0; t < tags.length; t++) {\n",
              "            var r = anchors[i].getElementsByTagName(tags[t]);\n",
              "            if (r.length > 0) {\n",
              "child = r[0];\n",
              "break;\n",
              "            }\n",
              "        }\n",
              "        if (child == null) {\n",
              "            text_memo += \"null\\n\";\n",
              "            continue;\n",
              "        }\n",
              "        if (anchors[i].hasAttribute(\"id\")) {\n",
              "            // when converted in RST\n",
              "            href = anchors[i].id;\n",
              "            text_memo += \"#1-\" + href;\n",
              "            // passer \u00e0 child suivant (le chercher)\n",
              "        }\n",
              "        else if (child.hasAttribute(\"id\")) {\n",
              "            // in a notebook\n",
              "            href = child.id;\n",
              "            text_memo += \"#2-\" + href;\n",
              "        }\n",
              "        else {\n",
              "            text_memo += \"#3-\" + \"*\" + \"\\n\";\n",
              "            continue;\n",
              "        }\n",
              "        var title = child.textContent;\n",
              "        var level = parseInt(child.tagName.substring(1,2));\n",
              "\n",
              "        text_memo += \"--\" + level + \"?\" + lfirst + \"--\" + title + \"\\n\";\n",
              "\n",
              "        if ((level < lfirst) || (level > llast)) {\n",
              "            continue ;\n",
              "        }\n",
              "        if (title.endsWith('\u00b6')) {\n",
              "            title = title.substring(0,title.length-1).replace(\"<\", \"&lt;\")\n",
              "         .replace(\">\", \"&gt;\").replace(\"&\", \"&amp;\");\n",
              "        }\n",
              "        if (title.length == 0) {\n",
              "            continue;\n",
              "        }\n",
              "\n",
              "        while (level < memo_level) {\n",
              "            text_menu += end_format + \"</ul>\\n\";\n",
              "            format_open -= 1;\n",
              "            memo_level -= 1;\n",
              "        }\n",
              "        if (level == lfirst) {\n",
              "            main_item += 1;\n",
              "        }\n",
              "        if (keep_item != -1 && main_item != keep_item + 1) {\n",
              "            // alert(main_item + \" - \" + level + \" - \" + keep_item);\n",
              "            continue;\n",
              "        }\n",
              "        while (level > memo_level) {\n",
              "            text_menu += \"<ul>\\n\";\n",
              "            memo_level += 1;\n",
              "        }\n",
              "        text_menu += repeat_indent_string(level-2);\n",
              "        text_menu += begin_format + sformat.replace(\"__HREF__\", href).replace(\"__TITLE__\", title);\n",
              "        format_open += 1;\n",
              "    }\n",
              "    while (1 < memo_level) {\n",
              "        text_menu += end_format + \"</ul>\\n\";\n",
              "        memo_level -= 1;\n",
              "        format_open -= 1;\n",
              "    }\n",
              "    text_menu += send;\n",
              "    //text_menu += \"\\n\" + text_memo;\n",
              "\n",
              "    while (format_open > 0) {\n",
              "        text_menu += end_format;\n",
              "        format_open -= 1;\n",
              "    }\n",
              "    return text_menu;\n",
              "};\n",
              "var update_menu = function() {\n",
              "    var sbegin = \"\";\n",
              "    var sformat = '<a href=\"#__HREF__\">__TITLE__</a>';\n",
              "    var send = \"\";\n",
              "    var begin_format = '<li>';\n",
              "    var end_format = '</li>';\n",
              "    var keep_item = -1;\n",
              "    var text_menu = update_menu_string(sbegin, 2, 2, sformat, send, keep_item,\n",
              "       begin_format, end_format);\n",
              "    var menu = document.getElementById(\"main\");\n",
              "    menu.innerHTML=text_menu;\n",
              "};\n",
              "window.setTimeout(update_menu,2000);\n",
              "            </script>"
            ],
            "text/plain": [
              "<IPython.core.display.HTML object>"
            ]
          },
          "execution_count": 2,
          "metadata": {},
          "output_type": "execute_result"
        }
      ],
      "source": [
        "from jyquickhelper import add_notebook_menu\n",
        "add_notebook_menu(last_level=2, menu_id=\"main\")"
      ]
    },
    {
      "cell_type": "markdown",
      "metadata": {},
      "source": [
        "### A propos de moi\n",
        "\n",
        "* Senior Data Scientist chez Microsoft\n",
        "* Professeur \u00e0 l'ENSAE depuis 2000\n",
        "* Professeur dans la voie data science depuis 2014\n",
        "* Formation Data Science de l'Institut des Actuaires\n",
        "* [lesenfantscodaient.fr](http://lesenfantscodaient.fr)\n",
        "* Passage en finance (hedge funds), travail sur des algorithmes de trading automatiques (2007)"
      ]
    },
    {
      "cell_type": "markdown",
      "metadata": {},
      "source": [
        "### A qui s'adresse cette pr\u00e9sentation\n",
        "\n",
        "* au plus grand nombre"
      ]
    },
    {
      "cell_type": "markdown",
      "metadata": {},
      "source": [
        "## Raccourcis d'histoire financi\u00e8re et technique\n",
        "\n",
        "* On d\u00e9bute en 1971.\n",
        "* L'informatique et les math\u00e9matiques.\n",
        "* Automatisation."
      ]
    },
    {
      "cell_type": "markdown",
      "metadata": {},
      "source": [
        "### Bretton Woods 1971 : le d\u00e9but de la technique\n",
        "\n",
        "* Source : [Comment j'ai d\u00e9test\u00e9 les maths](http://www.arte.tv/guide/fr/068432-000-A/comment-j-ai-deteste-les-maths)\n",
        "* Arr\u00eat de la politique du taux de change unique.\n",
        "* Volont\u00e9 des soci\u00e9t\u00e9s multinationales de s'assurer contre le risque de change.\n",
        "* D\u00e9but de la mod\u00e9lisation math\u00e9matique."
      ]
    },
    {
      "cell_type": "markdown",
      "metadata": {
        "collapsed": true
      },
      "source": [
        "### Informatisation\n",
        "\n",
        "* 1984 : d\u00e9mat\u00e9rialisation des titres \u00e0 la bourse fran\u00e7aise\n",
        "* 1986 : CAC (Compagnie de Agents de Changes) devient la *Cotation Assist\u00e9e en Continu*.\n",
        "* 1988 : les ordres sont tous pass\u00e9s depuis des ordinateurs\n",
        "* 1997 : les ECN (Electronic Communication  Network) sont con\u00e7us. Il s'agit de centres informatiques qui mettent en relation les professionnels et les brokers pour effectuer des transactions informatis\u00e9es.\n",
        "* 1997-2002 : premiers algorithmes de trading\n",
        "* 2003 : d\u00e9but du trading haute fr\u00e9quence\n",
        "* 2010 : [Flash Crash](https://fr.wikipedia.org/wiki/Flash_Crash_de_2010), probablement d\u00fb au trading haute fr\u00e9quence"
      ]
    },
    {
      "cell_type": "markdown",
      "metadata": {
        "collapsed": true
      },
      "source": [
        "### La finance est num\u00e9ris\u00e9e\n",
        "\n",
        "* Un des premiers domaines \u00e9conomique enti\u00e8rement num\u00e9ris\u00e9e.\n",
        "* Un des plus profitables.\n",
        "* Capable de recruter les meilleurs talents."
      ]
    },
    {
      "cell_type": "markdown",
      "metadata": {
        "collapsed": true
      },
      "source": [
        "### Hedge Fund\n",
        "\n",
        "* [Renaissance Technologies](https://fr.wikipedia.org/wiki/Renaissance_Technologies)\n",
        "* [CFM](https://fr.wikipedia.org/wiki/Capital_Fund_Management)\n",
        "\n",
        "Ces soci\u00e9t\u00e9s emploient beaucoup de docteurs en math\u00e9matiques et physiques."
      ]
    },
    {
      "cell_type": "markdown",
      "metadata": {},
      "source": [
        "### Formation\n",
        "\n",
        "* [Master Probabilit\u00e9s et Finance](http://finance.math.upmc.fr/index2.php) surnomm\u00e9 le master El Karoui\n",
        "\n",
        "Et tout autour du monde et principalement dans les universit\u00e9s anglo-saxonnes :\n",
        "\n",
        "* [MS in Financial Engineering](http://ieor.columbia.edu/ms-financial-engineering)"
      ]
    },
    {
      "cell_type": "markdown",
      "metadata": {},
      "source": [
        "### Automatisation possible\n",
        "\n",
        "Tout est pr\u00eat pour l'automatisation\n",
        "\n",
        "* Tout est num\u00e9rique.\n",
        "* Les meilleurs ing\u00e9nieurs.\n",
        "* Les meilleurs finances. \n",
        "* Le retour sur investissement est tr\u00e8s rapide."
      ]
    },
    {
      "cell_type": "markdown",
      "metadata": {},
      "source": [
        "### Int\u00e9r\u00eat de l'automatisation\n",
        "\n",
        "* Traiter plus de donn\u00e9es.\n",
        "* Traiter autant de donn\u00e9es mais plus vite.\n",
        "\n",
        "Pour \u00eatre meilleur que le concurrent. "
      ]
    },
    {
      "cell_type": "markdown",
      "metadata": {},
      "source": [
        "### Probl\u00e8me \u00e0 taille humaine\n",
        "\n",
        "Combien avez-vous d'amis sur Facebook ? \n",
        "\n",
        "[La r\u00e8gle des 150](https://en.wikipedia.org/wiki/The_Tipping_Point)."
      ]
    },
    {
      "cell_type": "markdown",
      "metadata": {
        "slideshow": {
          "slide_type": "slide"
        }
      },
      "source": [
        "## Un cas concret\n",
        "\n",
        "* Un exemple d'algorithme de trading algorithmique : trend following.\n",
        "* Notion de back test\n",
        "* Trading haute fr\u00e9quence ?\n",
        "* Machine learning\n",
        "* Pas un inventaire des strat\u00e9gies existantes."
      ]
    },
    {
      "cell_type": "markdown",
      "metadata": {},
      "source": [
        "### Une s\u00e9rie financi\u00e8re"
      ]
    },
    {
      "cell_type": "code",
      "execution_count": 2,
      "metadata": {},
      "outputs": [
        {
          "data": {
            "text/html": [
              "<div>\n",
              "<style scoped>\n",
              "    .dataframe tbody tr th:only-of-type {\n",
              "        vertical-align: middle;\n",
              "    }\n",
              "\n",
              "    .dataframe tbody tr th {\n",
              "        vertical-align: top;\n",
              "    }\n",
              "\n",
              "    .dataframe thead th {\n",
              "        text-align: right;\n",
              "    }\n",
              "</style>\n",
              "<table border=\"1\" class=\"dataframe\">\n",
              "  <thead>\n",
              "    <tr style=\"text-align: right;\">\n",
              "      <th></th>\n",
              "      <th>Date</th>\n",
              "      <th>Open</th>\n",
              "      <th>High</th>\n",
              "      <th>Low</th>\n",
              "      <th>Close</th>\n",
              "      <th>Adj Close</th>\n",
              "      <th>Volume</th>\n",
              "    </tr>\n",
              "    <tr>\n",
              "      <th>Date</th>\n",
              "      <th></th>\n",
              "      <th></th>\n",
              "      <th></th>\n",
              "      <th></th>\n",
              "      <th></th>\n",
              "      <th></th>\n",
              "      <th></th>\n",
              "    </tr>\n",
              "  </thead>\n",
              "  <tbody>\n",
              "    <tr>\n",
              "      <th>2018-03-12</th>\n",
              "      <td>2018-03-12</td>\n",
              "      <td>96.500000</td>\n",
              "      <td>97.209999</td>\n",
              "      <td>96.040001</td>\n",
              "      <td>96.769997</td>\n",
              "      <td>96.769997</td>\n",
              "      <td>26073700</td>\n",
              "    </tr>\n",
              "    <tr>\n",
              "      <th>2018-03-13</th>\n",
              "      <td>2018-03-13</td>\n",
              "      <td>97.000000</td>\n",
              "      <td>97.239998</td>\n",
              "      <td>93.970001</td>\n",
              "      <td>94.410004</td>\n",
              "      <td>94.410004</td>\n",
              "      <td>35387800</td>\n",
              "    </tr>\n",
              "    <tr>\n",
              "      <th>2018-03-14</th>\n",
              "      <td>2018-03-14</td>\n",
              "      <td>95.120003</td>\n",
              "      <td>95.410004</td>\n",
              "      <td>93.500000</td>\n",
              "      <td>93.849998</td>\n",
              "      <td>93.849998</td>\n",
              "      <td>32132000</td>\n",
              "    </tr>\n",
              "    <tr>\n",
              "      <th>2018-03-15</th>\n",
              "      <td>2018-03-15</td>\n",
              "      <td>93.529999</td>\n",
              "      <td>94.580002</td>\n",
              "      <td>92.830002</td>\n",
              "      <td>94.180000</td>\n",
              "      <td>94.180000</td>\n",
              "      <td>27611000</td>\n",
              "    </tr>\n",
              "    <tr>\n",
              "      <th>2018-03-16</th>\n",
              "      <td>2018-03-16</td>\n",
              "      <td>94.680000</td>\n",
              "      <td>95.379997</td>\n",
              "      <td>93.919998</td>\n",
              "      <td>94.599998</td>\n",
              "      <td>94.599998</td>\n",
              "      <td>48659200</td>\n",
              "    </tr>\n",
              "  </tbody>\n",
              "</table>\n",
              "</div>"
            ],
            "text/plain": [
              "                  Date       Open       High        Low      Close  Adj Close  \\\n",
              "Date                                                                            \n",
              "2018-03-12  2018-03-12  96.500000  97.209999  96.040001  96.769997  96.769997   \n",
              "2018-03-13  2018-03-13  97.000000  97.239998  93.970001  94.410004  94.410004   \n",
              "2018-03-14  2018-03-14  95.120003  95.410004  93.500000  93.849998  93.849998   \n",
              "2018-03-15  2018-03-15  93.529999  94.580002  92.830002  94.180000  94.180000   \n",
              "2018-03-16  2018-03-16  94.680000  95.379997  93.919998  94.599998  94.599998   \n",
              "\n",
              "              Volume  \n",
              "Date                  \n",
              "2018-03-12  26073700  \n",
              "2018-03-13  35387800  \n",
              "2018-03-14  32132000  \n",
              "2018-03-15  27611000  \n",
              "2018-03-16  48659200  "
            ]
          },
          "execution_count": 3,
          "metadata": {},
          "output_type": "execute_result"
        }
      ],
      "source": [
        "from pyensae.finance import StockPrices\n",
        "prices = StockPrices(tick=\"MSFT\", url='yahoo')\n",
        "prices.dataframe.tail()"
      ]
    },
    {
      "cell_type": "code",
      "execution_count": 3,
      "metadata": {},
      "outputs": [],
      "source": [
        "%matplotlib inline"
      ]
    },
    {
      "cell_type": "code",
      "execution_count": 4,
      "metadata": {
        "slideshow": {
          "slide_type": "fragment"
        }
      },
      "outputs": [
        {
          "data": {
            "image/png": "[encoded data removed]",
            "text/plain": [
              "<Figure size 1008x288 with 1 Axes>"
            ]
          },
          "metadata": {},
          "output_type": "display_data"
        }
      ],
      "source": [
        "prices.plot(figsize=(14,4));"
      ]
    },
    {
      "cell_type": "code",
      "execution_count": 5,
      "metadata": {},
      "outputs": [
        {
          "data": {
            "image/png": "[encoded data removed]",
            "text/plain": [
              "<Figure size 1008x288 with 1 Axes>"
            ]
          },
          "metadata": {},
          "output_type": "display_data"
        }
      ],
      "source": [
        "prices[-20:].plot(figsize=(14,4), field=\"ohlc\");"
      ]
    },
    {
      "cell_type": "markdown",
      "metadata": {},
      "source": [
        "### Strat\u00e9gie : trend following\n",
        "\n",
        "Le principe : [trend following](https://en.wikipedia.org/wiki/Trend_following)."
      ]
    },
    {
      "cell_type": "code",
      "execution_count": 6,
      "metadata": {},
      "outputs": [
        {
          "name": "stderr",
          "output_type": "stream",
          "text": [
            "c:\\python36_x64\\lib\\site-packages\\sphinx\\util\\compat.py:40: RemovedInSphinx17Warning: sphinx.util.compat.Directive is deprecated and will be removed in Sphinx 1.7, please use docutils' instead.\n",
            "  RemovedInSphinx17Warning)\n"
          ]
        },
        {
          "data": {
            "image/png": "[encoded data removed]",
            "text/plain": [
              "<IPython.core.display.Image object>"
            ]
          },
          "execution_count": 7,
          "metadata": {
            "image/png": {
              "width": 800
            }
          },
          "output_type": "execute_result"
        }
      ],
      "source": [
        "from pyquickhelper.helpgen import NbImage\n",
        "NbImage(\"images/trend.png\", width=800)"
      ]
    },
    {
      "cell_type": "markdown",
      "metadata": {
        "collapsed": true
      },
      "source": [
        "### La mise au point\n",
        "\n",
        "De nombreux param\u00e8tres :\n",
        "\n",
        "* La longueur de la [moyenne mobile](https://fr.wikipedia.org/wiki/Moyenne_glissante).\n",
        "* La hauteur des [bandes de Bollinger](https://fr.wikipedia.org/wiki/Bandes_de_Bollinger).\n",
        "* La somme investie.\n",
        "* ...\n",
        "\n",
        "Les strat\u00e9gies ont souvent plus d'une dizaine de param\u00e8tres."
      ]
    },
    {
      "cell_type": "markdown",
      "metadata": {
        "slideshow": {
          "slide_type": "subslide"
        }
      },
      "source": [
        "Deux param\u00e8tres en rouge : longueur de la moyenne mobile et la hauteur des bandes de Bollinger"
      ]
    },
    {
      "cell_type": "code",
      "execution_count": 7,
      "metadata": {
        "slideshow": {
          "slide_type": "fragment"
        }
      },
      "outputs": [
        {
          "data": {
            "image/png": "[encoded data removed]",
            "text/plain": [
              "<IPython.core.display.Image object>"
            ]
          },
          "execution_count": 8,
          "metadata": {
            "image/png": {
              "width": 400
            }
          },
          "output_type": "execute_result"
        }
      ],
      "source": [
        "NbImage(\"images/trendp.png\", width=400)"
      ]
    },
    {
      "cell_type": "markdown",
      "metadata": {
        "collapsed": true
      },
      "source": [
        "### Optimisation\n",
        "\n",
        "* Choisir les meilleurs param\u00e8tres\n",
        "* [Backtest](https://en.wikipedia.org/wiki/Backtesting) : simuler la performance de la strat\u00e9gie sur le pass\u00e9"
      ]
    },
    {
      "cell_type": "code",
      "execution_count": 8,
      "metadata": {},
      "outputs": [
        {
          "data": {
            "image/png": "[encoded data removed]",
            "text/plain": [
              "<IPython.core.display.Image object>"
            ]
          },
          "execution_count": 9,
          "metadata": {
            "image/png": {
              "width": 400
            }
          },
          "output_type": "execute_result"
        }
      ],
      "source": [
        "NbImage(\"images/backtest.png\", width=400)"
      ]
    },
    {
      "cell_type": "markdown",
      "metadata": {
        "collapsed": true
      },
      "source": [
        "Comparaison de plusieurs jeux de param\u00e8tres (source [Backtesting a Simple Stock Trading Strategy](https://www.r-bloggers.com/backtesting-a-simple-stock-trading-strategy/))"
      ]
    },
    {
      "cell_type": "code",
      "execution_count": 9,
      "metadata": {
        "slideshow": {
          "slide_type": "fragment"
        }
      },
      "outputs": [
        {
          "data": {
            "image/png": "[encoded data removed]",
            "text/plain": [
              "<IPython.core.display.Image object>"
            ]
          },
          "execution_count": 10,
          "metadata": {
            "image/png": {
              "width": 500
            }
          },
          "output_type": "execute_result"
        }
      ],
      "source": [
        "NbImage(\"images/backtest2.png\", width=500)"
      ]
    },
    {
      "cell_type": "markdown",
      "metadata": {},
      "source": [
        "### Tests exhaustifs\n",
        "\n",
        "* Tester de nombreux jeux de param\u00e8tres\n",
        "* Tester sur un grand nombre de s\u00e9ries financi\u00e8res\n",
        "* Tester la r\u00e9sistance aux crises\n",
        "* Prise en compte de d\u00e9faut de simulation : co\u00fbt de transaction, slippage"
      ]
    },
    {
      "cell_type": "markdown",
      "metadata": {},
      "source": [
        "### Portefeuille de strat\u00e9gies\n",
        "\n",
        "* Impl\u00e9menter une seule strat\u00e9gie est risqu\u00e9.\n",
        "* Construction de portefeuilles de strat\u00e9gies (plus d'une centaine)"
      ]
    },
    {
      "cell_type": "markdown",
      "metadata": {},
      "source": [
        "### Importance de l'informatique\n",
        "\n",
        "* Puissance de calcul\n",
        "* Agilit\u00e9\n",
        "* Passage en production\n",
        "* R\u00e9sistance aux pannes\n",
        "* Utilisation de [stop-order](http://www.investopedia.com/university/intro-to-order-types/stop-orders.asp)"
      ]
    },
    {
      "cell_type": "markdown",
      "metadata": {},
      "source": [
        "### Trading daily, intraday\n",
        "\n",
        "* Daily : calcul des d\u00e9cisions chaque jour\n",
        "* Intraday : calcul des d\u00e9cisions chaque minute\n",
        "* Haute Fr\u00e9quence : calcul d'une d\u00e9cision en quelques millisecondes\n",
        "\n",
        "Plus la vitesse de trading est importante, plus l'informatique joue un grand r\u00f4le, plus le boulot est technique.\n",
        "\n",
        "* La course aux millisecondes : [Hibernia Network](https://en.wikipedia.org/wiki/Hibernia_Networks)."
      ]
    },
    {
      "cell_type": "markdown",
      "metadata": {},
      "source": [
        "## R\u00e9flexions sur la finance\n",
        "\n",
        "* Machine learning, exploitation des news, signaux autres que financiers\n",
        "* C\u00f4t\u00e9 \u00e9thique\n",
        "* Parall\u00e8le avec le real-time-bidding"
      ]
    },
    {
      "cell_type": "markdown",
      "metadata": {
        "collapsed": true
      },
      "source": [
        "### Pourquoi le machine learning ?\n",
        "\n",
        "* **Back test** : m\u00e9thode issue du machine learning\n",
        "* **Bo\u00eete noire** : une fa\u00e7on d'utiliser l'information qu'on ne sait pas utiliser de mani\u00e8re \u00e9vidente\n",
        "* **Traitement des news** : celle-ci ont une influence non n\u00e9gligeable sur les cours mais ce n'est pas une informatique num\u00e9rique.\n",
        "* **Deep learning** : le deep learning fonctionne sur des images, du son, du texte, pourquoi pas sur des cours financiers."
      ]
    },
    {
      "cell_type": "markdown",
      "metadata": {
        "collapsed": true
      },
      "source": [
        "### Ethique\n",
        "\n",
        "* Trading haute fr\u00e9quence : quelques millisecondes d'avance sur les concurrents\n",
        "* plus de 50% des \u00e9changes issus du trading haute fr\u00e9quence\n",
        "* Une plus grande fluidit\u00e9 (possibilit\u00e9 d'acheter et de vendre \u00e0 tout moment)\n",
        "* Quelle utilit\u00e9 \u00e9conomique ?\n",
        "* Recrutement des meilleurs talents"
      ]
    },
    {
      "cell_type": "markdown",
      "metadata": {},
      "source": [
        "### Un parall\u00e8le avec Bitcoin\n",
        "\n",
        "* Le principe de [Bitcoin](https://fr.wikipedia.org/wiki/Bitcoin) : miner\n",
        "* La course \u00e0 la puissance"
      ]
    },
    {
      "cell_type": "markdown",
      "metadata": {},
      "source": [
        "### Un parall\u00e8le avec le Real Time Bidding\n",
        "\n",
        "* [Real Time Bidding](https://fr.wikipedia.org/wiki/Real_Time_Bidding), plate-formes d'\u00e9changes, ench\u00e8res\n",
        "* Publicit\u00e9 sur Internet\n",
        "* Un champion national : Criteo\n",
        "* M\u00e9canisme des ench\u00e8res\n",
        "* Diff\u00e9rence avec la finance : utilisation des donn\u00e9es"
      ]
    },
    {
      "cell_type": "markdown",
      "metadata": {},
      "source": [
        "### Ing\u00e9ni\u00e9risation de la finance\n",
        "\n",
        "* Popularisation du trading automatique.\n",
        "* La finance n'est plus aussi attractive.\n",
        "* Des traders qui passent de la finance \u00e0 la data science."
      ]
    },
    {
      "cell_type": "markdown",
      "metadata": {
        "collapsed": true
      },
      "source": [
        "## Conclusion\n",
        "\n",
        "* Le r\u00f4le pr\u00e9pond\u00e9rant de l'informatique\n",
        "* L'ex\u00e9cution n'est plus manuelle, trop rapide, en trop grand nombre\n",
        "* Le savoir est converti sous forme d'algorithmes.\n",
        "* La finance en dehors de la finance : [Chine: la finance de l'ombre atteint un record](http://lexpansion.lexpress.fr/actualites/1/actualite-economique/chine-la-finance-de-l-ombre-atteint-un-record_1899027.html)"
      ]
    },
    {
      "cell_type": "code",
      "execution_count": 10,
      "metadata": {},
      "outputs": [],
      "source": []
    }
  ],
  "metadata": {
    "kernelspec": {
      "display_name": "Python 3",
      "language": "python",
      "name": "python3"
    },
    "language_info": {
      "codemirror_mode": {
        "name": "ipython",
        "version": 3
      },
      "file_extension": ".py",
      "mimetype": "text/x-python",
      "name": "python",
      "nbconvert_exporter": "python",
      "pygments_lexer": "ipython3",
      "version": "3.6.4"
    }
  },
  "nbformat": 4,
  "nbformat_minor": 2
}